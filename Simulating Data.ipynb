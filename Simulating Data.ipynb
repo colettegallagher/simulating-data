{
 "cells": [
  {
   "cell_type": "markdown",
   "metadata": {},
   "source": [
    "# Programming for Data Analytics - Project"
   ]
  },
  {
   "cell_type": "markdown",
   "metadata": {},
   "source": [
    "# Project - Creating a Data Set which simulates a real-world phenomenon"
   ]
  },
  {
   "cell_type": "markdown",
   "metadata": {},
   "source": [
    "## Introduction\n",
    "\n",
    "This project is modelled on the business activites of the Office of Government Procurement's Education department.\n",
    "\n",
    "The following is a simulation of a data set recording the capital projects of five Irish universities in 2017:\n",
    " - University College Dublin (UCD)\n",
    " - Dublin City University (DCU)\n",
    " - University of Limerick (UL)\n",
    " - Trinity College Dublin (TCD)\n",
    " - National University of Ireland Galway (NUIG)\n",
    "\n",
    "These projects are for five categories:\n",
    " - Laboratory\n",
    " - Agriculture\n",
    " - Veterinary\n",
    " - Library\n",
    " - Education Specific\n",
    " \n",
    "These capital projects have a minimum value of €25,000 and a maximum value of €1,000,000.  The projects are allocated to one of five individuals.  The duration of the projects is between 21 and 60 days.  Project start dates are all in 2017.\n",
    "\n",
    "The project analyses a randomly generated data set which is based on the above information. The aim of the analysis is to investigate the category which is the most beneficial to the organisation based on:\n",
    " - university demand, \n",
    " - the capital spend, \n",
    " - the time spent by employees completing the projects.  \n",
    " \n",
    "It is also hoped that an analysis of the start dates of the projects will allow the organisation to allocate staff accordingly, ie to ensure adequate staff are available at times of high demand.\n"
   ]
  },
  {
   "cell_type": "markdown",
   "metadata": {},
   "source": [
    "### Creating the Random Data Set"
   ]
  },
  {
   "cell_type": "markdown",
   "metadata": {},
   "source": [
    "Import the Pandas, Numpy, Matplotlib and Datetime libraries"
   ]
  },
  {
   "cell_type": "code",
   "execution_count": 9,
   "metadata": {},
   "outputs": [],
   "source": [
    "import pandas as pd"
   ]
  },
  {
   "cell_type": "code",
   "execution_count": 10,
   "metadata": {},
   "outputs": [],
   "source": [
    "import numpy as np"
   ]
  },
  {
   "cell_type": "code",
   "execution_count": 11,
   "metadata": {},
   "outputs": [],
   "source": [
    "import matplotlib.pyplot as plt"
   ]
  },
  {
   "cell_type": "code",
   "execution_count": 12,
   "metadata": {},
   "outputs": [],
   "source": [
    "import datetime"
   ]
  },
  {
   "cell_type": "markdown",
   "metadata": {},
   "source": [
    "Enable matplotlib graphs to be displayed"
   ]
  },
  {
   "cell_type": "code",
   "execution_count": 13,
   "metadata": {},
   "outputs": [],
   "source": [
    "%matplotlib inline"
   ]
  },
  {
   "cell_type": "markdown",
   "metadata": {},
   "source": [
    "Create a random seed to fix the randomly generated data to specifc values each time it is run"
   ]
  },
  {
   "cell_type": "code",
   "execution_count": 14,
   "metadata": {},
   "outputs": [],
   "source": [
    "np.random.seed(0)"
   ]
  },
  {
   "cell_type": "markdown",
   "metadata": {},
   "source": [
    "Set up the lists of University Names, Category Names and Employee Names to be used"
   ]
  },
  {
   "cell_type": "code",
   "execution_count": 17,
   "metadata": {},
   "outputs": [],
   "source": [
    "uni_name = ['UL', 'TCD', 'DCU', 'UCD', 'NUIG']"
   ]
  },
  {
   "cell_type": "code",
   "execution_count": 18,
   "metadata": {},
   "outputs": [],
   "source": [
    "cat_name = ['Vet', 'Agric', 'Lab', 'Library', 'Specific']"
   ]
  },
  {
   "cell_type": "code",
   "execution_count": 19,
   "metadata": {},
   "outputs": [],
   "source": [
    "ee_name = ['Ann', 'Mary', 'Tom', 'John', 'Mark']"
   ]
  },
  {
   "cell_type": "markdown",
   "metadata": {},
   "source": [
    "Create 26 random dates as the start dates for each randomly generated project"
   ]
  },
  {
   "cell_type": "code",
   "execution_count": 20,
   "metadata": {},
   "outputs": [],
   "source": [
    "def random_dates(start, end, n=26):\n",
    "\n",
    "    start_u = start.value//10**9\n",
    "    end_u = end.value//10**9\n",
    "\n",
    "    return pd.to_datetime(np.random.randint(start_u, end_u, n), unit='s')\n",
    "\n",
    "start = pd.to_datetime('2017-01-01')\n",
    "end = pd.to_datetime('2018-01-01')\n"
   ]
  },
  {
   "cell_type": "markdown",
   "metadata": {},
   "source": [
    "Create the random data set which randomly chooses 26 projects broken down into a University, Category, random spend value between €25,000 and €1,000,000, random start date with the year 2017, a random duration for completion of the project between 21 and 60 days and a randomly assigned specialist to complete each project."
   ]
  },
  {
   "cell_type": "code",
   "execution_count": 21,
   "metadata": {},
   "outputs": [],
   "source": [
    "raw_data = {'University': np.random.choice(uni_name, 26), \n",
    "        'Category': np.random.choice(cat_name, 26), \n",
    "        'Spend': np.random.randint(25000, 1000000, 26),\n",
    "        'Start': random_dates(start, end),\n",
    "            'Duration': np.random.randint(21,60, 26),\n",
    "        'Specialist': np.random.choice(ee_name, 26)}\n",
    "df = pd.DataFrame(raw_data, columns = ['University', 'Category', 'Spend', 'Start', 'Duration', 'Specialist'])\n"
   ]
  },
  {
   "cell_type": "code",
   "execution_count": null,
   "metadata": {},
   "outputs": [],
   "source": [
    "Create a random seed to fix the randomly generated data to specifc values each time it is run"
   ]
  },
  {
   "cell_type": "code",
   "execution_count": 54,
   "metadata": {},
   "outputs": [],
   "source": [
    "np.random.seed(0)"
   ]
  },
  {
   "cell_type": "markdown",
   "metadata": {},
   "source": [
    "Save the randomly created data set as a csv file so the data frame can be analysed"
   ]
  },
  {
   "cell_type": "code",
   "execution_count": 55,
   "metadata": {},
   "outputs": [],
   "source": [
    "df.to_csv('unispend.csv')"
   ]
  },
  {
   "cell_type": "markdown",
   "metadata": {},
   "source": [
    "Read the csv file back to this jupyter notebook"
   ]
  },
  {
   "cell_type": "code",
   "execution_count": 56,
   "metadata": {},
   "outputs": [],
   "source": [
    "data = pd.read_csv(\"unispend.csv\")"
   ]
  },
  {
   "cell_type": "markdown",
   "metadata": {},
   "source": [
    "Delete the extra column which was added to the date set when the csv file was read back into the notebook"
   ]
  },
  {
   "cell_type": "code",
   "execution_count": 57,
   "metadata": {},
   "outputs": [],
   "source": [
    "data.drop('Unnamed: 0',axis=1, inplace=True)"
   ]
  },
  {
   "cell_type": "markdown",
   "metadata": {},
   "source": [
    "## University Capital Projects 2017 - Random Data Set"
   ]
  },
  {
   "cell_type": "code",
   "execution_count": 61,
   "metadata": {},
   "outputs": [
    {
     "data": {
      "text/html": [
       "<div>\n",
       "<style scoped>\n",
       "    .dataframe tbody tr th:only-of-type {\n",
       "        vertical-align: middle;\n",
       "    }\n",
       "\n",
       "    .dataframe tbody tr th {\n",
       "        vertical-align: top;\n",
       "    }\n",
       "\n",
       "    .dataframe thead th {\n",
       "        text-align: right;\n",
       "    }\n",
       "</style>\n",
       "<table border=\"1\" class=\"dataframe\">\n",
       "  <thead>\n",
       "    <tr style=\"text-align: right;\">\n",
       "      <th></th>\n",
       "      <th>University</th>\n",
       "      <th>Category</th>\n",
       "      <th>Spend</th>\n",
       "      <th>Start</th>\n",
       "      <th>Duration</th>\n",
       "      <th>Specialist</th>\n",
       "    </tr>\n",
       "  </thead>\n",
       "  <tbody>\n",
       "    <tr>\n",
       "      <th>0</th>\n",
       "      <td>NUIG</td>\n",
       "      <td>Vet</td>\n",
       "      <td>595810</td>\n",
       "      <td>2017-06-04 16:50:20</td>\n",
       "      <td>57</td>\n",
       "      <td>John</td>\n",
       "    </tr>\n",
       "    <tr>\n",
       "      <th>1</th>\n",
       "      <td>UL</td>\n",
       "      <td>Agric</td>\n",
       "      <td>138183</td>\n",
       "      <td>2017-08-21 04:30:28</td>\n",
       "      <td>55</td>\n",
       "      <td>Ann</td>\n",
       "    </tr>\n",
       "    <tr>\n",
       "      <th>2</th>\n",
       "      <td>UCD</td>\n",
       "      <td>Library</td>\n",
       "      <td>111904</td>\n",
       "      <td>2017-07-05 04:29:40</td>\n",
       "      <td>50</td>\n",
       "      <td>John</td>\n",
       "    </tr>\n",
       "    <tr>\n",
       "      <th>3</th>\n",
       "      <td>UCD</td>\n",
       "      <td>Library</td>\n",
       "      <td>45737</td>\n",
       "      <td>2017-06-13 15:02:00</td>\n",
       "      <td>24</td>\n",
       "      <td>Tom</td>\n",
       "    </tr>\n",
       "    <tr>\n",
       "      <th>4</th>\n",
       "      <td>UCD</td>\n",
       "      <td>Library</td>\n",
       "      <td>546537</td>\n",
       "      <td>2017-01-16 05:10:38</td>\n",
       "      <td>55</td>\n",
       "      <td>John</td>\n",
       "    </tr>\n",
       "    <tr>\n",
       "      <th>5</th>\n",
       "      <td>TCD</td>\n",
       "      <td>Vet</td>\n",
       "      <td>709007</td>\n",
       "      <td>2017-09-25 02:33:51</td>\n",
       "      <td>34</td>\n",
       "      <td>Ann</td>\n",
       "    </tr>\n",
       "    <tr>\n",
       "      <th>6</th>\n",
       "      <td>UCD</td>\n",
       "      <td>Agric</td>\n",
       "      <td>741713</td>\n",
       "      <td>2017-10-23 15:39:00</td>\n",
       "      <td>42</td>\n",
       "      <td>Ann</td>\n",
       "    </tr>\n",
       "    <tr>\n",
       "      <th>7</th>\n",
       "      <td>DCU</td>\n",
       "      <td>Agric</td>\n",
       "      <td>379361</td>\n",
       "      <td>2017-04-22 06:08:35</td>\n",
       "      <td>30</td>\n",
       "      <td>Ann</td>\n",
       "    </tr>\n",
       "    <tr>\n",
       "      <th>8</th>\n",
       "      <td>NUIG</td>\n",
       "      <td>Agric</td>\n",
       "      <td>105163</td>\n",
       "      <td>2017-11-11 07:09:46</td>\n",
       "      <td>21</td>\n",
       "      <td>John</td>\n",
       "    </tr>\n",
       "    <tr>\n",
       "      <th>9</th>\n",
       "      <td>UL</td>\n",
       "      <td>Vet</td>\n",
       "      <td>299278</td>\n",
       "      <td>2017-05-16 04:35:35</td>\n",
       "      <td>31</td>\n",
       "      <td>Tom</td>\n",
       "    </tr>\n",
       "    <tr>\n",
       "      <th>10</th>\n",
       "      <td>UL</td>\n",
       "      <td>Lab</td>\n",
       "      <td>72883</td>\n",
       "      <td>2017-04-13 21:44:47</td>\n",
       "      <td>44</td>\n",
       "      <td>John</td>\n",
       "    </tr>\n",
       "    <tr>\n",
       "      <th>11</th>\n",
       "      <td>NUIG</td>\n",
       "      <td>Specific</td>\n",
       "      <td>787286</td>\n",
       "      <td>2017-02-19 17:12:45</td>\n",
       "      <td>23</td>\n",
       "      <td>Ann</td>\n",
       "    </tr>\n",
       "    <tr>\n",
       "      <th>12</th>\n",
       "      <td>DCU</td>\n",
       "      <td>Library</td>\n",
       "      <td>111107</td>\n",
       "      <td>2017-05-24 00:46:45</td>\n",
       "      <td>55</td>\n",
       "      <td>Mark</td>\n",
       "    </tr>\n",
       "    <tr>\n",
       "      <th>13</th>\n",
       "      <td>TCD</td>\n",
       "      <td>Library</td>\n",
       "      <td>874792</td>\n",
       "      <td>2017-01-04 22:57:25</td>\n",
       "      <td>56</td>\n",
       "      <td>Ann</td>\n",
       "    </tr>\n",
       "    <tr>\n",
       "      <th>14</th>\n",
       "      <td>UL</td>\n",
       "      <td>Lab</td>\n",
       "      <td>732171</td>\n",
       "      <td>2017-08-22 17:24:00</td>\n",
       "      <td>51</td>\n",
       "      <td>Ann</td>\n",
       "    </tr>\n",
       "    <tr>\n",
       "      <th>15</th>\n",
       "      <td>TCD</td>\n",
       "      <td>Specific</td>\n",
       "      <td>821213</td>\n",
       "      <td>2017-09-24 23:11:45</td>\n",
       "      <td>24</td>\n",
       "      <td>Tom</td>\n",
       "    </tr>\n",
       "    <tr>\n",
       "      <th>16</th>\n",
       "      <td>TCD</td>\n",
       "      <td>Lab</td>\n",
       "      <td>437556</td>\n",
       "      <td>2017-09-01 23:27:01</td>\n",
       "      <td>39</td>\n",
       "      <td>John</td>\n",
       "    </tr>\n",
       "    <tr>\n",
       "      <th>17</th>\n",
       "      <td>UL</td>\n",
       "      <td>Vet</td>\n",
       "      <td>576545</td>\n",
       "      <td>2017-03-05 02:59:53</td>\n",
       "      <td>56</td>\n",
       "      <td>Tom</td>\n",
       "    </tr>\n",
       "    <tr>\n",
       "      <th>18</th>\n",
       "      <td>TCD</td>\n",
       "      <td>Vet</td>\n",
       "      <td>434514</td>\n",
       "      <td>2017-07-31 16:38:59</td>\n",
       "      <td>41</td>\n",
       "      <td>John</td>\n",
       "    </tr>\n",
       "    <tr>\n",
       "      <th>19</th>\n",
       "      <td>NUIG</td>\n",
       "      <td>Specific</td>\n",
       "      <td>561660</td>\n",
       "      <td>2017-03-18 10:30:24</td>\n",
       "      <td>38</td>\n",
       "      <td>Ann</td>\n",
       "    </tr>\n",
       "    <tr>\n",
       "      <th>20</th>\n",
       "      <td>UCD</td>\n",
       "      <td>Vet</td>\n",
       "      <td>422636</td>\n",
       "      <td>2017-11-09 00:35:43</td>\n",
       "      <td>48</td>\n",
       "      <td>Ann</td>\n",
       "    </tr>\n",
       "    <tr>\n",
       "      <th>21</th>\n",
       "      <td>UL</td>\n",
       "      <td>Specific</td>\n",
       "      <td>922798</td>\n",
       "      <td>2017-02-03 20:08:37</td>\n",
       "      <td>35</td>\n",
       "      <td>Ann</td>\n",
       "    </tr>\n",
       "    <tr>\n",
       "      <th>22</th>\n",
       "      <td>UCD</td>\n",
       "      <td>Agric</td>\n",
       "      <td>894423</td>\n",
       "      <td>2017-10-14 06:55:26</td>\n",
       "      <td>22</td>\n",
       "      <td>John</td>\n",
       "    </tr>\n",
       "    <tr>\n",
       "      <th>23</th>\n",
       "      <td>UL</td>\n",
       "      <td>Specific</td>\n",
       "      <td>611367</td>\n",
       "      <td>2017-06-16 14:13:20</td>\n",
       "      <td>57</td>\n",
       "      <td>Ann</td>\n",
       "    </tr>\n",
       "    <tr>\n",
       "      <th>24</th>\n",
       "      <td>DCU</td>\n",
       "      <td>Agric</td>\n",
       "      <td>235932</td>\n",
       "      <td>2017-10-09 06:57:53</td>\n",
       "      <td>31</td>\n",
       "      <td>Tom</td>\n",
       "    </tr>\n",
       "    <tr>\n",
       "      <th>25</th>\n",
       "      <td>UCD</td>\n",
       "      <td>Lab</td>\n",
       "      <td>783915</td>\n",
       "      <td>2017-04-10 18:55:46</td>\n",
       "      <td>43</td>\n",
       "      <td>Tom</td>\n",
       "    </tr>\n",
       "  </tbody>\n",
       "</table>\n",
       "</div>"
      ],
      "text/plain": [
       "   University  Category   Spend                Start  Duration Specialist\n",
       "0        NUIG       Vet  595810  2017-06-04 16:50:20        57       John\n",
       "1          UL     Agric  138183  2017-08-21 04:30:28        55        Ann\n",
       "2         UCD   Library  111904  2017-07-05 04:29:40        50       John\n",
       "3         UCD   Library   45737  2017-06-13 15:02:00        24        Tom\n",
       "4         UCD   Library  546537  2017-01-16 05:10:38        55       John\n",
       "5         TCD       Vet  709007  2017-09-25 02:33:51        34        Ann\n",
       "6         UCD     Agric  741713  2017-10-23 15:39:00        42        Ann\n",
       "7         DCU     Agric  379361  2017-04-22 06:08:35        30        Ann\n",
       "8        NUIG     Agric  105163  2017-11-11 07:09:46        21       John\n",
       "9          UL       Vet  299278  2017-05-16 04:35:35        31        Tom\n",
       "10         UL       Lab   72883  2017-04-13 21:44:47        44       John\n",
       "11       NUIG  Specific  787286  2017-02-19 17:12:45        23        Ann\n",
       "12        DCU   Library  111107  2017-05-24 00:46:45        55       Mark\n",
       "13        TCD   Library  874792  2017-01-04 22:57:25        56        Ann\n",
       "14         UL       Lab  732171  2017-08-22 17:24:00        51        Ann\n",
       "15        TCD  Specific  821213  2017-09-24 23:11:45        24        Tom\n",
       "16        TCD       Lab  437556  2017-09-01 23:27:01        39       John\n",
       "17         UL       Vet  576545  2017-03-05 02:59:53        56        Tom\n",
       "18        TCD       Vet  434514  2017-07-31 16:38:59        41       John\n",
       "19       NUIG  Specific  561660  2017-03-18 10:30:24        38        Ann\n",
       "20        UCD       Vet  422636  2017-11-09 00:35:43        48        Ann\n",
       "21         UL  Specific  922798  2017-02-03 20:08:37        35        Ann\n",
       "22        UCD     Agric  894423  2017-10-14 06:55:26        22       John\n",
       "23         UL  Specific  611367  2017-06-16 14:13:20        57        Ann\n",
       "24        DCU     Agric  235932  2017-10-09 06:57:53        31        Tom\n",
       "25        UCD       Lab  783915  2017-04-10 18:55:46        43        Tom"
      ]
     },
     "execution_count": 61,
     "metadata": {},
     "output_type": "execute_result"
    }
   ],
   "source": [
    "data"
   ]
  },
  {
   "cell_type": "markdown",
   "metadata": {},
   "source": [
    "The data set comprises of 26 lines and 6 columns"
   ]
  },
  {
   "cell_type": "code",
   "execution_count": 51,
   "metadata": {},
   "outputs": [
    {
     "data": {
      "text/plain": [
       "(26, 6)"
      ]
     },
     "execution_count": 51,
     "metadata": {},
     "output_type": "execute_result"
    }
   ],
   "source": [
    "data.shape"
   ]
  },
  {
   "cell_type": "markdown",
   "metadata": {},
   "source": [
    "## Project Spend & the Project Length\n",
    "\n",
    " - There were 26 projects in 2017.\n",
    " <br>\n",
    " - The **lowest project spend** in 2017 was €45,737.\n",
    " - The **highest project spend** in 2017 was €922,798.\n",
    " - The **average project spemd** €498,211.\n",
    " <br>\n",
    " - The **shortest project length** was 21 days.\n",
    " - The **longest project length** was 57 days.\n",
    " - The **average project length** was 41 days to completion."
   ]
  },
  {
   "cell_type": "code",
   "execution_count": 53,
   "metadata": {},
   "outputs": [
    {
     "data": {
      "text/html": [
       "<div>\n",
       "<style scoped>\n",
       "    .dataframe tbody tr th:only-of-type {\n",
       "        vertical-align: middle;\n",
       "    }\n",
       "\n",
       "    .dataframe tbody tr th {\n",
       "        vertical-align: top;\n",
       "    }\n",
       "\n",
       "    .dataframe thead th {\n",
       "        text-align: right;\n",
       "    }\n",
       "</style>\n",
       "<table border=\"1\" class=\"dataframe\">\n",
       "  <thead>\n",
       "    <tr style=\"text-align: right;\">\n",
       "      <th></th>\n",
       "      <th>Spend</th>\n",
       "      <th>Duration</th>\n",
       "    </tr>\n",
       "  </thead>\n",
       "  <tbody>\n",
       "    <tr>\n",
       "      <th>count</th>\n",
       "      <td>26.000000</td>\n",
       "      <td>26.000000</td>\n",
       "    </tr>\n",
       "    <tr>\n",
       "      <th>mean</th>\n",
       "      <td>498211.192308</td>\n",
       "      <td>40.846154</td>\n",
       "    </tr>\n",
       "    <tr>\n",
       "      <th>std</th>\n",
       "      <td>286122.310686</td>\n",
       "      <td>12.450517</td>\n",
       "    </tr>\n",
       "    <tr>\n",
       "      <th>min</th>\n",
       "      <td>45737.000000</td>\n",
       "      <td>21.000000</td>\n",
       "    </tr>\n",
       "    <tr>\n",
       "      <th>25%</th>\n",
       "      <td>251768.500000</td>\n",
       "      <td>31.000000</td>\n",
       "    </tr>\n",
       "    <tr>\n",
       "      <th>50%</th>\n",
       "      <td>554098.500000</td>\n",
       "      <td>41.500000</td>\n",
       "    </tr>\n",
       "    <tr>\n",
       "      <th>75%</th>\n",
       "      <td>739327.500000</td>\n",
       "      <td>54.000000</td>\n",
       "    </tr>\n",
       "    <tr>\n",
       "      <th>max</th>\n",
       "      <td>922798.000000</td>\n",
       "      <td>57.000000</td>\n",
       "    </tr>\n",
       "  </tbody>\n",
       "</table>\n",
       "</div>"
      ],
      "text/plain": [
       "               Spend   Duration\n",
       "count      26.000000  26.000000\n",
       "mean   498211.192308  40.846154\n",
       "std    286122.310686  12.450517\n",
       "min     45737.000000  21.000000\n",
       "25%    251768.500000  31.000000\n",
       "50%    554098.500000  41.500000\n",
       "75%    739327.500000  54.000000\n",
       "max    922798.000000  57.000000"
      ]
     },
     "execution_count": 53,
     "metadata": {},
     "output_type": "execute_result"
    }
   ],
   "source": [
    "data.describe()"
   ]
  },
  {
   "cell_type": "markdown",
   "metadata": {},
   "source": [
    "## University Project Breakdown"
   ]
  },
  {
   "cell_type": "markdown",
   "metadata": {},
   "source": [
    "### The 26 projects were divided as below, with UCD and UL having the majority of projects at 7 each.  The lowest amount of projects were submitted by DCU at 3 projects in total."
   ]
  },
  {
   "cell_type": "code",
   "execution_count": 65,
   "metadata": {},
   "outputs": [
    {
     "data": {
      "text/plain": [
       "University\n",
       "DCU     3\n",
       "NUIG    4\n",
       "TCD     5\n",
       "UCD     7\n",
       "UL      7\n",
       "dtype: int64"
      ]
     },
     "execution_count": 65,
     "metadata": {},
     "output_type": "execute_result"
    }
   ],
   "source": [
    "customer_group = customers.groupby('University')\n",
    "customer_group.size()"
   ]
  },
  {
   "cell_type": "markdown",
   "metadata": {},
   "source": [
    "### The total capital spend for the 26 projects was €12,953,491."
   ]
  },
  {
   "cell_type": "code",
   "execution_count": 95,
   "metadata": {},
   "outputs": [
    {
     "data": {
      "text/html": [
       "<div>\n",
       "<style scoped>\n",
       "    .dataframe tbody tr th:only-of-type {\n",
       "        vertical-align: middle;\n",
       "    }\n",
       "\n",
       "    .dataframe tbody tr th {\n",
       "        vertical-align: top;\n",
       "    }\n",
       "\n",
       "    .dataframe thead th {\n",
       "        text-align: right;\n",
       "    }\n",
       "</style>\n",
       "<table border=\"1\" class=\"dataframe\">\n",
       "  <thead>\n",
       "    <tr style=\"text-align: right;\">\n",
       "      <th></th>\n",
       "      <th>University</th>\n",
       "      <th>Category</th>\n",
       "      <th>Spend</th>\n",
       "      <th>Start</th>\n",
       "      <th>Duration</th>\n",
       "      <th>Specialist</th>\n",
       "    </tr>\n",
       "  </thead>\n",
       "  <tbody>\n",
       "    <tr>\n",
       "      <th>0</th>\n",
       "      <td>NUIG</td>\n",
       "      <td>Vet</td>\n",
       "      <td>595810.0</td>\n",
       "      <td>2017-06-04 16:50:20</td>\n",
       "      <td>57.0</td>\n",
       "      <td>John</td>\n",
       "    </tr>\n",
       "    <tr>\n",
       "      <th>1</th>\n",
       "      <td>UL</td>\n",
       "      <td>Agric</td>\n",
       "      <td>138183.0</td>\n",
       "      <td>2017-08-21 04:30:28</td>\n",
       "      <td>55.0</td>\n",
       "      <td>Ann</td>\n",
       "    </tr>\n",
       "    <tr>\n",
       "      <th>2</th>\n",
       "      <td>UCD</td>\n",
       "      <td>Library</td>\n",
       "      <td>111904.0</td>\n",
       "      <td>2017-07-05 04:29:40</td>\n",
       "      <td>50.0</td>\n",
       "      <td>John</td>\n",
       "    </tr>\n",
       "    <tr>\n",
       "      <th>3</th>\n",
       "      <td>UCD</td>\n",
       "      <td>Library</td>\n",
       "      <td>45737.0</td>\n",
       "      <td>2017-06-13 15:02:00</td>\n",
       "      <td>24.0</td>\n",
       "      <td>Tom</td>\n",
       "    </tr>\n",
       "    <tr>\n",
       "      <th>4</th>\n",
       "      <td>UCD</td>\n",
       "      <td>Library</td>\n",
       "      <td>546537.0</td>\n",
       "      <td>2017-01-16 05:10:38</td>\n",
       "      <td>55.0</td>\n",
       "      <td>John</td>\n",
       "    </tr>\n",
       "    <tr>\n",
       "      <th>5</th>\n",
       "      <td>TCD</td>\n",
       "      <td>Vet</td>\n",
       "      <td>709007.0</td>\n",
       "      <td>2017-09-25 02:33:51</td>\n",
       "      <td>34.0</td>\n",
       "      <td>Ann</td>\n",
       "    </tr>\n",
       "    <tr>\n",
       "      <th>6</th>\n",
       "      <td>UCD</td>\n",
       "      <td>Agric</td>\n",
       "      <td>741713.0</td>\n",
       "      <td>2017-10-23 15:39:00</td>\n",
       "      <td>42.0</td>\n",
       "      <td>Ann</td>\n",
       "    </tr>\n",
       "    <tr>\n",
       "      <th>7</th>\n",
       "      <td>DCU</td>\n",
       "      <td>Agric</td>\n",
       "      <td>379361.0</td>\n",
       "      <td>2017-04-22 06:08:35</td>\n",
       "      <td>30.0</td>\n",
       "      <td>Ann</td>\n",
       "    </tr>\n",
       "    <tr>\n",
       "      <th>8</th>\n",
       "      <td>NUIG</td>\n",
       "      <td>Agric</td>\n",
       "      <td>105163.0</td>\n",
       "      <td>2017-11-11 07:09:46</td>\n",
       "      <td>21.0</td>\n",
       "      <td>John</td>\n",
       "    </tr>\n",
       "    <tr>\n",
       "      <th>9</th>\n",
       "      <td>UL</td>\n",
       "      <td>Vet</td>\n",
       "      <td>299278.0</td>\n",
       "      <td>2017-05-16 04:35:35</td>\n",
       "      <td>31.0</td>\n",
       "      <td>Tom</td>\n",
       "    </tr>\n",
       "    <tr>\n",
       "      <th>10</th>\n",
       "      <td>UL</td>\n",
       "      <td>Lab</td>\n",
       "      <td>72883.0</td>\n",
       "      <td>2017-04-13 21:44:47</td>\n",
       "      <td>44.0</td>\n",
       "      <td>John</td>\n",
       "    </tr>\n",
       "    <tr>\n",
       "      <th>11</th>\n",
       "      <td>NUIG</td>\n",
       "      <td>Specific</td>\n",
       "      <td>787286.0</td>\n",
       "      <td>2017-02-19 17:12:45</td>\n",
       "      <td>23.0</td>\n",
       "      <td>Ann</td>\n",
       "    </tr>\n",
       "    <tr>\n",
       "      <th>12</th>\n",
       "      <td>DCU</td>\n",
       "      <td>Library</td>\n",
       "      <td>111107.0</td>\n",
       "      <td>2017-05-24 00:46:45</td>\n",
       "      <td>55.0</td>\n",
       "      <td>Mark</td>\n",
       "    </tr>\n",
       "    <tr>\n",
       "      <th>13</th>\n",
       "      <td>TCD</td>\n",
       "      <td>Library</td>\n",
       "      <td>874792.0</td>\n",
       "      <td>2017-01-04 22:57:25</td>\n",
       "      <td>56.0</td>\n",
       "      <td>Ann</td>\n",
       "    </tr>\n",
       "    <tr>\n",
       "      <th>14</th>\n",
       "      <td>UL</td>\n",
       "      <td>Lab</td>\n",
       "      <td>732171.0</td>\n",
       "      <td>2017-08-22 17:24:00</td>\n",
       "      <td>51.0</td>\n",
       "      <td>Ann</td>\n",
       "    </tr>\n",
       "    <tr>\n",
       "      <th>15</th>\n",
       "      <td>TCD</td>\n",
       "      <td>Specific</td>\n",
       "      <td>821213.0</td>\n",
       "      <td>2017-09-24 23:11:45</td>\n",
       "      <td>24.0</td>\n",
       "      <td>Tom</td>\n",
       "    </tr>\n",
       "    <tr>\n",
       "      <th>16</th>\n",
       "      <td>TCD</td>\n",
       "      <td>Lab</td>\n",
       "      <td>437556.0</td>\n",
       "      <td>2017-09-01 23:27:01</td>\n",
       "      <td>39.0</td>\n",
       "      <td>John</td>\n",
       "    </tr>\n",
       "    <tr>\n",
       "      <th>17</th>\n",
       "      <td>UL</td>\n",
       "      <td>Vet</td>\n",
       "      <td>576545.0</td>\n",
       "      <td>2017-03-05 02:59:53</td>\n",
       "      <td>56.0</td>\n",
       "      <td>Tom</td>\n",
       "    </tr>\n",
       "    <tr>\n",
       "      <th>18</th>\n",
       "      <td>TCD</td>\n",
       "      <td>Vet</td>\n",
       "      <td>434514.0</td>\n",
       "      <td>2017-07-31 16:38:59</td>\n",
       "      <td>41.0</td>\n",
       "      <td>John</td>\n",
       "    </tr>\n",
       "    <tr>\n",
       "      <th>19</th>\n",
       "      <td>NUIG</td>\n",
       "      <td>Specific</td>\n",
       "      <td>561660.0</td>\n",
       "      <td>2017-03-18 10:30:24</td>\n",
       "      <td>38.0</td>\n",
       "      <td>Ann</td>\n",
       "    </tr>\n",
       "    <tr>\n",
       "      <th>20</th>\n",
       "      <td>UCD</td>\n",
       "      <td>Vet</td>\n",
       "      <td>422636.0</td>\n",
       "      <td>2017-11-09 00:35:43</td>\n",
       "      <td>48.0</td>\n",
       "      <td>Ann</td>\n",
       "    </tr>\n",
       "    <tr>\n",
       "      <th>21</th>\n",
       "      <td>UL</td>\n",
       "      <td>Specific</td>\n",
       "      <td>922798.0</td>\n",
       "      <td>2017-02-03 20:08:37</td>\n",
       "      <td>35.0</td>\n",
       "      <td>Ann</td>\n",
       "    </tr>\n",
       "    <tr>\n",
       "      <th>22</th>\n",
       "      <td>UCD</td>\n",
       "      <td>Agric</td>\n",
       "      <td>894423.0</td>\n",
       "      <td>2017-10-14 06:55:26</td>\n",
       "      <td>22.0</td>\n",
       "      <td>John</td>\n",
       "    </tr>\n",
       "    <tr>\n",
       "      <th>23</th>\n",
       "      <td>UL</td>\n",
       "      <td>Specific</td>\n",
       "      <td>611367.0</td>\n",
       "      <td>2017-06-16 14:13:20</td>\n",
       "      <td>57.0</td>\n",
       "      <td>Ann</td>\n",
       "    </tr>\n",
       "    <tr>\n",
       "      <th>24</th>\n",
       "      <td>DCU</td>\n",
       "      <td>Agric</td>\n",
       "      <td>235932.0</td>\n",
       "      <td>2017-10-09 06:57:53</td>\n",
       "      <td>31.0</td>\n",
       "      <td>Tom</td>\n",
       "    </tr>\n",
       "    <tr>\n",
       "      <th>25</th>\n",
       "      <td>UCD</td>\n",
       "      <td>Lab</td>\n",
       "      <td>783915.0</td>\n",
       "      <td>2017-04-10 18:55:46</td>\n",
       "      <td>43.0</td>\n",
       "      <td>Tom</td>\n",
       "    </tr>\n",
       "    <tr>\n",
       "      <th>Total</th>\n",
       "      <td>NaN</td>\n",
       "      <td>NaN</td>\n",
       "      <td>12953491.0</td>\n",
       "      <td>NaN</td>\n",
       "      <td>NaN</td>\n",
       "      <td>NaN</td>\n",
       "    </tr>\n",
       "  </tbody>\n",
       "</table>\n",
       "</div>"
      ],
      "text/plain": [
       "      University  Category       Spend                Start  Duration  \\\n",
       "0           NUIG       Vet    595810.0  2017-06-04 16:50:20      57.0   \n",
       "1             UL     Agric    138183.0  2017-08-21 04:30:28      55.0   \n",
       "2            UCD   Library    111904.0  2017-07-05 04:29:40      50.0   \n",
       "3            UCD   Library     45737.0  2017-06-13 15:02:00      24.0   \n",
       "4            UCD   Library    546537.0  2017-01-16 05:10:38      55.0   \n",
       "5            TCD       Vet    709007.0  2017-09-25 02:33:51      34.0   \n",
       "6            UCD     Agric    741713.0  2017-10-23 15:39:00      42.0   \n",
       "7            DCU     Agric    379361.0  2017-04-22 06:08:35      30.0   \n",
       "8           NUIG     Agric    105163.0  2017-11-11 07:09:46      21.0   \n",
       "9             UL       Vet    299278.0  2017-05-16 04:35:35      31.0   \n",
       "10            UL       Lab     72883.0  2017-04-13 21:44:47      44.0   \n",
       "11          NUIG  Specific    787286.0  2017-02-19 17:12:45      23.0   \n",
       "12           DCU   Library    111107.0  2017-05-24 00:46:45      55.0   \n",
       "13           TCD   Library    874792.0  2017-01-04 22:57:25      56.0   \n",
       "14            UL       Lab    732171.0  2017-08-22 17:24:00      51.0   \n",
       "15           TCD  Specific    821213.0  2017-09-24 23:11:45      24.0   \n",
       "16           TCD       Lab    437556.0  2017-09-01 23:27:01      39.0   \n",
       "17            UL       Vet    576545.0  2017-03-05 02:59:53      56.0   \n",
       "18           TCD       Vet    434514.0  2017-07-31 16:38:59      41.0   \n",
       "19          NUIG  Specific    561660.0  2017-03-18 10:30:24      38.0   \n",
       "20           UCD       Vet    422636.0  2017-11-09 00:35:43      48.0   \n",
       "21            UL  Specific    922798.0  2017-02-03 20:08:37      35.0   \n",
       "22           UCD     Agric    894423.0  2017-10-14 06:55:26      22.0   \n",
       "23            UL  Specific    611367.0  2017-06-16 14:13:20      57.0   \n",
       "24           DCU     Agric    235932.0  2017-10-09 06:57:53      31.0   \n",
       "25           UCD       Lab    783915.0  2017-04-10 18:55:46      43.0   \n",
       "Total        NaN       NaN  12953491.0                  NaN       NaN   \n",
       "\n",
       "      Specialist  \n",
       "0           John  \n",
       "1            Ann  \n",
       "2           John  \n",
       "3            Tom  \n",
       "4           John  \n",
       "5            Ann  \n",
       "6            Ann  \n",
       "7            Ann  \n",
       "8           John  \n",
       "9            Tom  \n",
       "10          John  \n",
       "11           Ann  \n",
       "12          Mark  \n",
       "13           Ann  \n",
       "14           Ann  \n",
       "15           Tom  \n",
       "16          John  \n",
       "17           Tom  \n",
       "18          John  \n",
       "19           Ann  \n",
       "20           Ann  \n",
       "21           Ann  \n",
       "22          John  \n",
       "23           Ann  \n",
       "24           Tom  \n",
       "25           Tom  \n",
       "Total        NaN  "
      ]
     },
     "execution_count": 95,
     "metadata": {},
     "output_type": "execute_result"
    }
   ],
   "source": [
    "data.loc['Total'] = pd.Series(df['Spend'].sum(), index = ['Spend'])\n",
    "data"
   ]
  },
  {
   "cell_type": "markdown",
   "metadata": {},
   "source": [
    "### UCD had the highest total project spend at €3,546,865.  DCU had the lowest total project spend at €726,400.  The histograph below illustrates the total spend in 2017 per university."
   ]
  },
  {
   "cell_type": "code",
   "execution_count": 96,
   "metadata": {},
   "outputs": [
    {
     "data": {
      "text/html": [
       "<div>\n",
       "<style scoped>\n",
       "    .dataframe tbody tr th:only-of-type {\n",
       "        vertical-align: middle;\n",
       "    }\n",
       "\n",
       "    .dataframe tbody tr th {\n",
       "        vertical-align: top;\n",
       "    }\n",
       "\n",
       "    .dataframe thead th {\n",
       "        text-align: right;\n",
       "    }\n",
       "</style>\n",
       "<table border=\"1\" class=\"dataframe\">\n",
       "  <thead>\n",
       "    <tr style=\"text-align: right;\">\n",
       "      <th></th>\n",
       "      <th>Spend</th>\n",
       "    </tr>\n",
       "    <tr>\n",
       "      <th>University</th>\n",
       "      <th></th>\n",
       "    </tr>\n",
       "  </thead>\n",
       "  <tbody>\n",
       "    <tr>\n",
       "      <th>DCU</th>\n",
       "      <td>726400</td>\n",
       "    </tr>\n",
       "    <tr>\n",
       "      <th>NUIG</th>\n",
       "      <td>2049919</td>\n",
       "    </tr>\n",
       "    <tr>\n",
       "      <th>TCD</th>\n",
       "      <td>3277082</td>\n",
       "    </tr>\n",
       "    <tr>\n",
       "      <th>UL</th>\n",
       "      <td>3353225</td>\n",
       "    </tr>\n",
       "    <tr>\n",
       "      <th>UCD</th>\n",
       "      <td>3546865</td>\n",
       "    </tr>\n",
       "  </tbody>\n",
       "</table>\n",
       "</div>"
      ],
      "text/plain": [
       "              Spend\n",
       "University         \n",
       "DCU          726400\n",
       "NUIG        2049919\n",
       "TCD         3277082\n",
       "UL          3353225\n",
       "UCD         3546865"
      ]
     },
     "execution_count": 96,
     "metadata": {},
     "output_type": "execute_result"
    }
   ],
   "source": [
    "sales_totals = customer_group.sum()\n",
    "sales_totals.sort_values('Spend').head()"
   ]
  },
  {
   "cell_type": "code",
   "execution_count": 97,
   "metadata": {},
   "outputs": [
    {
     "data": {
      "text/plain": [
       "Text(0,0.5,'Project Spend (€)')"
      ]
     },
     "execution_count": 97,
     "metadata": {},
     "output_type": "execute_result"
    },
    {
     "data": {
      "image/png": "[encoded data removed]",
      "text/plain": [
       "<Figure size 432x288 with 1 Axes>"
      ]
     },
     "metadata": {
      "needs_background": "light"
     },
     "output_type": "display_data"
    }
   ],
   "source": [
    "my_plot = sales_totals.sort_values('Spend',ascending=False).plot(kind='bar',legend=None,title=\"Total Project Spend by University 2017\")\n",
    "my_plot.set_xlabel(\"University\")\n",
    "my_plot.set_ylabel(\"Project Spend (€)\")"
   ]
  },
  {
   "cell_type": "code",
   "execution_count": 98,
   "metadata": {},
   "outputs": [
    {
     "data": {
      "text/html": [
       "<div>\n",
       "<style scoped>\n",
       "    .dataframe tbody tr th:only-of-type {\n",
       "        vertical-align: middle;\n",
       "    }\n",
       "\n",
       "    .dataframe tbody tr th {\n",
       "        vertical-align: top;\n",
       "    }\n",
       "\n",
       "    .dataframe thead th {\n",
       "        text-align: right;\n",
       "    }\n",
       "</style>\n",
       "<table border=\"1\" class=\"dataframe\">\n",
       "  <thead>\n",
       "    <tr style=\"text-align: right;\">\n",
       "      <th></th>\n",
       "      <th>University</th>\n",
       "      <th>Spend</th>\n",
       "      <th>Start</th>\n",
       "    </tr>\n",
       "  </thead>\n",
       "  <tbody>\n",
       "    <tr>\n",
       "      <th>0</th>\n",
       "      <td>NUIG</td>\n",
       "      <td>595810.0</td>\n",
       "      <td>2017-06-04 16:50:20</td>\n",
       "    </tr>\n",
       "    <tr>\n",
       "      <th>1</th>\n",
       "      <td>UL</td>\n",
       "      <td>138183.0</td>\n",
       "      <td>2017-08-21 04:30:28</td>\n",
       "    </tr>\n",
       "    <tr>\n",
       "      <th>2</th>\n",
       "      <td>UCD</td>\n",
       "      <td>111904.0</td>\n",
       "      <td>2017-07-05 04:29:40</td>\n",
       "    </tr>\n",
       "    <tr>\n",
       "      <th>3</th>\n",
       "      <td>UCD</td>\n",
       "      <td>45737.0</td>\n",
       "      <td>2017-06-13 15:02:00</td>\n",
       "    </tr>\n",
       "    <tr>\n",
       "      <th>4</th>\n",
       "      <td>UCD</td>\n",
       "      <td>546537.0</td>\n",
       "      <td>2017-01-16 05:10:38</td>\n",
       "    </tr>\n",
       "  </tbody>\n",
       "</table>\n",
       "</div>"
      ],
      "text/plain": [
       "  University     Spend                Start\n",
       "0       NUIG  595810.0  2017-06-04 16:50:20\n",
       "1         UL  138183.0  2017-08-21 04:30:28\n",
       "2        UCD  111904.0  2017-07-05 04:29:40\n",
       "3        UCD   45737.0  2017-06-13 15:02:00\n",
       "4        UCD  546537.0  2017-01-16 05:10:38"
      ]
     },
     "execution_count": 98,
     "metadata": {},
     "output_type": "execute_result"
    }
   ],
   "source": [
    "customers = data[['University','Spend','Start']]\n",
    "customers.head()"
   ]
  },
  {
   "cell_type": "code",
   "execution_count": 120,
   "metadata": {},
   "outputs": [
    {
     "data": {
      "text/html": [
       "<div>\n",
       "<style scoped>\n",
       "    .dataframe tbody tr th:only-of-type {\n",
       "        vertical-align: middle;\n",
       "    }\n",
       "\n",
       "    .dataframe tbody tr th {\n",
       "        vertical-align: top;\n",
       "    }\n",
       "\n",
       "    .dataframe thead th {\n",
       "        text-align: right;\n",
       "    }\n",
       "</style>\n",
       "<table border=\"1\" class=\"dataframe\">\n",
       "  <thead>\n",
       "    <tr style=\"text-align: right;\">\n",
       "      <th></th>\n",
       "      <th></th>\n",
       "      <th>Spend</th>\n",
       "    </tr>\n",
       "    <tr>\n",
       "      <th>University</th>\n",
       "      <th>Category</th>\n",
       "      <th></th>\n",
       "    </tr>\n",
       "  </thead>\n",
       "  <tbody>\n",
       "    <tr>\n",
       "      <th rowspan=\"2\" valign=\"top\">DCU</th>\n",
       "      <th>Agric</th>\n",
       "      <td>122112</td>\n",
       "    </tr>\n",
       "    <tr>\n",
       "      <th>Library</th>\n",
       "      <td>41298</td>\n",
       "    </tr>\n",
       "    <tr>\n",
       "      <th rowspan=\"3\" valign=\"top\">NUIG</th>\n",
       "      <th>Agric</th>\n",
       "      <td>76811</td>\n",
       "    </tr>\n",
       "    <tr>\n",
       "      <th>Specific</th>\n",
       "      <td>86616</td>\n",
       "    </tr>\n",
       "    <tr>\n",
       "      <th>Vet</th>\n",
       "      <td>71522</td>\n",
       "    </tr>\n",
       "  </tbody>\n",
       "</table>\n",
       "</div>"
      ],
      "text/plain": [
       "                      Spend\n",
       "University Category        \n",
       "DCU        Agric     122112\n",
       "           Library    41298\n",
       "NUIG       Agric      76811\n",
       "           Specific   86616\n",
       "           Vet        71522"
      ]
     },
     "execution_count": 120,
     "metadata": {},
     "output_type": "execute_result"
    }
   ],
   "source": [
    "category_group=customers.groupby(['University','Category']).sum()\n",
    "category_group.head()"
   ]
  },
  {
   "cell_type": "code",
   "execution_count": 121,
   "metadata": {},
   "outputs": [
    {
     "data": {
      "text/html": [
       "<div>\n",
       "<style scoped>\n",
       "    .dataframe tbody tr th:only-of-type {\n",
       "        vertical-align: middle;\n",
       "    }\n",
       "\n",
       "    .dataframe tbody tr th {\n",
       "        vertical-align: top;\n",
       "    }\n",
       "\n",
       "    .dataframe thead tr th {\n",
       "        text-align: left;\n",
       "    }\n",
       "\n",
       "    .dataframe thead tr:last-of-type th {\n",
       "        text-align: right;\n",
       "    }\n",
       "</style>\n",
       "<table border=\"1\" class=\"dataframe\">\n",
       "  <thead>\n",
       "    <tr>\n",
       "      <th></th>\n",
       "      <th colspan=\"5\" halign=\"left\">Spend</th>\n",
       "    </tr>\n",
       "    <tr>\n",
       "      <th>Category</th>\n",
       "      <th>Agric</th>\n",
       "      <th>Lab</th>\n",
       "      <th>Library</th>\n",
       "      <th>Specific</th>\n",
       "      <th>Vet</th>\n",
       "    </tr>\n",
       "    <tr>\n",
       "      <th>University</th>\n",
       "      <th></th>\n",
       "      <th></th>\n",
       "      <th></th>\n",
       "      <th></th>\n",
       "      <th></th>\n",
       "    </tr>\n",
       "  </thead>\n",
       "  <tbody>\n",
       "    <tr>\n",
       "      <th>DCU</th>\n",
       "      <td>122112.0</td>\n",
       "      <td>NaN</td>\n",
       "      <td>41298.0</td>\n",
       "      <td>NaN</td>\n",
       "      <td>NaN</td>\n",
       "    </tr>\n",
       "    <tr>\n",
       "      <th>NUIG</th>\n",
       "      <td>76811.0</td>\n",
       "      <td>NaN</td>\n",
       "      <td>NaN</td>\n",
       "      <td>86616.0</td>\n",
       "      <td>71522.0</td>\n",
       "    </tr>\n",
       "    <tr>\n",
       "      <th>TCD</th>\n",
       "      <td>NaN</td>\n",
       "      <td>32012.0</td>\n",
       "      <td>37372.0</td>\n",
       "      <td>87079.0</td>\n",
       "      <td>114453.0</td>\n",
       "    </tr>\n",
       "    <tr>\n",
       "      <th>UCD</th>\n",
       "      <td>113010.0</td>\n",
       "      <td>96331.0</td>\n",
       "      <td>177134.0</td>\n",
       "      <td>NaN</td>\n",
       "      <td>69259.0</td>\n",
       "    </tr>\n",
       "    <tr>\n",
       "      <th>UL</th>\n",
       "      <td>45737.0</td>\n",
       "      <td>73760.0</td>\n",
       "      <td>NaN</td>\n",
       "      <td>110719.0</td>\n",
       "      <td>69177.0</td>\n",
       "    </tr>\n",
       "  </tbody>\n",
       "</table>\n",
       "</div>"
      ],
      "text/plain": [
       "               Spend                                       \n",
       "Category       Agric      Lab   Library  Specific       Vet\n",
       "University                                                 \n",
       "DCU         122112.0      NaN   41298.0       NaN       NaN\n",
       "NUIG         76811.0      NaN       NaN   86616.0   71522.0\n",
       "TCD              NaN  32012.0   37372.0   87079.0  114453.0\n",
       "UCD         113010.0  96331.0  177134.0       NaN   69259.0\n",
       "UL           45737.0  73760.0       NaN  110719.0   69177.0"
      ]
     },
     "execution_count": 121,
     "metadata": {},
     "output_type": "execute_result"
    }
   ],
   "source": [
    "category_group.unstack().head()"
   ]
  },
  {
   "cell_type": "code",
   "execution_count": 122,
   "metadata": {
    "scrolled": true
   },
   "outputs": [
    {
     "data": {
      "text/plain": [
       "Text(0,0.5,'Project Spend (€)')"
      ]
     },
     "execution_count": 122,
     "metadata": {},
     "output_type": "execute_result"
    },
    {
     "data": {
      "image/png": "[encoded data removed]",
      "text/plain": [
       "<Figure size 432x288 with 1 Axes>"
      ]
     },
     "metadata": {
      "needs_background": "light"
     },
     "output_type": "display_data"
    }
   ],
   "source": [
    "my_plot = category_group.unstack().plot(kind='bar',stacked=True,title=\"Total Project Spend by University 2017\")\n",
    "my_plot.set_xlabel(\"University\")\n",
    "my_plot.set_ylabel(\"Project Spend (€)\")\n"
   ]
  },
  {
   "cell_type": "code",
   "execution_count": 171,
   "metadata": {},
   "outputs": [
    {
     "data": {
      "text/plain": [
       "<matplotlib.legend.Legend at 0x2689e291908>"
      ]
     },
     "execution_count": 171,
     "metadata": {},
     "output_type": "execute_result"
    },
    {
     "data": {
      "image/png": "[encoded data removed]",
      "text/plain": [
       "<Figure size 648x504 with 1 Axes>"
      ]
     },
     "metadata": {
      "needs_background": "light"
     },
     "output_type": "display_data"
    }
   ],
   "source": [
    "my_plot = category_group.unstack().plot(kind='bar',stacked=True,title=\"Value of Projects by University 2017\",figsize=(9, 7))\n",
    "my_plot.set_xlabel(\"University\")\n",
    "my_plot.set_ylabel(\"Project Spend\")\n",
    "my_plot.legend([\"Agriculture\",\"Laboratory\",\"Library\",\"Education Specific\", \"Veterinary\"], loc=9,ncol=4)"
   ]
  },
  {
   "cell_type": "code",
   "execution_count": 164,
   "metadata": {},
   "outputs": [
    {
     "data": {
      "text/html": [
       "<div>\n",
       "<style scoped>\n",
       "    .dataframe tbody tr th:only-of-type {\n",
       "        vertical-align: middle;\n",
       "    }\n",
       "\n",
       "    .dataframe tbody tr th {\n",
       "        vertical-align: top;\n",
       "    }\n",
       "\n",
       "    .dataframe thead th {\n",
       "        text-align: right;\n",
       "    }\n",
       "</style>\n",
       "<table border=\"1\" class=\"dataframe\">\n",
       "  <thead>\n",
       "    <tr style=\"text-align: right;\">\n",
       "      <th></th>\n",
       "      <th>Specialist</th>\n",
       "      <th>University</th>\n",
       "      <th>Spend</th>\n",
       "      <th>Start</th>\n",
       "    </tr>\n",
       "  </thead>\n",
       "  <tbody>\n",
       "    <tr>\n",
       "      <th>0</th>\n",
       "      <td>John</td>\n",
       "      <td>NUIG</td>\n",
       "      <td>71522</td>\n",
       "      <td>2017-03-18 10:30:24</td>\n",
       "    </tr>\n",
       "    <tr>\n",
       "      <th>1</th>\n",
       "      <td>Tom</td>\n",
       "      <td>UL</td>\n",
       "      <td>45737</td>\n",
       "      <td>2017-11-09 00:35:43</td>\n",
       "    </tr>\n",
       "    <tr>\n",
       "      <th>2</th>\n",
       "      <td>John</td>\n",
       "      <td>UCD</td>\n",
       "      <td>53647</td>\n",
       "      <td>2017-02-03 20:08:37</td>\n",
       "    </tr>\n",
       "    <tr>\n",
       "      <th>3</th>\n",
       "      <td>Ann</td>\n",
       "      <td>UCD</td>\n",
       "      <td>86353</td>\n",
       "      <td>2017-10-14 06:55:26</td>\n",
       "    </tr>\n",
       "    <tr>\n",
       "      <th>4</th>\n",
       "      <td>Ann</td>\n",
       "      <td>UCD</td>\n",
       "      <td>37134</td>\n",
       "      <td>2017-06-16 14:13:20</td>\n",
       "    </tr>\n",
       "  </tbody>\n",
       "</table>\n",
       "</div>"
      ],
      "text/plain": [
       "  Specialist University  Spend                Start\n",
       "0       John       NUIG  71522  2017-03-18 10:30:24\n",
       "1        Tom         UL  45737  2017-11-09 00:35:43\n",
       "2       John        UCD  53647  2017-02-03 20:08:37\n",
       "3        Ann        UCD  86353  2017-10-14 06:55:26\n",
       "4        Ann        UCD  37134  2017-06-16 14:13:20"
      ]
     },
     "execution_count": 164,
     "metadata": {},
     "output_type": "execute_result"
    }
   ],
   "source": [
    "employees = data[['Specialist', 'University', 'Spend','Start']]\n",
    "employees.head()"
   ]
  },
  {
   "cell_type": "code",
   "execution_count": 165,
   "metadata": {},
   "outputs": [
    {
     "data": {
      "text/html": [
       "<div>\n",
       "<style scoped>\n",
       "    .dataframe tbody tr th:only-of-type {\n",
       "        vertical-align: middle;\n",
       "    }\n",
       "\n",
       "    .dataframe tbody tr th {\n",
       "        vertical-align: top;\n",
       "    }\n",
       "\n",
       "    .dataframe thead th {\n",
       "        text-align: right;\n",
       "    }\n",
       "</style>\n",
       "<table border=\"1\" class=\"dataframe\">\n",
       "  <thead>\n",
       "    <tr style=\"text-align: right;\">\n",
       "      <th></th>\n",
       "      <th></th>\n",
       "      <th>Spend</th>\n",
       "    </tr>\n",
       "    <tr>\n",
       "      <th>Specialist</th>\n",
       "      <th>University</th>\n",
       "      <th></th>\n",
       "    </tr>\n",
       "  </thead>\n",
       "  <tbody>\n",
       "    <tr>\n",
       "      <th rowspan=\"4\" valign=\"top\">Ann</th>\n",
       "      <th>DCU</th>\n",
       "      <td>88360</td>\n",
       "    </tr>\n",
       "    <tr>\n",
       "      <th>TCD</th>\n",
       "      <td>85535</td>\n",
       "    </tr>\n",
       "    <tr>\n",
       "      <th>UCD</th>\n",
       "      <td>259945</td>\n",
       "    </tr>\n",
       "    <tr>\n",
       "      <th>UL</th>\n",
       "      <td>184479</td>\n",
       "    </tr>\n",
       "    <tr>\n",
       "      <th>John</th>\n",
       "      <th>DCU</th>\n",
       "      <td>41298</td>\n",
       "    </tr>\n",
       "  </tbody>\n",
       "</table>\n",
       "</div>"
      ],
      "text/plain": [
       "                        Spend\n",
       "Specialist University        \n",
       "Ann        DCU          88360\n",
       "           TCD          85535\n",
       "           UCD         259945\n",
       "           UL          184479\n",
       "John       DCU          41298"
      ]
     },
     "execution_count": 165,
     "metadata": {},
     "output_type": "execute_result"
    }
   ],
   "source": [
    "employees_group=employees.groupby(['Specialist','University']).sum()\n",
    "employees_group.head()"
   ]
  },
  {
   "cell_type": "code",
   "execution_count": 166,
   "metadata": {},
   "outputs": [
    {
     "data": {
      "text/html": [
       "<div>\n",
       "<style scoped>\n",
       "    .dataframe tbody tr th:only-of-type {\n",
       "        vertical-align: middle;\n",
       "    }\n",
       "\n",
       "    .dataframe tbody tr th {\n",
       "        vertical-align: top;\n",
       "    }\n",
       "\n",
       "    .dataframe thead tr th {\n",
       "        text-align: left;\n",
       "    }\n",
       "\n",
       "    .dataframe thead tr:last-of-type th {\n",
       "        text-align: right;\n",
       "    }\n",
       "</style>\n",
       "<table border=\"1\" class=\"dataframe\">\n",
       "  <thead>\n",
       "    <tr>\n",
       "      <th></th>\n",
       "      <th colspan=\"5\" halign=\"left\">Spend</th>\n",
       "    </tr>\n",
       "    <tr>\n",
       "      <th>University</th>\n",
       "      <th>DCU</th>\n",
       "      <th>NUIG</th>\n",
       "      <th>TCD</th>\n",
       "      <th>UCD</th>\n",
       "      <th>UL</th>\n",
       "    </tr>\n",
       "    <tr>\n",
       "      <th>Specialist</th>\n",
       "      <th></th>\n",
       "      <th></th>\n",
       "      <th></th>\n",
       "      <th></th>\n",
       "      <th></th>\n",
       "    </tr>\n",
       "  </thead>\n",
       "  <tbody>\n",
       "    <tr>\n",
       "      <th>Ann</th>\n",
       "      <td>88360.0</td>\n",
       "      <td>NaN</td>\n",
       "      <td>85535.0</td>\n",
       "      <td>259945.0</td>\n",
       "      <td>184479.0</td>\n",
       "    </tr>\n",
       "    <tr>\n",
       "      <th>John</th>\n",
       "      <td>41298.0</td>\n",
       "      <td>71522.0</td>\n",
       "      <td>32012.0</td>\n",
       "      <td>195789.0</td>\n",
       "      <td>34396.0</td>\n",
       "    </tr>\n",
       "    <tr>\n",
       "      <th>Mark</th>\n",
       "      <td>NaN</td>\n",
       "      <td>52257.0</td>\n",
       "      <td>153369.0</td>\n",
       "      <td>NaN</td>\n",
       "      <td>NaN</td>\n",
       "    </tr>\n",
       "    <tr>\n",
       "      <th>Mary</th>\n",
       "      <td>33752.0</td>\n",
       "      <td>34359.0</td>\n",
       "      <td>NaN</td>\n",
       "      <td>NaN</td>\n",
       "      <td>NaN</td>\n",
       "    </tr>\n",
       "    <tr>\n",
       "      <th>Tom</th>\n",
       "      <td>NaN</td>\n",
       "      <td>76811.0</td>\n",
       "      <td>NaN</td>\n",
       "      <td>NaN</td>\n",
       "      <td>80518.0</td>\n",
       "    </tr>\n",
       "  </tbody>\n",
       "</table>\n",
       "</div>"
      ],
      "text/plain": [
       "              Spend                                       \n",
       "University      DCU     NUIG       TCD       UCD        UL\n",
       "Specialist                                                \n",
       "Ann         88360.0      NaN   85535.0  259945.0  184479.0\n",
       "John        41298.0  71522.0   32012.0  195789.0   34396.0\n",
       "Mark            NaN  52257.0  153369.0       NaN       NaN\n",
       "Mary        33752.0  34359.0       NaN       NaN       NaN\n",
       "Tom             NaN  76811.0       NaN       NaN   80518.0"
      ]
     },
     "execution_count": 166,
     "metadata": {},
     "output_type": "execute_result"
    }
   ],
   "source": [
    "employees_group.unstack().head()"
   ]
  },
  {
   "cell_type": "code",
   "execution_count": 169,
   "metadata": {},
   "outputs": [
    {
     "data": {
      "text/plain": [
       "Text(0,0.5,'University')"
      ]
     },
     "execution_count": 169,
     "metadata": {},
     "output_type": "execute_result"
    },
    {
     "data": {
      "image/png": "[encoded data removed]",
      "text/plain": [
       "<Figure size 432x288 with 1 Axes>"
      ]
     },
     "metadata": {
      "needs_background": "light"
     },
     "output_type": "display_data"
    }
   ],
   "source": [
    "my_plot = employees_group.unstack().plot(kind='bar',stacked=True,title=\"Value of Projects by Specialist 2017\")\n",
    "my_plot.set_xlabel(\"Specialist\")\n",
    "my_plot.set_ylabel(\"University\")\n"
   ]
  },
  {
   "cell_type": "code",
   "execution_count": 170,
   "metadata": {},
   "outputs": [
    {
     "data": {
      "text/plain": [
       "<matplotlib.legend.Legend at 0x2689e29e7f0>"
      ]
     },
     "execution_count": 170,
     "metadata": {},
     "output_type": "execute_result"
    },
    {
     "data": {
      "image/png": "[encoded data removed]",
      "text/plain": [
       "<Figure size 648x504 with 1 Axes>"
      ]
     },
     "metadata": {
      "needs_background": "light"
     },
     "output_type": "display_data"
    }
   ],
   "source": [
    "my_plot = employees_group.unstack().plot(kind='bar',stacked=True,title=\"Value of Projects by Specialist 2017\",figsize=(9, 7))\n",
    "my_plot.set_xlabel(\"Specialist\")\n",
    "my_plot.set_ylabel(\"Project Spend\")\n",
    "my_plot.legend([\"Agriculture\",\"Laboratory\",\"Library\",\"Education Specific\", \"Veterinary\"], loc=9,ncol=4)"
   ]
  },
  {
   "cell_type": "code",
   "execution_count": null,
   "metadata": {},
   "outputs": [],
   "source": []
  },
  {
   "cell_type": "code",
   "execution_count": null,
   "metadata": {},
   "outputs": [],
   "source": []
  },
  {
   "cell_type": "code",
   "execution_count": null,
   "metadata": {},
   "outputs": [],
   "source": [
    "my_plot = category_group.unstack().plot(kind='bar',stacked=True,title=\"Total Project Spend by University 2017\",figsize=(9, 7))\n",
    "my_plot.set_xlabel(\"University\")\n",
    "my_plot.set_ylabel(\"Project Spend\")\n",
    "my_plot.legend([\"Agriculture\",\"Laboratory\",\"Library\",\"Education Specific\", \"Veterinary\"], loc=9,ncol=4)"
   ]
  },
  {
   "cell_type": "code",
   "execution_count": 124,
   "metadata": {},
   "outputs": [
    {
     "data": {
      "text/html": [
       "<div>\n",
       "<style scoped>\n",
       "    .dataframe tbody tr th:only-of-type {\n",
       "        vertical-align: middle;\n",
       "    }\n",
       "\n",
       "    .dataframe tbody tr th {\n",
       "        vertical-align: top;\n",
       "    }\n",
       "\n",
       "    .dataframe thead th {\n",
       "        text-align: right;\n",
       "    }\n",
       "</style>\n",
       "<table border=\"1\" class=\"dataframe\">\n",
       "  <thead>\n",
       "    <tr style=\"text-align: right;\">\n",
       "      <th></th>\n",
       "      <th>Spend</th>\n",
       "      <th>Start</th>\n",
       "    </tr>\n",
       "  </thead>\n",
       "  <tbody>\n",
       "    <tr>\n",
       "      <th>0</th>\n",
       "      <td>71522</td>\n",
       "      <td>2017-03-18 10:30:24</td>\n",
       "    </tr>\n",
       "    <tr>\n",
       "      <th>1</th>\n",
       "      <td>45737</td>\n",
       "      <td>2017-11-09 00:35:43</td>\n",
       "    </tr>\n",
       "    <tr>\n",
       "      <th>2</th>\n",
       "      <td>53647</td>\n",
       "      <td>2017-02-03 20:08:37</td>\n",
       "    </tr>\n",
       "    <tr>\n",
       "      <th>3</th>\n",
       "      <td>86353</td>\n",
       "      <td>2017-10-14 06:55:26</td>\n",
       "    </tr>\n",
       "    <tr>\n",
       "      <th>4</th>\n",
       "      <td>37134</td>\n",
       "      <td>2017-06-16 14:13:20</td>\n",
       "    </tr>\n",
       "  </tbody>\n",
       "</table>\n",
       "</div>"
      ],
      "text/plain": [
       "   Spend                Start\n",
       "0  71522  2017-03-18 10:30:24\n",
       "1  45737  2017-11-09 00:35:43\n",
       "2  53647  2017-02-03 20:08:37\n",
       "3  86353  2017-10-14 06:55:26\n",
       "4  37134  2017-06-16 14:13:20"
      ]
     },
     "execution_count": 124,
     "metadata": {},
     "output_type": "execute_result"
    }
   ],
   "source": [
    "purchase_patterns = data[['Spend','Start']]\n",
    "purchase_patterns.head()"
   ]
  },
  {
   "cell_type": "code",
   "execution_count": 125,
   "metadata": {},
   "outputs": [
    {
     "data": {
      "text/plain": [
       "Text(0,0.5,'Number of Projects')"
      ]
     },
     "execution_count": 125,
     "metadata": {},
     "output_type": "execute_result"
    },
    {
     "data": {
      "image/png": "[encoded data removed]",
      "text/plain": [
       "<Figure size 432x288 with 1 Axes>"
      ]
     },
     "metadata": {
      "needs_background": "light"
     },
     "output_type": "display_data"
    }
   ],
   "source": [
    "purchase_plot = purchase_patterns['Spend'].hist(bins=20)\n",
    "purchase_plot.set_title(\"Project Spend Patterns\")\n",
    "purchase_plot.set_xlabel(\"Amount (€)\")\n",
    "purchase_plot.set_ylabel(\"Number of Projects\")"
   ]
  },
  {
   "cell_type": "code",
   "execution_count": 147,
   "metadata": {},
   "outputs": [
    {
     "data": {
      "text/html": [
       "<div>\n",
       "<style scoped>\n",
       "    .dataframe tbody tr th:only-of-type {\n",
       "        vertical-align: middle;\n",
       "    }\n",
       "\n",
       "    .dataframe tbody tr th {\n",
       "        vertical-align: top;\n",
       "    }\n",
       "\n",
       "    .dataframe thead th {\n",
       "        text-align: right;\n",
       "    }\n",
       "</style>\n",
       "<table border=\"1\" class=\"dataframe\">\n",
       "  <thead>\n",
       "    <tr style=\"text-align: right;\">\n",
       "      <th></th>\n",
       "    </tr>\n",
       "    <tr>\n",
       "      <th>Start</th>\n",
       "    </tr>\n",
       "  </thead>\n",
       "  <tbody>\n",
       "    <tr>\n",
       "      <th>2017-03-18 10:30:24</th>\n",
       "    </tr>\n",
       "    <tr>\n",
       "      <th>2017-11-09 00:35:43</th>\n",
       "    </tr>\n",
       "    <tr>\n",
       "      <th>2017-02-03 20:08:37</th>\n",
       "    </tr>\n",
       "    <tr>\n",
       "      <th>2017-10-14 06:55:26</th>\n",
       "    </tr>\n",
       "    <tr>\n",
       "      <th>2017-06-16 14:13:20</th>\n",
       "    </tr>\n",
       "  </tbody>\n",
       "</table>\n",
       "</div>"
      ],
      "text/plain": [
       "Empty DataFrame\n",
       "Columns: []\n",
       "Index: [2017-03-18 10:30:24, 2017-11-09 00:35:43, 2017-02-03 20:08:37, 2017-10-14 06:55:26, 2017-06-16 14:13:20]"
      ]
     },
     "execution_count": 147,
     "metadata": {},
     "output_type": "execute_result"
    }
   ],
   "source": [
    "purchase_patterns = purchase_patterns.set_index('Start')\n",
    "purchase_patterns.head()"
   ]
  },
  {
   "cell_type": "code",
   "execution_count": 156,
   "metadata": {},
   "outputs": [
    {
     "data": {
      "text/html": [
       "<div>\n",
       "<style scoped>\n",
       "    .dataframe tbody tr th:only-of-type {\n",
       "        vertical-align: middle;\n",
       "    }\n",
       "\n",
       "    .dataframe tbody tr th {\n",
       "        vertical-align: top;\n",
       "    }\n",
       "\n",
       "    .dataframe thead th {\n",
       "        text-align: right;\n",
       "    }\n",
       "</style>\n",
       "<table border=\"1\" class=\"dataframe\">\n",
       "  <thead>\n",
       "    <tr style=\"text-align: right;\">\n",
       "      <th></th>\n",
       "    </tr>\n",
       "    <tr>\n",
       "      <th>Start</th>\n",
       "    </tr>\n",
       "  </thead>\n",
       "  <tbody>\n",
       "    <tr>\n",
       "      <th>2017-03-18 10:30:24</th>\n",
       "    </tr>\n",
       "    <tr>\n",
       "      <th>2017-11-09 00:35:43</th>\n",
       "    </tr>\n",
       "    <tr>\n",
       "      <th>2017-02-03 20:08:37</th>\n",
       "    </tr>\n",
       "    <tr>\n",
       "      <th>2017-10-14 06:55:26</th>\n",
       "    </tr>\n",
       "    <tr>\n",
       "      <th>2017-06-16 14:13:20</th>\n",
       "    </tr>\n",
       "    <tr>\n",
       "      <th>2017-10-09 06:57:53</th>\n",
       "    </tr>\n",
       "    <tr>\n",
       "      <th>2017-04-10 18:55:46</th>\n",
       "    </tr>\n",
       "    <tr>\n",
       "      <th>2017-03-30 17:08:52</th>\n",
       "    </tr>\n",
       "    <tr>\n",
       "      <th>2017-04-27 17:45:06</th>\n",
       "    </tr>\n",
       "    <tr>\n",
       "      <th>2017-06-08 19:46:56</th>\n",
       "    </tr>\n",
       "    <tr>\n",
       "      <th>2017-06-08 17:57:23</th>\n",
       "    </tr>\n",
       "    <tr>\n",
       "      <th>2017-04-01 01:38:50</th>\n",
       "    </tr>\n",
       "    <tr>\n",
       "      <th>2017-01-10 20:55:41</th>\n",
       "    </tr>\n",
       "    <tr>\n",
       "      <th>2017-02-21 01:29:20</th>\n",
       "    </tr>\n",
       "    <tr>\n",
       "      <th>2017-06-13 04:47:35</th>\n",
       "    </tr>\n",
       "    <tr>\n",
       "      <th>2017-10-18 15:24:05</th>\n",
       "    </tr>\n",
       "    <tr>\n",
       "      <th>2017-09-01 00:18:17</th>\n",
       "    </tr>\n",
       "    <tr>\n",
       "      <th>2017-08-05 20:52:15</th>\n",
       "    </tr>\n",
       "    <tr>\n",
       "      <th>2017-01-07 05:28:32</th>\n",
       "    </tr>\n",
       "    <tr>\n",
       "      <th>2017-07-29 07:49:30</th>\n",
       "    </tr>\n",
       "    <tr>\n",
       "      <th>2017-03-19 09:31:30</th>\n",
       "    </tr>\n",
       "    <tr>\n",
       "      <th>2017-05-31 08:02:51</th>\n",
       "    </tr>\n",
       "    <tr>\n",
       "      <th>2017-05-30 13:57:14</th>\n",
       "    </tr>\n",
       "    <tr>\n",
       "      <th>2017-01-04 10:52:47</th>\n",
       "    </tr>\n",
       "    <tr>\n",
       "      <th>2017-12-18 20:01:27</th>\n",
       "    </tr>\n",
       "    <tr>\n",
       "      <th>2017-08-04 07:07:39</th>\n",
       "    </tr>\n",
       "  </tbody>\n",
       "</table>\n",
       "</div>"
      ],
      "text/plain": [
       "Empty DataFrame\n",
       "Columns: []\n",
       "Index: [2017-03-18 10:30:24, 2017-11-09 00:35:43, 2017-02-03 20:08:37, 2017-10-14 06:55:26, 2017-06-16 14:13:20, 2017-10-09 06:57:53, 2017-04-10 18:55:46, 2017-03-30 17:08:52, 2017-04-27 17:45:06, 2017-06-08 19:46:56, 2017-06-08 17:57:23, 2017-04-01 01:38:50, 2017-01-10 20:55:41, 2017-02-21 01:29:20, 2017-06-13 04:47:35, 2017-10-18 15:24:05, 2017-09-01 00:18:17, 2017-08-05 20:52:15, 2017-01-07 05:28:32, 2017-07-29 07:49:30, 2017-03-19 09:31:30, 2017-05-31 08:02:51, 2017-05-30 13:57:14, 2017-01-04 10:52:47, 2017-12-18 20:01:27, 2017-08-04 07:07:39]"
      ]
     },
     "execution_count": 156,
     "metadata": {},
     "output_type": "execute_result"
    }
   ],
   "source": [
    "purchase_patterns"
   ]
  },
  {
   "cell_type": "code",
   "execution_count": null,
   "metadata": {},
   "outputs": [],
   "source": []
  },
  {
   "cell_type": "code",
   "execution_count": null,
   "metadata": {},
   "outputs": [],
   "source": []
  },
  {
   "cell_type": "code",
   "execution_count": null,
   "metadata": {},
   "outputs": [],
   "source": []
  },
  {
   "cell_type": "code",
   "execution_count": null,
   "metadata": {},
   "outputs": [],
   "source": []
  },
  {
   "cell_type": "code",
   "execution_count": null,
   "metadata": {},
   "outputs": [],
   "source": []
  },
  {
   "cell_type": "code",
   "execution_count": null,
   "metadata": {},
   "outputs": [],
   "source": []
  },
  {
   "cell_type": "code",
   "execution_count": null,
   "metadata": {},
   "outputs": [],
   "source": []
  },
  {
   "cell_type": "code",
   "execution_count": null,
   "metadata": {},
   "outputs": [],
   "source": [
    "'University', 'Category', 'Spend', 'Start', 'Duration', 'Specialist']"
   ]
  },
  {
   "cell_type": "code",
   "execution_count": 173,
   "metadata": {
    "scrolled": true
   },
   "outputs": [
    {
     "data": {
      "text/plain": [
       "Spend       63078.269231\n",
       "Month           7.153846\n",
       "Duration       15.846154\n",
       "dtype: float64"
      ]
     },
     "execution_count": 173,
     "metadata": {},
     "output_type": "execute_result"
    }
   ],
   "source": [
    "data.mean()"
   ]
  },
  {
   "cell_type": "code",
   "execution_count": 183,
   "metadata": {},
   "outputs": [],
   "source": [
    "data_high = data[data[\"Spend\"]>=60000]"
   ]
  },
  {
   "cell_type": "code",
   "execution_count": 184,
   "metadata": {},
   "outputs": [
    {
     "data": {
      "text/html": [
       "<div>\n",
       "<style scoped>\n",
       "    .dataframe tbody tr th:only-of-type {\n",
       "        vertical-align: middle;\n",
       "    }\n",
       "\n",
       "    .dataframe tbody tr th {\n",
       "        vertical-align: top;\n",
       "    }\n",
       "\n",
       "    .dataframe thead th {\n",
       "        text-align: right;\n",
       "    }\n",
       "</style>\n",
       "<table border=\"1\" class=\"dataframe\">\n",
       "  <thead>\n",
       "    <tr style=\"text-align: right;\">\n",
       "      <th></th>\n",
       "      <th>University</th>\n",
       "      <th>Category</th>\n",
       "      <th>Spend</th>\n",
       "      <th>Start</th>\n",
       "      <th>Duration</th>\n",
       "      <th>Specialist</th>\n",
       "    </tr>\n",
       "  </thead>\n",
       "  <tbody>\n",
       "    <tr>\n",
       "      <th>0</th>\n",
       "      <td>NUIG</td>\n",
       "      <td>Vet</td>\n",
       "      <td>71522</td>\n",
       "      <td>2017-03-18 10:30:24</td>\n",
       "      <td>23</td>\n",
       "      <td>John</td>\n",
       "    </tr>\n",
       "    <tr>\n",
       "      <th>3</th>\n",
       "      <td>UCD</td>\n",
       "      <td>Library</td>\n",
       "      <td>86353</td>\n",
       "      <td>2017-10-14 06:55:26</td>\n",
       "      <td>51</td>\n",
       "      <td>Ann</td>\n",
       "    </tr>\n",
       "    <tr>\n",
       "      <th>5</th>\n",
       "      <td>TCD</td>\n",
       "      <td>Vet</td>\n",
       "      <td>85535</td>\n",
       "      <td>2017-10-09 06:57:53</td>\n",
       "      <td>39</td>\n",
       "      <td>Ann</td>\n",
       "    </tr>\n",
       "    <tr>\n",
       "      <th>6</th>\n",
       "      <td>UCD</td>\n",
       "      <td>Agric</td>\n",
       "      <td>72883</td>\n",
       "      <td>2017-04-10 18:55:46</td>\n",
       "      <td>56</td>\n",
       "      <td>John</td>\n",
       "    </tr>\n",
       "    <tr>\n",
       "      <th>7</th>\n",
       "      <td>DCU</td>\n",
       "      <td>Agric</td>\n",
       "      <td>88360</td>\n",
       "      <td>2017-03-30 17:08:52</td>\n",
       "      <td>41</td>\n",
       "      <td>Ann</td>\n",
       "    </tr>\n",
       "    <tr>\n",
       "      <th>8</th>\n",
       "      <td>NUIG</td>\n",
       "      <td>Agric</td>\n",
       "      <td>76811</td>\n",
       "      <td>2017-04-27 17:45:06</td>\n",
       "      <td>38</td>\n",
       "      <td>Tom</td>\n",
       "    </tr>\n",
       "    <tr>\n",
       "      <th>15</th>\n",
       "      <td>TCD</td>\n",
       "      <td>Specific</td>\n",
       "      <td>87079</td>\n",
       "      <td>2017-10-18 15:24:05</td>\n",
       "      <td>32</td>\n",
       "      <td>Mark</td>\n",
       "    </tr>\n",
       "    <tr>\n",
       "      <th>20</th>\n",
       "      <td>UCD</td>\n",
       "      <td>Vet</td>\n",
       "      <td>69259</td>\n",
       "      <td>2017-03-19 09:31:30</td>\n",
       "      <td>59</td>\n",
       "      <td>John</td>\n",
       "    </tr>\n",
       "    <tr>\n",
       "      <th>23</th>\n",
       "      <td>UL</td>\n",
       "      <td>Specific</td>\n",
       "      <td>62237</td>\n",
       "      <td>2017-01-04 10:52:47</td>\n",
       "      <td>51</td>\n",
       "      <td>Ann</td>\n",
       "    </tr>\n",
       "    <tr>\n",
       "      <th>25</th>\n",
       "      <td>UCD</td>\n",
       "      <td>Lab</td>\n",
       "      <td>96331</td>\n",
       "      <td>2017-08-04 07:07:39</td>\n",
       "      <td>23</td>\n",
       "      <td>Ann</td>\n",
       "    </tr>\n",
       "  </tbody>\n",
       "</table>\n",
       "</div>"
      ],
      "text/plain": [
       "   University  Category  Spend                Start  Duration Specialist\n",
       "0        NUIG       Vet  71522  2017-03-18 10:30:24        23       John\n",
       "3         UCD   Library  86353  2017-10-14 06:55:26        51        Ann\n",
       "5         TCD       Vet  85535  2017-10-09 06:57:53        39        Ann\n",
       "6         UCD     Agric  72883  2017-04-10 18:55:46        56       John\n",
       "7         DCU     Agric  88360  2017-03-30 17:08:52        41        Ann\n",
       "8        NUIG     Agric  76811  2017-04-27 17:45:06        38        Tom\n",
       "15        TCD  Specific  87079  2017-10-18 15:24:05        32       Mark\n",
       "20        UCD       Vet  69259  2017-03-19 09:31:30        59       John\n",
       "23         UL  Specific  62237  2017-01-04 10:52:47        51        Ann\n",
       "25        UCD       Lab  96331  2017-08-04 07:07:39        23        Ann"
      ]
     },
     "execution_count": 184,
     "metadata": {},
     "output_type": "execute_result"
    }
   ],
   "source": [
    "data_high"
   ]
  },
  {
   "cell_type": "code",
   "execution_count": 195,
   "metadata": {},
   "outputs": [
    {
     "data": {
      "image/png": "[encoded data removed]",
      "text/plain": [
       "<Figure size 432x288 with 1 Axes>"
      ]
     },
     "metadata": {
      "needs_background": "light"
     },
     "output_type": "display_data"
    }
   ],
   "source": [
    "%matplotlib inline\n",
    "data_high.plot.hist('Category')\n",
    "plt.show()"
   ]
  },
  {
   "cell_type": "code",
   "execution_count": 176,
   "metadata": {},
   "outputs": [],
   "source": [
    "data_low = data[data[\"Spend\"]<=60000]"
   ]
  },
  {
   "cell_type": "code",
   "execution_count": 177,
   "metadata": {},
   "outputs": [
    {
     "data": {
      "text/html": [
       "<div>\n",
       "<style scoped>\n",
       "    .dataframe tbody tr th:only-of-type {\n",
       "        vertical-align: middle;\n",
       "    }\n",
       "\n",
       "    .dataframe tbody tr th {\n",
       "        vertical-align: top;\n",
       "    }\n",
       "\n",
       "    .dataframe thead th {\n",
       "        text-align: right;\n",
       "    }\n",
       "</style>\n",
       "<table border=\"1\" class=\"dataframe\">\n",
       "  <thead>\n",
       "    <tr style=\"text-align: right;\">\n",
       "      <th></th>\n",
       "      <th>University</th>\n",
       "      <th>Category</th>\n",
       "      <th>Spend</th>\n",
       "      <th>Month</th>\n",
       "      <th>Duration</th>\n",
       "      <th>Specialist</th>\n",
       "    </tr>\n",
       "  </thead>\n",
       "  <tbody>\n",
       "    <tr>\n",
       "      <th>0</th>\n",
       "      <td>DCU</td>\n",
       "      <td>Lab</td>\n",
       "      <td>46107</td>\n",
       "      <td>7</td>\n",
       "      <td>24</td>\n",
       "      <td>Tom</td>\n",
       "    </tr>\n",
       "    <tr>\n",
       "      <th>1</th>\n",
       "      <td>DCU</td>\n",
       "      <td>Agric</td>\n",
       "      <td>29930</td>\n",
       "      <td>9</td>\n",
       "      <td>25</td>\n",
       "      <td>John</td>\n",
       "    </tr>\n",
       "    <tr>\n",
       "      <th>4</th>\n",
       "      <td>DCU</td>\n",
       "      <td>Agric</td>\n",
       "      <td>45165</td>\n",
       "      <td>12</td>\n",
       "      <td>2</td>\n",
       "      <td>Ann</td>\n",
       "    </tr>\n",
       "    <tr>\n",
       "      <th>5</th>\n",
       "      <td>UCD</td>\n",
       "      <td>Vet</td>\n",
       "      <td>25100</td>\n",
       "      <td>11</td>\n",
       "      <td>15</td>\n",
       "      <td>Mark</td>\n",
       "    </tr>\n",
       "    <tr>\n",
       "      <th>8</th>\n",
       "      <td>DCU</td>\n",
       "      <td>Library</td>\n",
       "      <td>31037</td>\n",
       "      <td>3</td>\n",
       "      <td>22</td>\n",
       "      <td>Mark</td>\n",
       "    </tr>\n",
       "    <tr>\n",
       "      <th>10</th>\n",
       "      <td>UL</td>\n",
       "      <td>Vet</td>\n",
       "      <td>50247</td>\n",
       "      <td>12</td>\n",
       "      <td>15</td>\n",
       "      <td>Ann</td>\n",
       "    </tr>\n",
       "    <tr>\n",
       "      <th>12</th>\n",
       "      <td>UCD</td>\n",
       "      <td>Library</td>\n",
       "      <td>49813</td>\n",
       "      <td>4</td>\n",
       "      <td>21</td>\n",
       "      <td>Mark</td>\n",
       "    </tr>\n",
       "    <tr>\n",
       "      <th>16</th>\n",
       "      <td>NUIG</td>\n",
       "      <td>Vet</td>\n",
       "      <td>47957</td>\n",
       "      <td>5</td>\n",
       "      <td>23</td>\n",
       "      <td>Mary</td>\n",
       "    </tr>\n",
       "    <tr>\n",
       "      <th>18</th>\n",
       "      <td>TCD</td>\n",
       "      <td>Lab</td>\n",
       "      <td>54849</td>\n",
       "      <td>6</td>\n",
       "      <td>23</td>\n",
       "      <td>Mary</td>\n",
       "    </tr>\n",
       "    <tr>\n",
       "      <th>23</th>\n",
       "      <td>NUIG</td>\n",
       "      <td>Vet</td>\n",
       "      <td>28418</td>\n",
       "      <td>5</td>\n",
       "      <td>29</td>\n",
       "      <td>Mary</td>\n",
       "    </tr>\n",
       "    <tr>\n",
       "      <th>25</th>\n",
       "      <td>NUIG</td>\n",
       "      <td>Specific</td>\n",
       "      <td>56739</td>\n",
       "      <td>2</td>\n",
       "      <td>15</td>\n",
       "      <td>Ann</td>\n",
       "    </tr>\n",
       "  </tbody>\n",
       "</table>\n",
       "</div>"
      ],
      "text/plain": [
       "   University  Category  Spend  Month  Duration Specialist\n",
       "0         DCU       Lab  46107      7        24        Tom\n",
       "1         DCU     Agric  29930      9        25       John\n",
       "4         DCU     Agric  45165     12         2        Ann\n",
       "5         UCD       Vet  25100     11        15       Mark\n",
       "8         DCU   Library  31037      3        22       Mark\n",
       "10         UL       Vet  50247     12        15        Ann\n",
       "12        UCD   Library  49813      4        21       Mark\n",
       "16       NUIG       Vet  47957      5        23       Mary\n",
       "18        TCD       Lab  54849      6        23       Mary\n",
       "23       NUIG       Vet  28418      5        29       Mary\n",
       "25       NUIG  Specific  56739      2        15        Ann"
      ]
     },
     "execution_count": 177,
     "metadata": {},
     "output_type": "execute_result"
    }
   ],
   "source": [
    "data_low"
   ]
  },
  {
   "cell_type": "code",
   "execution_count": null,
   "metadata": {},
   "outputs": [],
   "source": [
    "# Standard import for pandas, numpy and matplot\n",
    "import pandas as pd\n",
    "import numpy as np\n",
    "import matplotlib.pyplot as plt\n",
    "\n",
    "# Read in the csv file and display some of the basic info\n",
    "sales=pd.read_csv(\"sample-salesv2.csv\",parse_dates=['date'])\n",
    "print \"Data types in the file:\"\n",
    "print sales.dtypes\n",
    "print \"Summary of the input file:\"\n",
    "print sales.describe()\n",
    "print \"Basic unit price stats:\"\n",
    "print sales['unit price'].describe()\n",
    "\n",
    "# Filter the columns down to the ones we need to look at for customer sales\n",
    "customers = sales[['name','ext price','date']]\n",
    "\n",
    "#Group the customers by name and sum their sales\n",
    "customer_group = customers.groupby('name')\n",
    "sales_totals = customer_group.sum()\n",
    "\n",
    "# Create a basic bar chart for the sales data and show it\n",
    "bar_plot = sales_totals.sort(columns='ext price',ascending=False).plot(kind='bar',legend=None,title=\"Total Sales by Customer\")\n",
    "bar_plot.set_xlabel(\"Customers\")\n",
    "bar_plot.set_ylabel(\"Sales ($)\")\n",
    "plt.show()\n",
    "\n",
    "# Do a similar chart but break down by category in stacked bars\n",
    "# Select the appropriate columns and group by name and category\n",
    "customers = sales[['name','category','ext price','date']]\n",
    "category_group = customers.groupby(['name','category']).sum()\n",
    "\n",
    "# Plot and show the stacked bar chart\n",
    "stack_bar_plot = category_group.unstack().plot(kind='bar',stacked=True,title=\"Total Sales by Customer\",figsize=(9, 7))\n",
    "stack_bar_plot.set_xlabel(\"Customers\")\n",
    "stack_bar_plot.set_ylabel(\"Sales\")\n",
    "stack_bar_plot.legend([\"Total\",\"Belts\",\"Shirts\",\"Shoes\"], loc=9,ncol=4)\n",
    "plt.show()\n",
    "\n",
    "# Create a simple histogram of purchase volumes\n",
    "purchase_patterns = sales[['ext price','date']]\n",
    "purchase_plot = purchase_patterns['ext price'].hist(bins=20)\n",
    "purchase_plot.set_title(\"Purchase Patterns\")\n",
    "purchase_plot.set_xlabel(\"Order Amount($)\")\n",
    "purchase_plot.set_ylabel(\"Number of orders\")\n",
    "plt.show()\n",
    "\n",
    "# Create a line chart showing purchases by month\n",
    "purchase_patterns = purchase_patterns.set_index('date')\n",
    "month_plot = purchase_patterns.resample('M',how=sum).plot(title=\"Total Sales by Month\",legend=None)\n",
    "fig = month_plot.get_figure()\n",
    "\n",
    "#Show the image, then save it\n",
    "plt.show()\n",
    "fig.savefig(\"total-sales.png\")"
   ]
  },
  {
   "cell_type": "code",
   "execution_count": null,
   "metadata": {},
   "outputs": [],
   "source": []
  },
  {
   "cell_type": "code",
   "execution_count": null,
   "metadata": {},
   "outputs": [],
   "source": []
  },
  {
   "cell_type": "code",
   "execution_count": null,
   "metadata": {},
   "outputs": [],
   "source": []
  },
  {
   "cell_type": "code",
   "execution_count": null,
   "metadata": {},
   "outputs": [],
   "source": []
  },
  {
   "cell_type": "code",
   "execution_count": 131,
   "metadata": {},
   "outputs": [],
   "source": [
    "cf = data.loc[:, 'University']"
   ]
  },
  {
   "cell_type": "code",
   "execution_count": 132,
   "metadata": {},
   "outputs": [
    {
     "data": {
      "text/plain": [
       "0      UCD\n",
       "1      TCD\n",
       "2      TCD\n",
       "3      TCD\n",
       "4      TCD\n",
       "5      DCU\n",
       "6       UL\n",
       "7      UCD\n",
       "8      TCD\n",
       "9     NUIG\n",
       "10     UCD\n",
       "11     TCD\n",
       "12     TCD\n",
       "13     DCU\n",
       "14      UL\n",
       "15      UL\n",
       "16     DCU\n",
       "17    NUIG\n",
       "18      UL\n",
       "19    NUIG\n",
       "20     UCD\n",
       "21     UCD\n",
       "22      UL\n",
       "23      UL\n",
       "24     UCD\n",
       "25     UCD\n",
       "Name: University, dtype: object"
      ]
     },
     "execution_count": 132,
     "metadata": {},
     "output_type": "execute_result"
    }
   ],
   "source": [
    "cf"
   ]
  },
  {
   "cell_type": "code",
   "execution_count": 134,
   "metadata": {},
   "outputs": [
    {
     "ename": "NameError",
     "evalue": "name 'summary' is not defined",
     "output_type": "error",
     "traceback": [
      "\u001b[1;31m---------------------------------------------------------------------------\u001b[0m",
      "\u001b[1;31mNameError\u001b[0m                                 Traceback (most recent call last)",
      "\u001b[1;32m<ipython-input-134-959d247a1e7f>\u001b[0m in \u001b[0;36m<module>\u001b[1;34m()\u001b[0m\n\u001b[1;32m----> 1\u001b[1;33m \u001b[0msummary\u001b[0m\u001b[1;33m(\u001b[0m\u001b[0mdata\u001b[0m\u001b[1;33m)\u001b[0m\u001b[1;33m\u001b[0m\u001b[0m\n\u001b[0m",
      "\u001b[1;31mNameError\u001b[0m: name 'summary' is not defined"
     ]
    }
   ],
   "source": [
    "summary(data)"
   ]
  },
  {
   "cell_type": "code",
   "execution_count": null,
   "metadata": {},
   "outputs": [],
   "source": []
  },
  {
   "cell_type": "code",
   "execution_count": null,
   "metadata": {},
   "outputs": [],
   "source": []
  },
  {
   "cell_type": "code",
   "execution_count": null,
   "metadata": {},
   "outputs": [],
   "source": []
  },
  {
   "cell_type": "code",
   "execution_count": 27,
   "metadata": {},
   "outputs": [],
   "source": [
    "import seaborn as sns"
   ]
  },
  {
   "cell_type": "code",
   "execution_count": 29,
   "metadata": {},
   "outputs": [
    {
     "name": "stderr",
     "output_type": "stream",
     "text": [
      "C:\\Users\\Windows\\Anaconda3\\lib\\site-packages\\scipy\\stats\\stats.py:1713: FutureWarning: Using a non-tuple sequence for multidimensional indexing is deprecated; use `arr[tuple(seq)]` instead of `arr[seq]`. In the future this will be interpreted as an array index, `arr[np.array(seq)]`, which will result either in an error or a different result.\n",
      "  return np.add.reduce(sorted[indexer] * weights, axis=axis) / sumval\n"
     ]
    },
    {
     "data": {
      "text/plain": [
       "<seaborn.axisgrid.PairGrid at 0x18049478f60>"
      ]
     },
     "execution_count": 29,
     "metadata": {},
     "output_type": "execute_result"
    },
    {
     "data": {
      "image/png": "[encoded data removed]",
      "text/plain": [
       "<Figure size 601.5x540 with 12 Axes>"
      ]
     },
     "metadata": {
      "needs_background": "light"
     },
     "output_type": "display_data"
    }
   ],
   "source": [
    "sns.pairplot(data, hue='University')"
   ]
  },
  {
   "cell_type": "code",
   "execution_count": 30,
   "metadata": {},
   "outputs": [
    {
     "data": {
      "text/plain": [
       "<seaborn.axisgrid.PairGrid at 0x180495f8dd8>"
      ]
     },
     "execution_count": 30,
     "metadata": {},
     "output_type": "execute_result"
    },
    {
     "data": {
      "image/png": "[encoded data removed]",
      "text/plain": [
       "<Figure size 540x540 with 12 Axes>"
      ]
     },
     "metadata": {
      "needs_background": "light"
     },
     "output_type": "display_data"
    }
   ],
   "source": [
    "sns.pairplot(data)"
   ]
  },
  {
   "cell_type": "markdown",
   "metadata": {},
   "source": [
    "References additional:\n",
    "\n",
    "https://www.daveoncode.com/2013/05/20/generate-random-dates-in-python-using-datetime-and-random-modules/<br>\n",
    "https://www.oreilly.com/library/view/python-data-science/9781491912126/ch04.html<br>\n",
    "https://medium.com/@1522933668924/using-matplotlib-in-jupyter-notebooks-comparing-methods-and-some-tips-python-c38e85b40ba1\n",
    "https://stackoverflow.com/questions/31029560/plotting-categorical-data-with-pandas-and-matplotlib<br>\n",
    "https://realpython.com/python-histograms/<br>\n",
    "https://stackoverflow.com/questions/34347145/pandas-plot-doesnt-show<br>\n",
    "http://queirozf.com/entries/pandas-dataframe-plot-examples-with-matplotlib-pyplot<br>\n",
    "https://stackoverflow.com/questions/47487753/when-is-it-appropriate-to-use-df-value-counts-vs-df-groupby-count<br>\n",
    "https://chrisalbon.com/python/data_wrangling/pandas_saving_dataframe_as_csv/<br>\n",
    "https://towardsdatascience.com/exploratory-data-analysis-with-pandas-and-jupyter-notebooks-36008090d813<br>\n",
    "https://medium.com/python-pandemonium/introduction-to-exploratory-data-analysis-in-python-8b6bcb55c190<br>\n",
    "http://pbpython.com/simple-graphing-pandas.html<br>\n",
    "https://stackoverflow.com/questions/50559078/generating-random-dates-within-a-given-range-in-pandas<br>\n",
    "<br>\n",
    "<br>\n",
    "<br>\n",
    "http://pbpython.com/simple-graphing-pandas.html<br>\n",
    "https://pandas.pydata.org/pandas-docs/stable/visualization.html<br>"
   ]
  }
 ],
 "metadata": {
  "kernelspec": {
   "display_name": "Python 3",
   "language": "python",
   "name": "python3"
  },
  "language_info": {
   "codemirror_mode": {
    "name": "ipython",
    "version": 3
   },
   "file_extension": ".py",
   "mimetype": "text/x-python",
   "name": "python",
   "nbconvert_exporter": "python",
   "pygments_lexer": "ipython3",
   "version": "3.6.6"
  }
 },
 "nbformat": 4,
 "nbformat_minor": 2
}
