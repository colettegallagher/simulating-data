{
 "cells": [
  {
   "cell_type": "markdown",
   "metadata": {},
   "source": [
    "# Programming for Data Analytics - Project"
   ]
  },
  {
   "cell_type": "markdown",
   "metadata": {},
   "source": [
    "# Project - An investigation into Simulating Data"
   ]
  },
  {
   "cell_type": "markdown",
   "metadata": {},
   "source": [
    "References additional:\n",
    "\n",
    "https://www.daveoncode.com/2013/05/20/generate-random-dates-in-python-using-datetime-and-random-modules/<br>\n",
    "https://www.oreilly.com/library/view/python-data-science/9781491912126/ch04.html<br>\n",
    "https://medium.com/@1522933668924/using-matplotlib-in-jupyter-notebooks-comparing-methods-and-some-tips-python-c38e85b40ba1\n",
    "https://stackoverflow.com/questions/31029560/plotting-categorical-data-with-pandas-and-matplotlib<br>\n",
    "https://realpython.com/python-histograms/<br>\n",
    "https://stackoverflow.com/questions/34347145/pandas-plot-doesnt-show<br>\n",
    "http://queirozf.com/entries/pandas-dataframe-plot-examples-with-matplotlib-pyplot<br>\n",
    "https://stackoverflow.com/questions/47487753/when-is-it-appropriate-to-use-df-value-counts-vs-df-groupby-count<br>\n",
    "https://chrisalbon.com/python/data_wrangling/pandas_saving_dataframe_as_csv/<br>\n",
    "https://chrisalbon.com/python/data_wrangling/pandas_saving_dataframe_as_csv/<br>\n",
    "https://towardsdatascience.com/exploratory-data-analysis-with-pandas-and-jupyter-notebooks-36008090d813<br>\n",
    "https://medium.com/python-pandemonium/introduction-to-exploratory-data-analysis-in-python-8b6bcb55c190<br>\n",
    "http://pbpython.com/simple-graphing-pandas.html<br>\n",
    "https://stackoverflow.com/questions/50559078/generating-random-dates-within-a-given-range-in-pandas<br>\n",
    "<br>\n",
    "<br>\n",
    "<br>\n",
    "http://pbpython.com/simple-graphing-pandas.html<br>\n",
    "<br>"
   ]
  },
  {
   "cell_type": "code",
   "execution_count": null,
   "metadata": {},
   "outputs": [],
   "source": []
  },
  {
   "cell_type": "code",
   "execution_count": null,
   "metadata": {},
   "outputs": [],
   "source": []
  },
  {
   "cell_type": "code",
   "execution_count": null,
   "metadata": {},
   "outputs": [],
   "source": []
  },
  {
   "cell_type": "code",
   "execution_count": 2,
   "metadata": {},
   "outputs": [],
   "source": [
    "\n",
    "import pandas as pd"
   ]
  },
  {
   "cell_type": "code",
   "execution_count": 5,
   "metadata": {},
   "outputs": [],
   "source": [
    "import numpy as np"
   ]
  },
  {
   "cell_type": "code",
   "execution_count": 6,
   "metadata": {},
   "outputs": [],
   "source": [
    "import matplotlib.pyplot as plt"
   ]
  },
  {
   "cell_type": "code",
   "execution_count": 7,
   "metadata": {},
   "outputs": [],
   "source": [
    "%matplotlib inline"
   ]
  },
  {
   "cell_type": "code",
   "execution_count": 8,
   "metadata": {},
   "outputs": [],
   "source": [
    "np.random.seed(0)"
   ]
  },
  {
   "cell_type": "code",
   "execution_count": 9,
   "metadata": {},
   "outputs": [],
   "source": [
    "uni_name = ['UL', 'TCD', 'DCU', 'UCD', 'NUIG']"
   ]
  },
  {
   "cell_type": "code",
   "execution_count": 10,
   "metadata": {},
   "outputs": [],
   "source": [
    "cat_name = ['Vet', 'Agric', 'Lab', 'Library', 'Specific']"
   ]
  },
  {
   "cell_type": "code",
   "execution_count": 11,
   "metadata": {},
   "outputs": [],
   "source": [
    "ee_name = ['Ann', 'Mary', 'Tom', 'John', 'Mark']"
   ]
  },
  {
   "cell_type": "code",
   "execution_count": 14,
   "metadata": {},
   "outputs": [],
   "source": [
    "def random_dates(start, end, n=26):\n",
    "\n",
    "    start_u = start.value//10**9\n",
    "    end_u = end.value//10**9\n",
    "\n",
    "    return pd.to_datetime(np.random.randint(start_u, end_u, n), unit='s')\n",
    "\n",
    "start = pd.to_datetime('2017-01-01')\n",
    "end = pd.to_datetime('2018-01-01')\n"
   ]
  },
  {
   "cell_type": "code",
   "execution_count": 21,
   "metadata": {},
   "outputs": [],
   "source": [
    "raw_data = {'University': np.random.choice(uni_name, 26), \n",
    "        'Category': np.random.choice(cat_name, 26), \n",
    "        'Spend': np.random.randint(25000, 100000, 26),\n",
    "        'Start': random_dates(start, end),\n",
    "            'Duration': np.random.randint(21,60, 26),\n",
    "        'Specialist': np.random.choice(ee_name, 26)}\n",
    "df = pd.DataFrame(raw_data, columns = ['University', 'Category', 'Spend', 'Start', 'Duration', 'Specialist'])\n"
   ]
  },
  {
   "cell_type": "code",
   "execution_count": 22,
   "metadata": {},
   "outputs": [],
   "source": [
    "df.to_csv('unispend.csv')"
   ]
  },
  {
   "cell_type": "code",
   "execution_count": 23,
   "metadata": {},
   "outputs": [],
   "source": [
    "data = pd.read_csv(\"unispend.csv\")"
   ]
  },
  {
   "cell_type": "code",
   "execution_count": 24,
   "metadata": {},
   "outputs": [],
   "source": [
    "data.drop('Unnamed: 0',axis=1, inplace=True)"
   ]
  },
  {
   "cell_type": "code",
   "execution_count": 28,
   "metadata": {},
   "outputs": [
    {
     "data": {
      "text/html": [
       "<div>\n",
       "<style scoped>\n",
       "    .dataframe tbody tr th:only-of-type {\n",
       "        vertical-align: middle;\n",
       "    }\n",
       "\n",
       "    .dataframe tbody tr th {\n",
       "        vertical-align: top;\n",
       "    }\n",
       "\n",
       "    .dataframe thead th {\n",
       "        text-align: right;\n",
       "    }\n",
       "</style>\n",
       "<table border=\"1\" class=\"dataframe\">\n",
       "  <thead>\n",
       "    <tr style=\"text-align: right;\">\n",
       "      <th></th>\n",
       "      <th>University</th>\n",
       "      <th>Category</th>\n",
       "      <th>Spend</th>\n",
       "      <th>Start</th>\n",
       "      <th>Duration</th>\n",
       "      <th>Specialist</th>\n",
       "    </tr>\n",
       "  </thead>\n",
       "  <tbody>\n",
       "    <tr>\n",
       "      <th>0</th>\n",
       "      <td>UCD</td>\n",
       "      <td>Specific</td>\n",
       "      <td>59735</td>\n",
       "      <td>2017-11-19 06:16:36</td>\n",
       "      <td>21</td>\n",
       "      <td>John</td>\n",
       "    </tr>\n",
       "    <tr>\n",
       "      <th>1</th>\n",
       "      <td>DCU</td>\n",
       "      <td>Agric</td>\n",
       "      <td>26384</td>\n",
       "      <td>2017-10-26 03:29:30</td>\n",
       "      <td>26</td>\n",
       "      <td>Mary</td>\n",
       "    </tr>\n",
       "    <tr>\n",
       "      <th>2</th>\n",
       "      <td>TCD</td>\n",
       "      <td>Agric</td>\n",
       "      <td>90599</td>\n",
       "      <td>2017-02-04 03:24:16</td>\n",
       "      <td>48</td>\n",
       "      <td>John</td>\n",
       "    </tr>\n",
       "    <tr>\n",
       "      <th>3</th>\n",
       "      <td>DCU</td>\n",
       "      <td>Specific</td>\n",
       "      <td>94524</td>\n",
       "      <td>2017-08-23 19:30:53</td>\n",
       "      <td>51</td>\n",
       "      <td>Tom</td>\n",
       "    </tr>\n",
       "    <tr>\n",
       "      <th>4</th>\n",
       "      <td>TCD</td>\n",
       "      <td>Agric</td>\n",
       "      <td>76654</td>\n",
       "      <td>2017-06-26 22:44:03</td>\n",
       "      <td>30</td>\n",
       "      <td>Mark</td>\n",
       "    </tr>\n",
       "    <tr>\n",
       "      <th>5</th>\n",
       "      <td>NUIG</td>\n",
       "      <td>Agric</td>\n",
       "      <td>87729</td>\n",
       "      <td>2017-08-03 00:50:17</td>\n",
       "      <td>40</td>\n",
       "      <td>Mary</td>\n",
       "    </tr>\n",
       "    <tr>\n",
       "      <th>6</th>\n",
       "      <td>TCD</td>\n",
       "      <td>Library</td>\n",
       "      <td>77668</td>\n",
       "      <td>2017-09-25 21:59:17</td>\n",
       "      <td>28</td>\n",
       "      <td>Mark</td>\n",
       "    </tr>\n",
       "    <tr>\n",
       "      <th>7</th>\n",
       "      <td>UL</td>\n",
       "      <td>Agric</td>\n",
       "      <td>44055</td>\n",
       "      <td>2017-05-30 21:42:29</td>\n",
       "      <td>42</td>\n",
       "      <td>Mary</td>\n",
       "    </tr>\n",
       "    <tr>\n",
       "      <th>8</th>\n",
       "      <td>UL</td>\n",
       "      <td>Library</td>\n",
       "      <td>71499</td>\n",
       "      <td>2017-02-27 10:06:25</td>\n",
       "      <td>58</td>\n",
       "      <td>Mark</td>\n",
       "    </tr>\n",
       "    <tr>\n",
       "      <th>9</th>\n",
       "      <td>UL</td>\n",
       "      <td>Library</td>\n",
       "      <td>61209</td>\n",
       "      <td>2017-06-28 15:36:39</td>\n",
       "      <td>49</td>\n",
       "      <td>Mary</td>\n",
       "    </tr>\n",
       "    <tr>\n",
       "      <th>10</th>\n",
       "      <td>UL</td>\n",
       "      <td>Agric</td>\n",
       "      <td>33010</td>\n",
       "      <td>2017-08-13 10:59:09</td>\n",
       "      <td>29</td>\n",
       "      <td>Tom</td>\n",
       "    </tr>\n",
       "    <tr>\n",
       "      <th>11</th>\n",
       "      <td>UL</td>\n",
       "      <td>Agric</td>\n",
       "      <td>84618</td>\n",
       "      <td>2017-01-16 13:21:34</td>\n",
       "      <td>21</td>\n",
       "      <td>Tom</td>\n",
       "    </tr>\n",
       "    <tr>\n",
       "      <th>12</th>\n",
       "      <td>TCD</td>\n",
       "      <td>Agric</td>\n",
       "      <td>76115</td>\n",
       "      <td>2017-02-23 07:27:04</td>\n",
       "      <td>59</td>\n",
       "      <td>John</td>\n",
       "    </tr>\n",
       "    <tr>\n",
       "      <th>13</th>\n",
       "      <td>UL</td>\n",
       "      <td>Vet</td>\n",
       "      <td>96299</td>\n",
       "      <td>2017-04-23 18:50:30</td>\n",
       "      <td>46</td>\n",
       "      <td>Mary</td>\n",
       "    </tr>\n",
       "    <tr>\n",
       "      <th>14</th>\n",
       "      <td>UCD</td>\n",
       "      <td>Library</td>\n",
       "      <td>44340</td>\n",
       "      <td>2017-07-06 11:41:08</td>\n",
       "      <td>31</td>\n",
       "      <td>Tom</td>\n",
       "    </tr>\n",
       "    <tr>\n",
       "      <th>15</th>\n",
       "      <td>TCD</td>\n",
       "      <td>Vet</td>\n",
       "      <td>97932</td>\n",
       "      <td>2017-09-02 22:04:55</td>\n",
       "      <td>55</td>\n",
       "      <td>Tom</td>\n",
       "    </tr>\n",
       "    <tr>\n",
       "      <th>16</th>\n",
       "      <td>NUIG</td>\n",
       "      <td>Specific</td>\n",
       "      <td>78121</td>\n",
       "      <td>2017-11-22 23:50:27</td>\n",
       "      <td>44</td>\n",
       "      <td>Mark</td>\n",
       "    </tr>\n",
       "    <tr>\n",
       "      <th>17</th>\n",
       "      <td>TCD</td>\n",
       "      <td>Agric</td>\n",
       "      <td>39705</td>\n",
       "      <td>2017-03-14 17:58:45</td>\n",
       "      <td>53</td>\n",
       "      <td>Tom</td>\n",
       "    </tr>\n",
       "    <tr>\n",
       "      <th>18</th>\n",
       "      <td>DCU</td>\n",
       "      <td>Specific</td>\n",
       "      <td>81448</td>\n",
       "      <td>2017-03-18 00:50:35</td>\n",
       "      <td>40</td>\n",
       "      <td>Tom</td>\n",
       "    </tr>\n",
       "    <tr>\n",
       "      <th>19</th>\n",
       "      <td>NUIG</td>\n",
       "      <td>Vet</td>\n",
       "      <td>50274</td>\n",
       "      <td>2017-12-29 15:53:16</td>\n",
       "      <td>47</td>\n",
       "      <td>John</td>\n",
       "    </tr>\n",
       "    <tr>\n",
       "      <th>20</th>\n",
       "      <td>UL</td>\n",
       "      <td>Library</td>\n",
       "      <td>56075</td>\n",
       "      <td>2017-01-22 20:19:15</td>\n",
       "      <td>35</td>\n",
       "      <td>Ann</td>\n",
       "    </tr>\n",
       "    <tr>\n",
       "      <th>21</th>\n",
       "      <td>UL</td>\n",
       "      <td>Lab</td>\n",
       "      <td>78251</td>\n",
       "      <td>2017-04-18 09:39:50</td>\n",
       "      <td>53</td>\n",
       "      <td>Mark</td>\n",
       "    </tr>\n",
       "    <tr>\n",
       "      <th>22</th>\n",
       "      <td>DCU</td>\n",
       "      <td>Agric</td>\n",
       "      <td>95882</td>\n",
       "      <td>2017-07-08 09:28:52</td>\n",
       "      <td>27</td>\n",
       "      <td>Tom</td>\n",
       "    </tr>\n",
       "    <tr>\n",
       "      <th>23</th>\n",
       "      <td>UL</td>\n",
       "      <td>Specific</td>\n",
       "      <td>48417</td>\n",
       "      <td>2017-03-25 17:58:31</td>\n",
       "      <td>54</td>\n",
       "      <td>Ann</td>\n",
       "    </tr>\n",
       "    <tr>\n",
       "      <th>24</th>\n",
       "      <td>NUIG</td>\n",
       "      <td>Specific</td>\n",
       "      <td>38729</td>\n",
       "      <td>2017-06-22 11:24:03</td>\n",
       "      <td>25</td>\n",
       "      <td>Ann</td>\n",
       "    </tr>\n",
       "    <tr>\n",
       "      <th>25</th>\n",
       "      <td>NUIG</td>\n",
       "      <td>Specific</td>\n",
       "      <td>48836</td>\n",
       "      <td>2017-09-19 08:54:55</td>\n",
       "      <td>50</td>\n",
       "      <td>Tom</td>\n",
       "    </tr>\n",
       "  </tbody>\n",
       "</table>\n",
       "</div>"
      ],
      "text/plain": [
       "   University  Category  Spend                Start  Duration Specialist\n",
       "0         UCD  Specific  59735  2017-11-19 06:16:36        21       John\n",
       "1         DCU     Agric  26384  2017-10-26 03:29:30        26       Mary\n",
       "2         TCD     Agric  90599  2017-02-04 03:24:16        48       John\n",
       "3         DCU  Specific  94524  2017-08-23 19:30:53        51        Tom\n",
       "4         TCD     Agric  76654  2017-06-26 22:44:03        30       Mark\n",
       "5        NUIG     Agric  87729  2017-08-03 00:50:17        40       Mary\n",
       "6         TCD   Library  77668  2017-09-25 21:59:17        28       Mark\n",
       "7          UL     Agric  44055  2017-05-30 21:42:29        42       Mary\n",
       "8          UL   Library  71499  2017-02-27 10:06:25        58       Mark\n",
       "9          UL   Library  61209  2017-06-28 15:36:39        49       Mary\n",
       "10         UL     Agric  33010  2017-08-13 10:59:09        29        Tom\n",
       "11         UL     Agric  84618  2017-01-16 13:21:34        21        Tom\n",
       "12        TCD     Agric  76115  2017-02-23 07:27:04        59       John\n",
       "13         UL       Vet  96299  2017-04-23 18:50:30        46       Mary\n",
       "14        UCD   Library  44340  2017-07-06 11:41:08        31        Tom\n",
       "15        TCD       Vet  97932  2017-09-02 22:04:55        55        Tom\n",
       "16       NUIG  Specific  78121  2017-11-22 23:50:27        44       Mark\n",
       "17        TCD     Agric  39705  2017-03-14 17:58:45        53        Tom\n",
       "18        DCU  Specific  81448  2017-03-18 00:50:35        40        Tom\n",
       "19       NUIG       Vet  50274  2017-12-29 15:53:16        47       John\n",
       "20         UL   Library  56075  2017-01-22 20:19:15        35        Ann\n",
       "21         UL       Lab  78251  2017-04-18 09:39:50        53       Mark\n",
       "22        DCU     Agric  95882  2017-07-08 09:28:52        27        Tom\n",
       "23         UL  Specific  48417  2017-03-25 17:58:31        54        Ann\n",
       "24       NUIG  Specific  38729  2017-06-22 11:24:03        25        Ann\n",
       "25       NUIG  Specific  48836  2017-09-19 08:54:55        50        Tom"
      ]
     },
     "execution_count": 28,
     "metadata": {},
     "output_type": "execute_result"
    }
   ],
   "source": [
    "data"
   ]
  },
  {
   "cell_type": "code",
   "execution_count": 26,
   "metadata": {},
   "outputs": [
    {
     "data": {
      "text/plain": [
       "(26, 6)"
      ]
     },
     "execution_count": 26,
     "metadata": {},
     "output_type": "execute_result"
    }
   ],
   "source": [
    "data.shape"
   ]
  },
  {
   "cell_type": "markdown",
   "metadata": {},
   "source": [
    "Using 'data.describe()' to analyse the data results show:\n",
    "\n",
    " - There were 26 projects in 2017.\n",
    " <br>\n",
    " - The lowest project spend in 2017 was €26,384.\n",
    " - The highest project spend in 2017 was €97,932.\n",
    " - The average project cost €66,850.\n",
    " <br>\n",
    " - The shortest project length was 21 days.\n",
    " - The longest project length was 59 days.\n",
    " - The average projedt took 40 days to complete."
   ]
  },
  {
   "cell_type": "code",
   "execution_count": 27,
   "metadata": {},
   "outputs": [
    {
     "data": {
      "text/html": [
       "<div>\n",
       "<style scoped>\n",
       "    .dataframe tbody tr th:only-of-type {\n",
       "        vertical-align: middle;\n",
       "    }\n",
       "\n",
       "    .dataframe tbody tr th {\n",
       "        vertical-align: top;\n",
       "    }\n",
       "\n",
       "    .dataframe thead th {\n",
       "        text-align: right;\n",
       "    }\n",
       "</style>\n",
       "<table border=\"1\" class=\"dataframe\">\n",
       "  <thead>\n",
       "    <tr style=\"text-align: right;\">\n",
       "      <th></th>\n",
       "      <th>Spend</th>\n",
       "      <th>Duration</th>\n",
       "    </tr>\n",
       "  </thead>\n",
       "  <tbody>\n",
       "    <tr>\n",
       "      <th>count</th>\n",
       "      <td>26.000000</td>\n",
       "      <td>26.000000</td>\n",
       "    </tr>\n",
       "    <tr>\n",
       "      <th>mean</th>\n",
       "      <td>66850.307692</td>\n",
       "      <td>40.846154</td>\n",
       "    </tr>\n",
       "    <tr>\n",
       "      <th>std</th>\n",
       "      <td>21929.520414</td>\n",
       "      <td>12.131586</td>\n",
       "    </tr>\n",
       "    <tr>\n",
       "      <th>min</th>\n",
       "      <td>26384.000000</td>\n",
       "      <td>21.000000</td>\n",
       "    </tr>\n",
       "    <tr>\n",
       "      <th>25%</th>\n",
       "      <td>48521.750000</td>\n",
       "      <td>29.250000</td>\n",
       "    </tr>\n",
       "    <tr>\n",
       "      <th>50%</th>\n",
       "      <td>73807.000000</td>\n",
       "      <td>43.000000</td>\n",
       "    </tr>\n",
       "    <tr>\n",
       "      <th>75%</th>\n",
       "      <td>83825.500000</td>\n",
       "      <td>50.750000</td>\n",
       "    </tr>\n",
       "    <tr>\n",
       "      <th>max</th>\n",
       "      <td>97932.000000</td>\n",
       "      <td>59.000000</td>\n",
       "    </tr>\n",
       "  </tbody>\n",
       "</table>\n",
       "</div>"
      ],
      "text/plain": [
       "              Spend   Duration\n",
       "count     26.000000  26.000000\n",
       "mean   66850.307692  40.846154\n",
       "std    21929.520414  12.131586\n",
       "min    26384.000000  21.000000\n",
       "25%    48521.750000  29.250000\n",
       "50%    73807.000000  43.000000\n",
       "75%    83825.500000  50.750000\n",
       "max    97932.000000  59.000000"
      ]
     },
     "execution_count": 27,
     "metadata": {},
     "output_type": "execute_result"
    }
   ],
   "source": [
    "data.describe()"
   ]
  },
  {
   "cell_type": "code",
   "execution_count": 29,
   "metadata": {},
   "outputs": [
    {
     "data": {
      "text/plain": [
       "University    object\n",
       "Category      object\n",
       "Spend          int64\n",
       "Start         object\n",
       "Duration       int64\n",
       "Specialist    object\n",
       "dtype: object"
      ]
     },
     "execution_count": 29,
     "metadata": {},
     "output_type": "execute_result"
    }
   ],
   "source": [
    "data.dtypes"
   ]
  },
  {
   "cell_type": "code",
   "execution_count": 31,
   "metadata": {},
   "outputs": [
    {
     "data": {
      "text/html": [
       "<div>\n",
       "<style scoped>\n",
       "    .dataframe tbody tr th:only-of-type {\n",
       "        vertical-align: middle;\n",
       "    }\n",
       "\n",
       "    .dataframe tbody tr th {\n",
       "        vertical-align: top;\n",
       "    }\n",
       "\n",
       "    .dataframe thead th {\n",
       "        text-align: right;\n",
       "    }\n",
       "</style>\n",
       "<table border=\"1\" class=\"dataframe\">\n",
       "  <thead>\n",
       "    <tr style=\"text-align: right;\">\n",
       "      <th></th>\n",
       "      <th>University</th>\n",
       "      <th>Spend</th>\n",
       "      <th>Start</th>\n",
       "    </tr>\n",
       "  </thead>\n",
       "  <tbody>\n",
       "    <tr>\n",
       "      <th>0</th>\n",
       "      <td>UCD</td>\n",
       "      <td>59735</td>\n",
       "      <td>2017-11-19 06:16:36</td>\n",
       "    </tr>\n",
       "    <tr>\n",
       "      <th>1</th>\n",
       "      <td>DCU</td>\n",
       "      <td>26384</td>\n",
       "      <td>2017-10-26 03:29:30</td>\n",
       "    </tr>\n",
       "    <tr>\n",
       "      <th>2</th>\n",
       "      <td>TCD</td>\n",
       "      <td>90599</td>\n",
       "      <td>2017-02-04 03:24:16</td>\n",
       "    </tr>\n",
       "    <tr>\n",
       "      <th>3</th>\n",
       "      <td>DCU</td>\n",
       "      <td>94524</td>\n",
       "      <td>2017-08-23 19:30:53</td>\n",
       "    </tr>\n",
       "    <tr>\n",
       "      <th>4</th>\n",
       "      <td>TCD</td>\n",
       "      <td>76654</td>\n",
       "      <td>2017-06-26 22:44:03</td>\n",
       "    </tr>\n",
       "  </tbody>\n",
       "</table>\n",
       "</div>"
      ],
      "text/plain": [
       "  University  Spend                Start\n",
       "0        UCD  59735  2017-11-19 06:16:36\n",
       "1        DCU  26384  2017-10-26 03:29:30\n",
       "2        TCD  90599  2017-02-04 03:24:16\n",
       "3        DCU  94524  2017-08-23 19:30:53\n",
       "4        TCD  76654  2017-06-26 22:44:03"
      ]
     },
     "execution_count": 31,
     "metadata": {},
     "output_type": "execute_result"
    }
   ],
   "source": [
    "customers = data[['University','Spend','Start']]\n",
    "customers.head()"
   ]
  },
  {
   "cell_type": "code",
   "execution_count": 32,
   "metadata": {},
   "outputs": [
    {
     "data": {
      "text/plain": [
       "University\n",
       "DCU     4\n",
       "NUIG    5\n",
       "TCD     6\n",
       "UCD     2\n",
       "UL      9\n",
       "dtype: int64"
      ]
     },
     "execution_count": 32,
     "metadata": {},
     "output_type": "execute_result"
    }
   ],
   "source": [
    "customer_group = customers.groupby('University')\n",
    "customer_group.size()"
   ]
  },
  {
   "cell_type": "code",
   "execution_count": 35,
   "metadata": {},
   "outputs": [
    {
     "data": {
      "text/html": [
       "<div>\n",
       "<style scoped>\n",
       "    .dataframe tbody tr th:only-of-type {\n",
       "        vertical-align: middle;\n",
       "    }\n",
       "\n",
       "    .dataframe tbody tr th {\n",
       "        vertical-align: top;\n",
       "    }\n",
       "\n",
       "    .dataframe thead th {\n",
       "        text-align: right;\n",
       "    }\n",
       "</style>\n",
       "<table border=\"1\" class=\"dataframe\">\n",
       "  <thead>\n",
       "    <tr style=\"text-align: right;\">\n",
       "      <th></th>\n",
       "      <th>Spend</th>\n",
       "    </tr>\n",
       "    <tr>\n",
       "      <th>University</th>\n",
       "      <th></th>\n",
       "    </tr>\n",
       "  </thead>\n",
       "  <tbody>\n",
       "    <tr>\n",
       "      <th>UCD</th>\n",
       "      <td>104075</td>\n",
       "    </tr>\n",
       "    <tr>\n",
       "      <th>DCU</th>\n",
       "      <td>298238</td>\n",
       "    </tr>\n",
       "    <tr>\n",
       "      <th>NUIG</th>\n",
       "      <td>303689</td>\n",
       "    </tr>\n",
       "    <tr>\n",
       "      <th>TCD</th>\n",
       "      <td>458673</td>\n",
       "    </tr>\n",
       "    <tr>\n",
       "      <th>UL</th>\n",
       "      <td>573433</td>\n",
       "    </tr>\n",
       "  </tbody>\n",
       "</table>\n",
       "</div>"
      ],
      "text/plain": [
       "             Spend\n",
       "University        \n",
       "UCD         104075\n",
       "DCU         298238\n",
       "NUIG        303689\n",
       "TCD         458673\n",
       "UL          573433"
      ]
     },
     "execution_count": 35,
     "metadata": {},
     "output_type": "execute_result"
    }
   ],
   "source": [
    "sales_totals = customer_group.sum()\n",
    "sales_totals.sort_values('Spend').head()"
   ]
  },
  {
   "cell_type": "code",
   "execution_count": 38,
   "metadata": {},
   "outputs": [
    {
     "data": {
      "text/plain": [
       "Text(0,0.5,'Project Spend (€)')"
      ]
     },
     "execution_count": 38,
     "metadata": {},
     "output_type": "execute_result"
    },
    {
     "data": {
      "image/png": "[encoded data removed]",
      "text/plain": [
       "<Figure size 432x288 with 1 Axes>"
      ]
     },
     "metadata": {
      "needs_background": "light"
     },
     "output_type": "display_data"
    }
   ],
   "source": [
    "my_plot = sales_totals.sort_values('Spend',ascending=False).plot(kind='bar',legend=None,title=\"Total Project Spend by University\")\n",
    "my_plot.set_xlabel(\"University\")\n",
    "my_plot.set_ylabel(\"Project Spend (€)\")"
   ]
  },
  {
   "cell_type": "code",
   "execution_count": 40,
   "metadata": {},
   "outputs": [
    {
     "data": {
      "text/html": [
       "<div>\n",
       "<style scoped>\n",
       "    .dataframe tbody tr th:only-of-type {\n",
       "        vertical-align: middle;\n",
       "    }\n",
       "\n",
       "    .dataframe tbody tr th {\n",
       "        vertical-align: top;\n",
       "    }\n",
       "\n",
       "    .dataframe thead th {\n",
       "        text-align: right;\n",
       "    }\n",
       "</style>\n",
       "<table border=\"1\" class=\"dataframe\">\n",
       "  <thead>\n",
       "    <tr style=\"text-align: right;\">\n",
       "      <th></th>\n",
       "      <th>University</th>\n",
       "      <th>Category</th>\n",
       "      <th>Spend</th>\n",
       "      <th>Start</th>\n",
       "    </tr>\n",
       "  </thead>\n",
       "  <tbody>\n",
       "    <tr>\n",
       "      <th>0</th>\n",
       "      <td>UCD</td>\n",
       "      <td>Specific</td>\n",
       "      <td>59735</td>\n",
       "      <td>2017-11-19 06:16:36</td>\n",
       "    </tr>\n",
       "    <tr>\n",
       "      <th>1</th>\n",
       "      <td>DCU</td>\n",
       "      <td>Agric</td>\n",
       "      <td>26384</td>\n",
       "      <td>2017-10-26 03:29:30</td>\n",
       "    </tr>\n",
       "    <tr>\n",
       "      <th>2</th>\n",
       "      <td>TCD</td>\n",
       "      <td>Agric</td>\n",
       "      <td>90599</td>\n",
       "      <td>2017-02-04 03:24:16</td>\n",
       "    </tr>\n",
       "    <tr>\n",
       "      <th>3</th>\n",
       "      <td>DCU</td>\n",
       "      <td>Specific</td>\n",
       "      <td>94524</td>\n",
       "      <td>2017-08-23 19:30:53</td>\n",
       "    </tr>\n",
       "    <tr>\n",
       "      <th>4</th>\n",
       "      <td>TCD</td>\n",
       "      <td>Agric</td>\n",
       "      <td>76654</td>\n",
       "      <td>2017-06-26 22:44:03</td>\n",
       "    </tr>\n",
       "  </tbody>\n",
       "</table>\n",
       "</div>"
      ],
      "text/plain": [
       "  University  Category  Spend                Start\n",
       "0        UCD  Specific  59735  2017-11-19 06:16:36\n",
       "1        DCU     Agric  26384  2017-10-26 03:29:30\n",
       "2        TCD     Agric  90599  2017-02-04 03:24:16\n",
       "3        DCU  Specific  94524  2017-08-23 19:30:53\n",
       "4        TCD     Agric  76654  2017-06-26 22:44:03"
      ]
     },
     "execution_count": 40,
     "metadata": {},
     "output_type": "execute_result"
    }
   ],
   "source": [
    "customers = data[['University','Category','Spend','Start']]\n",
    "customers.head()"
   ]
  },
  {
   "cell_type": "code",
   "execution_count": 43,
   "metadata": {},
   "outputs": [
    {
     "data": {
      "text/html": [
       "<div>\n",
       "<style scoped>\n",
       "    .dataframe tbody tr th:only-of-type {\n",
       "        vertical-align: middle;\n",
       "    }\n",
       "\n",
       "    .dataframe tbody tr th {\n",
       "        vertical-align: top;\n",
       "    }\n",
       "\n",
       "    .dataframe thead th {\n",
       "        text-align: right;\n",
       "    }\n",
       "</style>\n",
       "<table border=\"1\" class=\"dataframe\">\n",
       "  <thead>\n",
       "    <tr style=\"text-align: right;\">\n",
       "      <th></th>\n",
       "      <th></th>\n",
       "      <th>Spend</th>\n",
       "    </tr>\n",
       "    <tr>\n",
       "      <th>University</th>\n",
       "      <th>Category</th>\n",
       "      <th></th>\n",
       "    </tr>\n",
       "  </thead>\n",
       "  <tbody>\n",
       "    <tr>\n",
       "      <th rowspan=\"2\" valign=\"top\">DCU</th>\n",
       "      <th>Agric</th>\n",
       "      <td>122266</td>\n",
       "    </tr>\n",
       "    <tr>\n",
       "      <th>Specific</th>\n",
       "      <td>175972</td>\n",
       "    </tr>\n",
       "    <tr>\n",
       "      <th rowspan=\"3\" valign=\"top\">NUIG</th>\n",
       "      <th>Agric</th>\n",
       "      <td>87729</td>\n",
       "    </tr>\n",
       "    <tr>\n",
       "      <th>Specific</th>\n",
       "      <td>165686</td>\n",
       "    </tr>\n",
       "    <tr>\n",
       "      <th>Vet</th>\n",
       "      <td>50274</td>\n",
       "    </tr>\n",
       "  </tbody>\n",
       "</table>\n",
       "</div>"
      ],
      "text/plain": [
       "                      Spend\n",
       "University Category        \n",
       "DCU        Agric     122266\n",
       "           Specific  175972\n",
       "NUIG       Agric      87729\n",
       "           Specific  165686\n",
       "           Vet        50274"
      ]
     },
     "execution_count": 43,
     "metadata": {},
     "output_type": "execute_result"
    }
   ],
   "source": [
    "category_group=customers.groupby(['University','Category']).sum()\n",
    "category_group.head()"
   ]
  },
  {
   "cell_type": "code",
   "execution_count": 44,
   "metadata": {},
   "outputs": [
    {
     "data": {
      "text/html": [
       "<div>\n",
       "<style scoped>\n",
       "    .dataframe tbody tr th:only-of-type {\n",
       "        vertical-align: middle;\n",
       "    }\n",
       "\n",
       "    .dataframe tbody tr th {\n",
       "        vertical-align: top;\n",
       "    }\n",
       "\n",
       "    .dataframe thead tr th {\n",
       "        text-align: left;\n",
       "    }\n",
       "\n",
       "    .dataframe thead tr:last-of-type th {\n",
       "        text-align: right;\n",
       "    }\n",
       "</style>\n",
       "<table border=\"1\" class=\"dataframe\">\n",
       "  <thead>\n",
       "    <tr>\n",
       "      <th></th>\n",
       "      <th colspan=\"5\" halign=\"left\">Spend</th>\n",
       "    </tr>\n",
       "    <tr>\n",
       "      <th>Category</th>\n",
       "      <th>Agric</th>\n",
       "      <th>Lab</th>\n",
       "      <th>Library</th>\n",
       "      <th>Specific</th>\n",
       "      <th>Vet</th>\n",
       "    </tr>\n",
       "    <tr>\n",
       "      <th>University</th>\n",
       "      <th></th>\n",
       "      <th></th>\n",
       "      <th></th>\n",
       "      <th></th>\n",
       "      <th></th>\n",
       "    </tr>\n",
       "  </thead>\n",
       "  <tbody>\n",
       "    <tr>\n",
       "      <th>DCU</th>\n",
       "      <td>122266.0</td>\n",
       "      <td>NaN</td>\n",
       "      <td>NaN</td>\n",
       "      <td>175972.0</td>\n",
       "      <td>NaN</td>\n",
       "    </tr>\n",
       "    <tr>\n",
       "      <th>NUIG</th>\n",
       "      <td>87729.0</td>\n",
       "      <td>NaN</td>\n",
       "      <td>NaN</td>\n",
       "      <td>165686.0</td>\n",
       "      <td>50274.0</td>\n",
       "    </tr>\n",
       "    <tr>\n",
       "      <th>TCD</th>\n",
       "      <td>283073.0</td>\n",
       "      <td>NaN</td>\n",
       "      <td>77668.0</td>\n",
       "      <td>NaN</td>\n",
       "      <td>97932.0</td>\n",
       "    </tr>\n",
       "    <tr>\n",
       "      <th>UCD</th>\n",
       "      <td>NaN</td>\n",
       "      <td>NaN</td>\n",
       "      <td>44340.0</td>\n",
       "      <td>59735.0</td>\n",
       "      <td>NaN</td>\n",
       "    </tr>\n",
       "    <tr>\n",
       "      <th>UL</th>\n",
       "      <td>161683.0</td>\n",
       "      <td>78251.0</td>\n",
       "      <td>188783.0</td>\n",
       "      <td>48417.0</td>\n",
       "      <td>96299.0</td>\n",
       "    </tr>\n",
       "  </tbody>\n",
       "</table>\n",
       "</div>"
      ],
      "text/plain": [
       "               Spend                                      \n",
       "Category       Agric      Lab   Library  Specific      Vet\n",
       "University                                                \n",
       "DCU         122266.0      NaN       NaN  175972.0      NaN\n",
       "NUIG         87729.0      NaN       NaN  165686.0  50274.0\n",
       "TCD         283073.0      NaN   77668.0       NaN  97932.0\n",
       "UCD              NaN      NaN   44340.0   59735.0      NaN\n",
       "UL          161683.0  78251.0  188783.0   48417.0  96299.0"
      ]
     },
     "execution_count": 44,
     "metadata": {},
     "output_type": "execute_result"
    }
   ],
   "source": [
    "category_group.unstack().head()"
   ]
  },
  {
   "cell_type": "code",
   "execution_count": 53,
   "metadata": {
    "scrolled": true
   },
   "outputs": [
    {
     "data": {
      "text/plain": [
       "Text(0,0.5,'Project Spend (€)')"
      ]
     },
     "execution_count": 53,
     "metadata": {},
     "output_type": "execute_result"
    },
    {
     "data": {
      "image/png": "[encoded data removed]",
      "text/plain": [
       "<Figure size 432x288 with 1 Axes>"
      ]
     },
     "metadata": {
      "needs_background": "light"
     },
     "output_type": "display_data"
    }
   ],
   "source": [
    "my_plot = category_group.unstack().plot(kind='bar',stacked=True,title=\"Total Project Spend by University 2017\")\n",
    "my_plot.set_xlabel(\"University\")\n",
    "my_plot.set_ylabel(\"Project Spend (€)\")\n"
   ]
  },
  {
   "cell_type": "code",
   "execution_count": 54,
   "metadata": {},
   "outputs": [
    {
     "data": {
      "text/plain": [
       "<matplotlib.legend.Legend at 0x1f44d29c1d0>"
      ]
     },
     "execution_count": 54,
     "metadata": {},
     "output_type": "execute_result"
    },
    {
     "data": {
      "image/png": "[encoded data removed]",
      "text/plain": [
       "<Figure size 648x504 with 1 Axes>"
      ]
     },
     "metadata": {
      "needs_background": "light"
     },
     "output_type": "display_data"
    }
   ],
   "source": [
    "my_plot = category_group.unstack().plot(kind='bar',stacked=True,title=\"Total Project Spend by University 2017\",figsize=(9, 7))\n",
    "my_plot.set_xlabel(\"University\")\n",
    "my_plot.set_ylabel(\"Project Spend\")\n",
    "my_plot.legend([\"Agriculture\",\"Laboratory\",\"Library\",\"Education Specific\", \"Veterinary\"], loc=9,ncol=4)"
   ]
  },
  {
   "cell_type": "code",
   "execution_count": 58,
   "metadata": {},
   "outputs": [
    {
     "data": {
      "text/html": [
       "<div>\n",
       "<style scoped>\n",
       "    .dataframe tbody tr th:only-of-type {\n",
       "        vertical-align: middle;\n",
       "    }\n",
       "\n",
       "    .dataframe tbody tr th {\n",
       "        vertical-align: top;\n",
       "    }\n",
       "\n",
       "    .dataframe thead th {\n",
       "        text-align: right;\n",
       "    }\n",
       "</style>\n",
       "<table border=\"1\" class=\"dataframe\">\n",
       "  <thead>\n",
       "    <tr style=\"text-align: right;\">\n",
       "      <th></th>\n",
       "      <th>Spend</th>\n",
       "      <th>Start</th>\n",
       "    </tr>\n",
       "  </thead>\n",
       "  <tbody>\n",
       "    <tr>\n",
       "      <th>0</th>\n",
       "      <td>59735</td>\n",
       "      <td>2017-11-19 06:16:36</td>\n",
       "    </tr>\n",
       "    <tr>\n",
       "      <th>1</th>\n",
       "      <td>26384</td>\n",
       "      <td>2017-10-26 03:29:30</td>\n",
       "    </tr>\n",
       "    <tr>\n",
       "      <th>2</th>\n",
       "      <td>90599</td>\n",
       "      <td>2017-02-04 03:24:16</td>\n",
       "    </tr>\n",
       "    <tr>\n",
       "      <th>3</th>\n",
       "      <td>94524</td>\n",
       "      <td>2017-08-23 19:30:53</td>\n",
       "    </tr>\n",
       "    <tr>\n",
       "      <th>4</th>\n",
       "      <td>76654</td>\n",
       "      <td>2017-06-26 22:44:03</td>\n",
       "    </tr>\n",
       "  </tbody>\n",
       "</table>\n",
       "</div>"
      ],
      "text/plain": [
       "   Spend                Start\n",
       "0  59735  2017-11-19 06:16:36\n",
       "1  26384  2017-10-26 03:29:30\n",
       "2  90599  2017-02-04 03:24:16\n",
       "3  94524  2017-08-23 19:30:53\n",
       "4  76654  2017-06-26 22:44:03"
      ]
     },
     "execution_count": 58,
     "metadata": {},
     "output_type": "execute_result"
    }
   ],
   "source": [
    "purchase_patterns = data[['Spend','Start']]\n",
    "purchase_patterns.head()"
   ]
  },
  {
   "cell_type": "code",
   "execution_count": 61,
   "metadata": {},
   "outputs": [
    {
     "data": {
      "text/plain": [
       "Text(0,0.5,'Number of Projects')"
      ]
     },
     "execution_count": 61,
     "metadata": {},
     "output_type": "execute_result"
    },
    {
     "data": {
      "image/png": "[encoded data removed]",
      "text/plain": [
       "<Figure size 432x288 with 1 Axes>"
      ]
     },
     "metadata": {
      "needs_background": "light"
     },
     "output_type": "display_data"
    }
   ],
   "source": [
    "purchase_plot = purchase_patterns['Spend'].hist(bins=20)\n",
    "purchase_plot.set_title(\"Project Spend Patterns\")\n",
    "purchase_plot.set_xlabel(\"Amount (€)\")\n",
    "purchase_plot.set_ylabel(\"Number of Projects\")"
   ]
  },
  {
   "cell_type": "code",
   "execution_count": 63,
   "metadata": {},
   "outputs": [
    {
     "data": {
      "text/html": [
       "<div>\n",
       "<style scoped>\n",
       "    .dataframe tbody tr th:only-of-type {\n",
       "        vertical-align: middle;\n",
       "    }\n",
       "\n",
       "    .dataframe tbody tr th {\n",
       "        vertical-align: top;\n",
       "    }\n",
       "\n",
       "    .dataframe thead th {\n",
       "        text-align: right;\n",
       "    }\n",
       "</style>\n",
       "<table border=\"1\" class=\"dataframe\">\n",
       "  <thead>\n",
       "    <tr style=\"text-align: right;\">\n",
       "      <th></th>\n",
       "      <th>Spend</th>\n",
       "    </tr>\n",
       "    <tr>\n",
       "      <th>Start</th>\n",
       "      <th></th>\n",
       "    </tr>\n",
       "  </thead>\n",
       "  <tbody>\n",
       "    <tr>\n",
       "      <th>2017-11-19 06:16:36</th>\n",
       "      <td>59735</td>\n",
       "    </tr>\n",
       "    <tr>\n",
       "      <th>2017-10-26 03:29:30</th>\n",
       "      <td>26384</td>\n",
       "    </tr>\n",
       "    <tr>\n",
       "      <th>2017-02-04 03:24:16</th>\n",
       "      <td>90599</td>\n",
       "    </tr>\n",
       "    <tr>\n",
       "      <th>2017-08-23 19:30:53</th>\n",
       "      <td>94524</td>\n",
       "    </tr>\n",
       "    <tr>\n",
       "      <th>2017-06-26 22:44:03</th>\n",
       "      <td>76654</td>\n",
       "    </tr>\n",
       "  </tbody>\n",
       "</table>\n",
       "</div>"
      ],
      "text/plain": [
       "                     Spend\n",
       "Start                     \n",
       "2017-11-19 06:16:36  59735\n",
       "2017-10-26 03:29:30  26384\n",
       "2017-02-04 03:24:16  90599\n",
       "2017-08-23 19:30:53  94524\n",
       "2017-06-26 22:44:03  76654"
      ]
     },
     "execution_count": 63,
     "metadata": {},
     "output_type": "execute_result"
    }
   ],
   "source": [
    "purchase_patterns = purchase_patterns.set_index('Start')\n",
    "purchase_patterns.head()"
   ]
  },
  {
   "cell_type": "code",
   "execution_count": 66,
   "metadata": {},
   "outputs": [
    {
     "ename": "TypeError",
     "evalue": "Only valid with DatetimeIndex, TimedeltaIndex or PeriodIndex, but got an instance of 'Index'",
     "output_type": "error",
     "traceback": [
      "\u001b[1;31m---------------------------------------------------------------------------\u001b[0m",
      "\u001b[1;31mTypeError\u001b[0m                                 Traceback (most recent call last)",
      "\u001b[1;32m<ipython-input-66-429b9442ee65>\u001b[0m in \u001b[0;36m<module>\u001b[1;34m()\u001b[0m\n\u001b[1;32m----> 1\u001b[1;33m \u001b[0mpurchase_patterns\u001b[0m\u001b[1;33m.\u001b[0m\u001b[0mresample\u001b[0m\u001b[1;33m(\u001b[0m\u001b[1;34m'M'\u001b[0m\u001b[1;33m,\u001b[0m\u001b[0mhow\u001b[0m\u001b[1;33m=\u001b[0m\u001b[0msum\u001b[0m\u001b[1;33m)\u001b[0m\u001b[1;33m\u001b[0m\u001b[0m\n\u001b[0m",
      "\u001b[1;32m~\\Anaconda3\\lib\\site-packages\\pandas\\core\\generic.py\u001b[0m in \u001b[0;36mresample\u001b[1;34m(self, rule, how, axis, fill_method, closed, label, convention, kind, loffset, limit, base, on, level)\u001b[0m\n\u001b[0;32m   7108\u001b[0m                      \u001b[0maxis\u001b[0m\u001b[1;33m=\u001b[0m\u001b[0maxis\u001b[0m\u001b[1;33m,\u001b[0m \u001b[0mkind\u001b[0m\u001b[1;33m=\u001b[0m\u001b[0mkind\u001b[0m\u001b[1;33m,\u001b[0m \u001b[0mloffset\u001b[0m\u001b[1;33m=\u001b[0m\u001b[0mloffset\u001b[0m\u001b[1;33m,\u001b[0m\u001b[1;33m\u001b[0m\u001b[0m\n\u001b[0;32m   7109\u001b[0m                      \u001b[0mconvention\u001b[0m\u001b[1;33m=\u001b[0m\u001b[0mconvention\u001b[0m\u001b[1;33m,\u001b[0m\u001b[1;33m\u001b[0m\u001b[0m\n\u001b[1;32m-> 7110\u001b[1;33m                      base=base, key=on, level=level)\n\u001b[0m\u001b[0;32m   7111\u001b[0m         return _maybe_process_deprecations(r,\n\u001b[0;32m   7112\u001b[0m                                            \u001b[0mhow\u001b[0m\u001b[1;33m=\u001b[0m\u001b[0mhow\u001b[0m\u001b[1;33m,\u001b[0m\u001b[1;33m\u001b[0m\u001b[0m\n",
      "\u001b[1;32m~\\Anaconda3\\lib\\site-packages\\pandas\\core\\resample.py\u001b[0m in \u001b[0;36mresample\u001b[1;34m(obj, kind, **kwds)\u001b[0m\n\u001b[0;32m   1146\u001b[0m     \u001b[1;34m\"\"\" create a TimeGrouper and return our resampler \"\"\"\u001b[0m\u001b[1;33m\u001b[0m\u001b[0m\n\u001b[0;32m   1147\u001b[0m     \u001b[0mtg\u001b[0m \u001b[1;33m=\u001b[0m \u001b[0mTimeGrouper\u001b[0m\u001b[1;33m(\u001b[0m\u001b[1;33m**\u001b[0m\u001b[0mkwds\u001b[0m\u001b[1;33m)\u001b[0m\u001b[1;33m\u001b[0m\u001b[0m\n\u001b[1;32m-> 1148\u001b[1;33m     \u001b[1;32mreturn\u001b[0m \u001b[0mtg\u001b[0m\u001b[1;33m.\u001b[0m\u001b[0m_get_resampler\u001b[0m\u001b[1;33m(\u001b[0m\u001b[0mobj\u001b[0m\u001b[1;33m,\u001b[0m \u001b[0mkind\u001b[0m\u001b[1;33m=\u001b[0m\u001b[0mkind\u001b[0m\u001b[1;33m)\u001b[0m\u001b[1;33m\u001b[0m\u001b[0m\n\u001b[0m\u001b[0;32m   1149\u001b[0m \u001b[1;33m\u001b[0m\u001b[0m\n\u001b[0;32m   1150\u001b[0m \u001b[1;33m\u001b[0m\u001b[0m\n",
      "\u001b[1;32m~\\Anaconda3\\lib\\site-packages\\pandas\\core\\resample.py\u001b[0m in \u001b[0;36m_get_resampler\u001b[1;34m(self, obj, kind)\u001b[0m\n\u001b[0;32m   1274\u001b[0m         raise TypeError(\"Only valid with DatetimeIndex, \"\n\u001b[0;32m   1275\u001b[0m                         \u001b[1;34m\"TimedeltaIndex or PeriodIndex, \"\u001b[0m\u001b[1;33m\u001b[0m\u001b[0m\n\u001b[1;32m-> 1276\u001b[1;33m                         \"but got an instance of %r\" % type(ax).__name__)\n\u001b[0m\u001b[0;32m   1277\u001b[0m \u001b[1;33m\u001b[0m\u001b[0m\n\u001b[0;32m   1278\u001b[0m     \u001b[1;32mdef\u001b[0m \u001b[0m_get_grouper\u001b[0m\u001b[1;33m(\u001b[0m\u001b[0mself\u001b[0m\u001b[1;33m,\u001b[0m \u001b[0mobj\u001b[0m\u001b[1;33m,\u001b[0m \u001b[0mvalidate\u001b[0m\u001b[1;33m=\u001b[0m\u001b[1;32mTrue\u001b[0m\u001b[1;33m)\u001b[0m\u001b[1;33m:\u001b[0m\u001b[1;33m\u001b[0m\u001b[0m\n",
      "\u001b[1;31mTypeError\u001b[0m: Only valid with DatetimeIndex, TimedeltaIndex or PeriodIndex, but got an instance of 'Index'"
     ]
    }
   ],
   "source": [
    "purchase_patterns.resample('M',how=sum)"
   ]
  },
  {
   "cell_type": "code",
   "execution_count": null,
   "metadata": {},
   "outputs": [],
   "source": []
  },
  {
   "cell_type": "code",
   "execution_count": null,
   "metadata": {},
   "outputs": [],
   "source": [
    "'University', 'Category', 'Spend', 'Start', 'Duration', 'Specialist']"
   ]
  },
  {
   "cell_type": "code",
   "execution_count": 173,
   "metadata": {
    "scrolled": true
   },
   "outputs": [
    {
     "data": {
      "text/plain": [
       "Spend       63078.269231\n",
       "Month           7.153846\n",
       "Duration       15.846154\n",
       "dtype: float64"
      ]
     },
     "execution_count": 173,
     "metadata": {},
     "output_type": "execute_result"
    }
   ],
   "source": [
    "data.mean()"
   ]
  },
  {
   "cell_type": "code",
   "execution_count": 174,
   "metadata": {},
   "outputs": [],
   "source": [
    "data_high = data[data[\"Spend\"]>=60000]"
   ]
  },
  {
   "cell_type": "code",
   "execution_count": 175,
   "metadata": {},
   "outputs": [
    {
     "data": {
      "text/html": [
       "<div>\n",
       "<style scoped>\n",
       "    .dataframe tbody tr th:only-of-type {\n",
       "        vertical-align: middle;\n",
       "    }\n",
       "\n",
       "    .dataframe tbody tr th {\n",
       "        vertical-align: top;\n",
       "    }\n",
       "\n",
       "    .dataframe thead th {\n",
       "        text-align: right;\n",
       "    }\n",
       "</style>\n",
       "<table border=\"1\" class=\"dataframe\">\n",
       "  <thead>\n",
       "    <tr style=\"text-align: right;\">\n",
       "      <th></th>\n",
       "      <th>University</th>\n",
       "      <th>Category</th>\n",
       "      <th>Spend</th>\n",
       "      <th>Month</th>\n",
       "      <th>Duration</th>\n",
       "      <th>Specialist</th>\n",
       "    </tr>\n",
       "  </thead>\n",
       "  <tbody>\n",
       "    <tr>\n",
       "      <th>2</th>\n",
       "      <td>NUIG</td>\n",
       "      <td>Specific</td>\n",
       "      <td>74756</td>\n",
       "      <td>8</td>\n",
       "      <td>2</td>\n",
       "      <td>Mark</td>\n",
       "    </tr>\n",
       "    <tr>\n",
       "      <th>3</th>\n",
       "      <td>DCU</td>\n",
       "      <td>Vet</td>\n",
       "      <td>82308</td>\n",
       "      <td>6</td>\n",
       "      <td>19</td>\n",
       "      <td>Mary</td>\n",
       "    </tr>\n",
       "    <tr>\n",
       "      <th>6</th>\n",
       "      <td>UL</td>\n",
       "      <td>Lab</td>\n",
       "      <td>78942</td>\n",
       "      <td>4</td>\n",
       "      <td>18</td>\n",
       "      <td>Mary</td>\n",
       "    </tr>\n",
       "    <tr>\n",
       "      <th>7</th>\n",
       "      <td>NUIG</td>\n",
       "      <td>Vet</td>\n",
       "      <td>99573</td>\n",
       "      <td>11</td>\n",
       "      <td>8</td>\n",
       "      <td>Tom</td>\n",
       "    </tr>\n",
       "    <tr>\n",
       "      <th>9</th>\n",
       "      <td>UL</td>\n",
       "      <td>Lab</td>\n",
       "      <td>79779</td>\n",
       "      <td>10</td>\n",
       "      <td>12</td>\n",
       "      <td>John</td>\n",
       "    </tr>\n",
       "    <tr>\n",
       "      <th>11</th>\n",
       "      <td>DCU</td>\n",
       "      <td>Lab</td>\n",
       "      <td>77817</td>\n",
       "      <td>10</td>\n",
       "      <td>17</td>\n",
       "      <td>Mark</td>\n",
       "    </tr>\n",
       "    <tr>\n",
       "      <th>13</th>\n",
       "      <td>TCD</td>\n",
       "      <td>Vet</td>\n",
       "      <td>73371</td>\n",
       "      <td>3</td>\n",
       "      <td>2</td>\n",
       "      <td>Ann</td>\n",
       "    </tr>\n",
       "    <tr>\n",
       "      <th>14</th>\n",
       "      <td>UCD</td>\n",
       "      <td>Vet</td>\n",
       "      <td>72354</td>\n",
       "      <td>6</td>\n",
       "      <td>18</td>\n",
       "      <td>Tom</td>\n",
       "    </tr>\n",
       "    <tr>\n",
       "      <th>15</th>\n",
       "      <td>DCU</td>\n",
       "      <td>Agric</td>\n",
       "      <td>81062</td>\n",
       "      <td>11</td>\n",
       "      <td>13</td>\n",
       "      <td>John</td>\n",
       "    </tr>\n",
       "    <tr>\n",
       "      <th>17</th>\n",
       "      <td>TCD</td>\n",
       "      <td>Vet</td>\n",
       "      <td>63870</td>\n",
       "      <td>2</td>\n",
       "      <td>15</td>\n",
       "      <td>Tom</td>\n",
       "    </tr>\n",
       "    <tr>\n",
       "      <th>19</th>\n",
       "      <td>DCU</td>\n",
       "      <td>Library</td>\n",
       "      <td>93727</td>\n",
       "      <td>9</td>\n",
       "      <td>1</td>\n",
       "      <td>John</td>\n",
       "    </tr>\n",
       "    <tr>\n",
       "      <th>20</th>\n",
       "      <td>DCU</td>\n",
       "      <td>Specific</td>\n",
       "      <td>67661</td>\n",
       "      <td>4</td>\n",
       "      <td>3</td>\n",
       "      <td>Tom</td>\n",
       "    </tr>\n",
       "    <tr>\n",
       "      <th>21</th>\n",
       "      <td>NUIG</td>\n",
       "      <td>Library</td>\n",
       "      <td>65831</td>\n",
       "      <td>6</td>\n",
       "      <td>20</td>\n",
       "      <td>Mark</td>\n",
       "    </tr>\n",
       "    <tr>\n",
       "      <th>22</th>\n",
       "      <td>UCD</td>\n",
       "      <td>Library</td>\n",
       "      <td>64308</td>\n",
       "      <td>9</td>\n",
       "      <td>24</td>\n",
       "      <td>Tom</td>\n",
       "    </tr>\n",
       "    <tr>\n",
       "      <th>24</th>\n",
       "      <td>DCU</td>\n",
       "      <td>Specific</td>\n",
       "      <td>99314</td>\n",
       "      <td>11</td>\n",
       "      <td>26</td>\n",
       "      <td>Mark</td>\n",
       "    </tr>\n",
       "  </tbody>\n",
       "</table>\n",
       "</div>"
      ],
      "text/plain": [
       "   University  Category  Spend  Month  Duration Specialist\n",
       "2        NUIG  Specific  74756      8         2       Mark\n",
       "3         DCU       Vet  82308      6        19       Mary\n",
       "6          UL       Lab  78942      4        18       Mary\n",
       "7        NUIG       Vet  99573     11         8        Tom\n",
       "9          UL       Lab  79779     10        12       John\n",
       "11        DCU       Lab  77817     10        17       Mark\n",
       "13        TCD       Vet  73371      3         2        Ann\n",
       "14        UCD       Vet  72354      6        18        Tom\n",
       "15        DCU     Agric  81062     11        13       John\n",
       "17        TCD       Vet  63870      2        15        Tom\n",
       "19        DCU   Library  93727      9         1       John\n",
       "20        DCU  Specific  67661      4         3        Tom\n",
       "21       NUIG   Library  65831      6        20       Mark\n",
       "22        UCD   Library  64308      9        24        Tom\n",
       "24        DCU  Specific  99314     11        26       Mark"
      ]
     },
     "execution_count": 175,
     "metadata": {},
     "output_type": "execute_result"
    }
   ],
   "source": [
    "data_high"
   ]
  },
  {
   "cell_type": "code",
   "execution_count": 176,
   "metadata": {},
   "outputs": [],
   "source": [
    "data_low = data[data[\"Spend\"]<=60000]"
   ]
  },
  {
   "cell_type": "code",
   "execution_count": 177,
   "metadata": {},
   "outputs": [
    {
     "data": {
      "text/html": [
       "<div>\n",
       "<style scoped>\n",
       "    .dataframe tbody tr th:only-of-type {\n",
       "        vertical-align: middle;\n",
       "    }\n",
       "\n",
       "    .dataframe tbody tr th {\n",
       "        vertical-align: top;\n",
       "    }\n",
       "\n",
       "    .dataframe thead th {\n",
       "        text-align: right;\n",
       "    }\n",
       "</style>\n",
       "<table border=\"1\" class=\"dataframe\">\n",
       "  <thead>\n",
       "    <tr style=\"text-align: right;\">\n",
       "      <th></th>\n",
       "      <th>University</th>\n",
       "      <th>Category</th>\n",
       "      <th>Spend</th>\n",
       "      <th>Month</th>\n",
       "      <th>Duration</th>\n",
       "      <th>Specialist</th>\n",
       "    </tr>\n",
       "  </thead>\n",
       "  <tbody>\n",
       "    <tr>\n",
       "      <th>0</th>\n",
       "      <td>DCU</td>\n",
       "      <td>Lab</td>\n",
       "      <td>46107</td>\n",
       "      <td>7</td>\n",
       "      <td>24</td>\n",
       "      <td>Tom</td>\n",
       "    </tr>\n",
       "    <tr>\n",
       "      <th>1</th>\n",
       "      <td>DCU</td>\n",
       "      <td>Agric</td>\n",
       "      <td>29930</td>\n",
       "      <td>9</td>\n",
       "      <td>25</td>\n",
       "      <td>John</td>\n",
       "    </tr>\n",
       "    <tr>\n",
       "      <th>4</th>\n",
       "      <td>DCU</td>\n",
       "      <td>Agric</td>\n",
       "      <td>45165</td>\n",
       "      <td>12</td>\n",
       "      <td>2</td>\n",
       "      <td>Ann</td>\n",
       "    </tr>\n",
       "    <tr>\n",
       "      <th>5</th>\n",
       "      <td>UCD</td>\n",
       "      <td>Vet</td>\n",
       "      <td>25100</td>\n",
       "      <td>11</td>\n",
       "      <td>15</td>\n",
       "      <td>Mark</td>\n",
       "    </tr>\n",
       "    <tr>\n",
       "      <th>8</th>\n",
       "      <td>DCU</td>\n",
       "      <td>Library</td>\n",
       "      <td>31037</td>\n",
       "      <td>3</td>\n",
       "      <td>22</td>\n",
       "      <td>Mark</td>\n",
       "    </tr>\n",
       "    <tr>\n",
       "      <th>10</th>\n",
       "      <td>UL</td>\n",
       "      <td>Vet</td>\n",
       "      <td>50247</td>\n",
       "      <td>12</td>\n",
       "      <td>15</td>\n",
       "      <td>Ann</td>\n",
       "    </tr>\n",
       "    <tr>\n",
       "      <th>12</th>\n",
       "      <td>UCD</td>\n",
       "      <td>Library</td>\n",
       "      <td>49813</td>\n",
       "      <td>4</td>\n",
       "      <td>21</td>\n",
       "      <td>Mark</td>\n",
       "    </tr>\n",
       "    <tr>\n",
       "      <th>16</th>\n",
       "      <td>NUIG</td>\n",
       "      <td>Vet</td>\n",
       "      <td>47957</td>\n",
       "      <td>5</td>\n",
       "      <td>23</td>\n",
       "      <td>Mary</td>\n",
       "    </tr>\n",
       "    <tr>\n",
       "      <th>18</th>\n",
       "      <td>TCD</td>\n",
       "      <td>Lab</td>\n",
       "      <td>54849</td>\n",
       "      <td>6</td>\n",
       "      <td>23</td>\n",
       "      <td>Mary</td>\n",
       "    </tr>\n",
       "    <tr>\n",
       "      <th>23</th>\n",
       "      <td>NUIG</td>\n",
       "      <td>Vet</td>\n",
       "      <td>28418</td>\n",
       "      <td>5</td>\n",
       "      <td>29</td>\n",
       "      <td>Mary</td>\n",
       "    </tr>\n",
       "    <tr>\n",
       "      <th>25</th>\n",
       "      <td>NUIG</td>\n",
       "      <td>Specific</td>\n",
       "      <td>56739</td>\n",
       "      <td>2</td>\n",
       "      <td>15</td>\n",
       "      <td>Ann</td>\n",
       "    </tr>\n",
       "  </tbody>\n",
       "</table>\n",
       "</div>"
      ],
      "text/plain": [
       "   University  Category  Spend  Month  Duration Specialist\n",
       "0         DCU       Lab  46107      7        24        Tom\n",
       "1         DCU     Agric  29930      9        25       John\n",
       "4         DCU     Agric  45165     12         2        Ann\n",
       "5         UCD       Vet  25100     11        15       Mark\n",
       "8         DCU   Library  31037      3        22       Mark\n",
       "10         UL       Vet  50247     12        15        Ann\n",
       "12        UCD   Library  49813      4        21       Mark\n",
       "16       NUIG       Vet  47957      5        23       Mary\n",
       "18        TCD       Lab  54849      6        23       Mary\n",
       "23       NUIG       Vet  28418      5        29       Mary\n",
       "25       NUIG  Specific  56739      2        15        Ann"
      ]
     },
     "execution_count": 177,
     "metadata": {},
     "output_type": "execute_result"
    }
   ],
   "source": [
    "data_low"
   ]
  },
  {
   "cell_type": "code",
   "execution_count": null,
   "metadata": {},
   "outputs": [],
   "source": []
  },
  {
   "cell_type": "code",
   "execution_count": null,
   "metadata": {},
   "outputs": [],
   "source": []
  },
  {
   "cell_type": "code",
   "execution_count": null,
   "metadata": {},
   "outputs": [],
   "source": []
  },
  {
   "cell_type": "code",
   "execution_count": null,
   "metadata": {},
   "outputs": [],
   "source": []
  },
  {
   "cell_type": "code",
   "execution_count": null,
   "metadata": {},
   "outputs": [],
   "source": []
  },
  {
   "cell_type": "code",
   "execution_count": 131,
   "metadata": {},
   "outputs": [],
   "source": [
    "cf = data.loc[:, 'University']"
   ]
  },
  {
   "cell_type": "code",
   "execution_count": 132,
   "metadata": {},
   "outputs": [
    {
     "data": {
      "text/plain": [
       "0      UCD\n",
       "1      TCD\n",
       "2      TCD\n",
       "3      TCD\n",
       "4      TCD\n",
       "5      DCU\n",
       "6       UL\n",
       "7      UCD\n",
       "8      TCD\n",
       "9     NUIG\n",
       "10     UCD\n",
       "11     TCD\n",
       "12     TCD\n",
       "13     DCU\n",
       "14      UL\n",
       "15      UL\n",
       "16     DCU\n",
       "17    NUIG\n",
       "18      UL\n",
       "19    NUIG\n",
       "20     UCD\n",
       "21     UCD\n",
       "22      UL\n",
       "23      UL\n",
       "24     UCD\n",
       "25     UCD\n",
       "Name: University, dtype: object"
      ]
     },
     "execution_count": 132,
     "metadata": {},
     "output_type": "execute_result"
    }
   ],
   "source": [
    "cf"
   ]
  },
  {
   "cell_type": "code",
   "execution_count": 134,
   "metadata": {},
   "outputs": [
    {
     "ename": "NameError",
     "evalue": "name 'summary' is not defined",
     "output_type": "error",
     "traceback": [
      "\u001b[1;31m---------------------------------------------------------------------------\u001b[0m",
      "\u001b[1;31mNameError\u001b[0m                                 Traceback (most recent call last)",
      "\u001b[1;32m<ipython-input-134-959d247a1e7f>\u001b[0m in \u001b[0;36m<module>\u001b[1;34m()\u001b[0m\n\u001b[1;32m----> 1\u001b[1;33m \u001b[0msummary\u001b[0m\u001b[1;33m(\u001b[0m\u001b[0mdata\u001b[0m\u001b[1;33m)\u001b[0m\u001b[1;33m\u001b[0m\u001b[0m\n\u001b[0m",
      "\u001b[1;31mNameError\u001b[0m: name 'summary' is not defined"
     ]
    }
   ],
   "source": [
    "summary(data)"
   ]
  },
  {
   "cell_type": "code",
   "execution_count": null,
   "metadata": {},
   "outputs": [],
   "source": []
  },
  {
   "cell_type": "code",
   "execution_count": null,
   "metadata": {},
   "outputs": [],
   "source": []
  },
  {
   "cell_type": "code",
   "execution_count": null,
   "metadata": {},
   "outputs": [],
   "source": []
  },
  {
   "cell_type": "code",
   "execution_count": 27,
   "metadata": {},
   "outputs": [],
   "source": [
    "import seaborn as sns"
   ]
  },
  {
   "cell_type": "code",
   "execution_count": 29,
   "metadata": {},
   "outputs": [
    {
     "name": "stderr",
     "output_type": "stream",
     "text": [
      "C:\\Users\\Windows\\Anaconda3\\lib\\site-packages\\scipy\\stats\\stats.py:1713: FutureWarning: Using a non-tuple sequence for multidimensional indexing is deprecated; use `arr[tuple(seq)]` instead of `arr[seq]`. In the future this will be interpreted as an array index, `arr[np.array(seq)]`, which will result either in an error or a different result.\n",
      "  return np.add.reduce(sorted[indexer] * weights, axis=axis) / sumval\n"
     ]
    },
    {
     "data": {
      "text/plain": [
       "<seaborn.axisgrid.PairGrid at 0x18049478f60>"
      ]
     },
     "execution_count": 29,
     "metadata": {},
     "output_type": "execute_result"
    },
    {
     "data": {
      "image/png": "[encoded data removed]",
      "text/plain": [
       "<Figure size 601.5x540 with 12 Axes>"
      ]
     },
     "metadata": {
      "needs_background": "light"
     },
     "output_type": "display_data"
    }
   ],
   "source": [
    "sns.pairplot(data, hue='University')"
   ]
  },
  {
   "cell_type": "code",
   "execution_count": 30,
   "metadata": {},
   "outputs": [
    {
     "data": {
      "text/plain": [
       "<seaborn.axisgrid.PairGrid at 0x180495f8dd8>"
      ]
     },
     "execution_count": 30,
     "metadata": {},
     "output_type": "execute_result"
    },
    {
     "data": {
      "image/png": "[encoded data removed]",
      "text/plain": [
       "<Figure size 540x540 with 12 Axes>"
      ]
     },
     "metadata": {
      "needs_background": "light"
     },
     "output_type": "display_data"
    }
   ],
   "source": [
    "sns.pairplot(data)"
   ]
  }
 ],
 "metadata": {
  "kernelspec": {
   "display_name": "Python 3",
   "language": "python",
   "name": "python3"
  },
  "language_info": {
   "codemirror_mode": {
    "name": "ipython",
    "version": 3
   },
   "file_extension": ".py",
   "mimetype": "text/x-python",
   "name": "python",
   "nbconvert_exporter": "python",
   "pygments_lexer": "ipython3",
   "version": "3.6.6"
  }
 },
 "nbformat": 4,
 "nbformat_minor": 2
}
