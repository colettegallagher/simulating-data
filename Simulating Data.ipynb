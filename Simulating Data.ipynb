{
 "cells": [
  {
   "cell_type": "markdown",
   "metadata": {},
   "source": [
    "# Programming for Data Analytics "
   ]
  },
  {
   "cell_type": "markdown",
   "metadata": {},
   "source": [
    "# Project - To Synthesise a Data Set which simulates a real-world phenomenon"
   ]
  },
  {
   "cell_type": "markdown",
   "metadata": {},
   "source": [
    "## Introduction\n",
    "\n",
    "This project is modelled on the business activites of the Office of Government Procurement's Education department.\n",
    "\n",
    "The following is a simulation of a data set recording the capital projects of five Irish universities in 2017:\n",
    " - University College Dublin (UCD)\n",
    " - Dublin City University (DCU)\n",
    " - University of Limerick (UL)\n",
    " - Trinity College Dublin (TCD)\n",
    " - National University of Ireland Galway (NUIG)\n",
    "\n",
    "These projects are for five categories:\n",
    " - Laboratory\n",
    " - Agriculture\n",
    " - Veterinary\n",
    " - Library\n",
    " - Education Specific\n",
    " \n",
    "These capital projects have a minimum value of €25,000 and a maximum value of €1,000,000.  The projects are allocated to one of four individuals.  The duration of the projects is between 21 and 60 days.  Project start dates are all in 2017.\n",
    "\n",
    "The project analyses a randomly generated data set which is based on the above information. The aim of the analysis is to investigate the category which is the most beneficial to the organisation based on:\n",
    " - university demand, \n",
    " - the capital spend, \n",
    " - the time spent by employees completing the projects.  \n",
    " \n",
    "It is also hoped that an analysis of the start dates of the projects will allow the organisation to allocate staff accordingly, ie to ensure adequate staff are available at times of high demand.\n"
   ]
  },
  {
   "cell_type": "markdown",
   "metadata": {},
   "source": [
    "## Creating the Random Data Set"
   ]
  },
  {
   "cell_type": "markdown",
   "metadata": {},
   "source": [
    "Import the Pandas, Numpy, Matplotlib and Datetime libraries"
   ]
  },
  {
   "cell_type": "code",
   "execution_count": 4,
   "metadata": {},
   "outputs": [],
   "source": [
    "import pandas as pd"
   ]
  },
  {
   "cell_type": "code",
   "execution_count": 5,
   "metadata": {},
   "outputs": [],
   "source": [
    "import numpy as np"
   ]
  },
  {
   "cell_type": "code",
   "execution_count": 6,
   "metadata": {},
   "outputs": [],
   "source": [
    "import matplotlib.pyplot as plt"
   ]
  },
  {
   "cell_type": "code",
   "execution_count": 160,
   "metadata": {},
   "outputs": [],
   "source": [
    "import datetime"
   ]
  },
  {
   "cell_type": "markdown",
   "metadata": {},
   "source": [
    "Enable matplotlib graphs to be displayed"
   ]
  },
  {
   "cell_type": "code",
   "execution_count": 7,
   "metadata": {},
   "outputs": [],
   "source": [
    "%matplotlib inline"
   ]
  },
  {
   "cell_type": "markdown",
   "metadata": {},
   "source": [
    "Create a random seed to fix the randomly generated data to specifc values each time it is run"
   ]
  },
  {
   "cell_type": "code",
   "execution_count": 8,
   "metadata": {},
   "outputs": [],
   "source": [
    "np.random.seed(0)"
   ]
  },
  {
   "cell_type": "markdown",
   "metadata": {},
   "source": [
    "Set up the lists of University Names, Category Names and Employee Names to be used"
   ]
  },
  {
   "cell_type": "code",
   "execution_count": 9,
   "metadata": {},
   "outputs": [],
   "source": [
    "uni_name = ['UL', 'TCD', 'DCU', 'UCD', 'NUIG']"
   ]
  },
  {
   "cell_type": "code",
   "execution_count": 10,
   "metadata": {},
   "outputs": [],
   "source": [
    "cat_name = ['Vet', 'Agric', 'Lab', 'Library', 'Specific']"
   ]
  },
  {
   "cell_type": "code",
   "execution_count": 11,
   "metadata": {},
   "outputs": [],
   "source": [
    "ee_name = ['Ann', 'Mary', 'Tom', 'John', 'Mark']"
   ]
  },
  {
   "cell_type": "markdown",
   "metadata": {},
   "source": [
    "Create 26 random dates as the start dates for each randomly generated project"
   ]
  },
  {
   "cell_type": "code",
   "execution_count": 12,
   "metadata": {},
   "outputs": [],
   "source": [
    "def random_dates(start, end, n=26):\n",
    "\n",
    "    start_u = start.value//10**9\n",
    "    end_u = end.value//10**9\n",
    "\n",
    "    return pd.to_datetime(np.random.randint(start_u, end_u, n), unit='s')\n",
    "\n",
    "start = pd.to_datetime('2017-01-01')\n",
    "end = pd.to_datetime('2018-01-01')\n"
   ]
  },
  {
   "cell_type": "markdown",
   "metadata": {},
   "source": [
    "Create the random data set which randomly chooses 26 projects broken down into a University, Category, random spend value between €25,000 and €1,000,000, random start date within the year 2017, a random duration for completing the project of between 21 and 60 days and a randomly assigned specialist to complete each project."
   ]
  },
  {
   "cell_type": "code",
   "execution_count": 13,
   "metadata": {},
   "outputs": [],
   "source": [
    "raw_data = {'University': np.random.choice(uni_name, 26), \n",
    "        'Category': np.random.choice(cat_name, 26), \n",
    "        'Spend': np.random.randint(25000, 1000000, 26),\n",
    "        'Start': random_dates(start, end),\n",
    "            'Duration': np.random.randint(21,60, 26),\n",
    "        'Specialist': np.random.choice(ee_name, 26)}\n",
    "df = pd.DataFrame(raw_data, columns = ['University', 'Category', 'Spend', 'Start', 'Duration', 'Specialist'])\n"
   ]
  },
  {
   "cell_type": "markdown",
   "metadata": {},
   "source": [
    "Create a random seed to fix the randomly generated data to specifc values each time it is run"
   ]
  },
  {
   "cell_type": "code",
   "execution_count": 14,
   "metadata": {},
   "outputs": [],
   "source": [
    "np.random.seed(0)"
   ]
  },
  {
   "cell_type": "markdown",
   "metadata": {},
   "source": [
    "Save the randomly created data set as a csv file so the data frame can be analysed"
   ]
  },
  {
   "cell_type": "code",
   "execution_count": 15,
   "metadata": {},
   "outputs": [],
   "source": [
    "df.to_csv('unispend.csv')"
   ]
  },
  {
   "cell_type": "markdown",
   "metadata": {},
   "source": [
    "Read the csv file back to this jupyter notebook"
   ]
  },
  {
   "cell_type": "code",
   "execution_count": 16,
   "metadata": {},
   "outputs": [],
   "source": [
    "data = pd.read_csv(\"unispend.csv\")"
   ]
  },
  {
   "cell_type": "markdown",
   "metadata": {},
   "source": [
    "Delete the extra column which was added to the date set when the csv file was read back into the notebook"
   ]
  },
  {
   "cell_type": "code",
   "execution_count": 17,
   "metadata": {},
   "outputs": [],
   "source": [
    "data.drop('Unnamed: 0',axis=1, inplace=True)"
   ]
  },
  {
   "cell_type": "markdown",
   "metadata": {},
   "source": [
    "## Analysing the Random Data Set"
   ]
  },
  {
   "cell_type": "markdown",
   "metadata": {},
   "source": [
    "### University Capital Projects 2017 - Random Data Set\n",
    "The below table illustrates the details of 26 capital projects undertaken by the organisation on behalf of five Irish universities."
   ]
  },
  {
   "cell_type": "code",
   "execution_count": 18,
   "metadata": {},
   "outputs": [
    {
     "data": {
      "text/html": [
       "<div>\n",
       "<style scoped>\n",
       "    .dataframe tbody tr th:only-of-type {\n",
       "        vertical-align: middle;\n",
       "    }\n",
       "\n",
       "    .dataframe tbody tr th {\n",
       "        vertical-align: top;\n",
       "    }\n",
       "\n",
       "    .dataframe thead th {\n",
       "        text-align: right;\n",
       "    }\n",
       "</style>\n",
       "<table border=\"1\" class=\"dataframe\">\n",
       "  <thead>\n",
       "    <tr style=\"text-align: right;\">\n",
       "      <th></th>\n",
       "      <th>University</th>\n",
       "      <th>Category</th>\n",
       "      <th>Spend</th>\n",
       "      <th>Start</th>\n",
       "      <th>Duration</th>\n",
       "      <th>Specialist</th>\n",
       "    </tr>\n",
       "  </thead>\n",
       "  <tbody>\n",
       "    <tr>\n",
       "      <th>0</th>\n",
       "      <td>NUIG</td>\n",
       "      <td>Vet</td>\n",
       "      <td>595810</td>\n",
       "      <td>2017-06-04 16:50:20</td>\n",
       "      <td>57</td>\n",
       "      <td>John</td>\n",
       "    </tr>\n",
       "    <tr>\n",
       "      <th>1</th>\n",
       "      <td>UL</td>\n",
       "      <td>Agric</td>\n",
       "      <td>138183</td>\n",
       "      <td>2017-08-21 04:30:28</td>\n",
       "      <td>55</td>\n",
       "      <td>Ann</td>\n",
       "    </tr>\n",
       "    <tr>\n",
       "      <th>2</th>\n",
       "      <td>UCD</td>\n",
       "      <td>Library</td>\n",
       "      <td>111904</td>\n",
       "      <td>2017-07-05 04:29:40</td>\n",
       "      <td>50</td>\n",
       "      <td>John</td>\n",
       "    </tr>\n",
       "    <tr>\n",
       "      <th>3</th>\n",
       "      <td>UCD</td>\n",
       "      <td>Library</td>\n",
       "      <td>45737</td>\n",
       "      <td>2017-06-13 15:02:00</td>\n",
       "      <td>24</td>\n",
       "      <td>Tom</td>\n",
       "    </tr>\n",
       "    <tr>\n",
       "      <th>4</th>\n",
       "      <td>UCD</td>\n",
       "      <td>Library</td>\n",
       "      <td>546537</td>\n",
       "      <td>2017-01-16 05:10:38</td>\n",
       "      <td>55</td>\n",
       "      <td>John</td>\n",
       "    </tr>\n",
       "    <tr>\n",
       "      <th>5</th>\n",
       "      <td>TCD</td>\n",
       "      <td>Vet</td>\n",
       "      <td>709007</td>\n",
       "      <td>2017-09-25 02:33:51</td>\n",
       "      <td>34</td>\n",
       "      <td>Ann</td>\n",
       "    </tr>\n",
       "    <tr>\n",
       "      <th>6</th>\n",
       "      <td>UCD</td>\n",
       "      <td>Agric</td>\n",
       "      <td>741713</td>\n",
       "      <td>2017-10-23 15:39:00</td>\n",
       "      <td>42</td>\n",
       "      <td>Ann</td>\n",
       "    </tr>\n",
       "    <tr>\n",
       "      <th>7</th>\n",
       "      <td>DCU</td>\n",
       "      <td>Agric</td>\n",
       "      <td>379361</td>\n",
       "      <td>2017-04-22 06:08:35</td>\n",
       "      <td>30</td>\n",
       "      <td>Ann</td>\n",
       "    </tr>\n",
       "    <tr>\n",
       "      <th>8</th>\n",
       "      <td>NUIG</td>\n",
       "      <td>Agric</td>\n",
       "      <td>105163</td>\n",
       "      <td>2017-11-11 07:09:46</td>\n",
       "      <td>21</td>\n",
       "      <td>John</td>\n",
       "    </tr>\n",
       "    <tr>\n",
       "      <th>9</th>\n",
       "      <td>UL</td>\n",
       "      <td>Vet</td>\n",
       "      <td>299278</td>\n",
       "      <td>2017-05-16 04:35:35</td>\n",
       "      <td>31</td>\n",
       "      <td>Tom</td>\n",
       "    </tr>\n",
       "    <tr>\n",
       "      <th>10</th>\n",
       "      <td>UL</td>\n",
       "      <td>Lab</td>\n",
       "      <td>72883</td>\n",
       "      <td>2017-04-13 21:44:47</td>\n",
       "      <td>44</td>\n",
       "      <td>John</td>\n",
       "    </tr>\n",
       "    <tr>\n",
       "      <th>11</th>\n",
       "      <td>NUIG</td>\n",
       "      <td>Specific</td>\n",
       "      <td>787286</td>\n",
       "      <td>2017-02-19 17:12:45</td>\n",
       "      <td>23</td>\n",
       "      <td>Ann</td>\n",
       "    </tr>\n",
       "    <tr>\n",
       "      <th>12</th>\n",
       "      <td>DCU</td>\n",
       "      <td>Library</td>\n",
       "      <td>111107</td>\n",
       "      <td>2017-05-24 00:46:45</td>\n",
       "      <td>55</td>\n",
       "      <td>Mark</td>\n",
       "    </tr>\n",
       "    <tr>\n",
       "      <th>13</th>\n",
       "      <td>TCD</td>\n",
       "      <td>Library</td>\n",
       "      <td>874792</td>\n",
       "      <td>2017-01-04 22:57:25</td>\n",
       "      <td>56</td>\n",
       "      <td>Ann</td>\n",
       "    </tr>\n",
       "    <tr>\n",
       "      <th>14</th>\n",
       "      <td>UL</td>\n",
       "      <td>Lab</td>\n",
       "      <td>732171</td>\n",
       "      <td>2017-08-22 17:24:00</td>\n",
       "      <td>51</td>\n",
       "      <td>Ann</td>\n",
       "    </tr>\n",
       "    <tr>\n",
       "      <th>15</th>\n",
       "      <td>TCD</td>\n",
       "      <td>Specific</td>\n",
       "      <td>821213</td>\n",
       "      <td>2017-09-24 23:11:45</td>\n",
       "      <td>24</td>\n",
       "      <td>Tom</td>\n",
       "    </tr>\n",
       "    <tr>\n",
       "      <th>16</th>\n",
       "      <td>TCD</td>\n",
       "      <td>Lab</td>\n",
       "      <td>437556</td>\n",
       "      <td>2017-09-01 23:27:01</td>\n",
       "      <td>39</td>\n",
       "      <td>John</td>\n",
       "    </tr>\n",
       "    <tr>\n",
       "      <th>17</th>\n",
       "      <td>UL</td>\n",
       "      <td>Vet</td>\n",
       "      <td>576545</td>\n",
       "      <td>2017-03-05 02:59:53</td>\n",
       "      <td>56</td>\n",
       "      <td>Tom</td>\n",
       "    </tr>\n",
       "    <tr>\n",
       "      <th>18</th>\n",
       "      <td>TCD</td>\n",
       "      <td>Vet</td>\n",
       "      <td>434514</td>\n",
       "      <td>2017-07-31 16:38:59</td>\n",
       "      <td>41</td>\n",
       "      <td>John</td>\n",
       "    </tr>\n",
       "    <tr>\n",
       "      <th>19</th>\n",
       "      <td>NUIG</td>\n",
       "      <td>Specific</td>\n",
       "      <td>561660</td>\n",
       "      <td>2017-03-18 10:30:24</td>\n",
       "      <td>38</td>\n",
       "      <td>Ann</td>\n",
       "    </tr>\n",
       "    <tr>\n",
       "      <th>20</th>\n",
       "      <td>UCD</td>\n",
       "      <td>Vet</td>\n",
       "      <td>422636</td>\n",
       "      <td>2017-11-09 00:35:43</td>\n",
       "      <td>48</td>\n",
       "      <td>Ann</td>\n",
       "    </tr>\n",
       "    <tr>\n",
       "      <th>21</th>\n",
       "      <td>UL</td>\n",
       "      <td>Specific</td>\n",
       "      <td>922798</td>\n",
       "      <td>2017-02-03 20:08:37</td>\n",
       "      <td>35</td>\n",
       "      <td>Ann</td>\n",
       "    </tr>\n",
       "    <tr>\n",
       "      <th>22</th>\n",
       "      <td>UCD</td>\n",
       "      <td>Agric</td>\n",
       "      <td>894423</td>\n",
       "      <td>2017-10-14 06:55:26</td>\n",
       "      <td>22</td>\n",
       "      <td>John</td>\n",
       "    </tr>\n",
       "    <tr>\n",
       "      <th>23</th>\n",
       "      <td>UL</td>\n",
       "      <td>Specific</td>\n",
       "      <td>611367</td>\n",
       "      <td>2017-06-16 14:13:20</td>\n",
       "      <td>57</td>\n",
       "      <td>Ann</td>\n",
       "    </tr>\n",
       "    <tr>\n",
       "      <th>24</th>\n",
       "      <td>DCU</td>\n",
       "      <td>Agric</td>\n",
       "      <td>235932</td>\n",
       "      <td>2017-10-09 06:57:53</td>\n",
       "      <td>31</td>\n",
       "      <td>Tom</td>\n",
       "    </tr>\n",
       "    <tr>\n",
       "      <th>25</th>\n",
       "      <td>UCD</td>\n",
       "      <td>Lab</td>\n",
       "      <td>783915</td>\n",
       "      <td>2017-04-10 18:55:46</td>\n",
       "      <td>43</td>\n",
       "      <td>Tom</td>\n",
       "    </tr>\n",
       "  </tbody>\n",
       "</table>\n",
       "</div>"
      ],
      "text/plain": [
       "   University  Category   Spend                Start  Duration Specialist\n",
       "0        NUIG       Vet  595810  2017-06-04 16:50:20        57       John\n",
       "1          UL     Agric  138183  2017-08-21 04:30:28        55        Ann\n",
       "2         UCD   Library  111904  2017-07-05 04:29:40        50       John\n",
       "3         UCD   Library   45737  2017-06-13 15:02:00        24        Tom\n",
       "4         UCD   Library  546537  2017-01-16 05:10:38        55       John\n",
       "5         TCD       Vet  709007  2017-09-25 02:33:51        34        Ann\n",
       "6         UCD     Agric  741713  2017-10-23 15:39:00        42        Ann\n",
       "7         DCU     Agric  379361  2017-04-22 06:08:35        30        Ann\n",
       "8        NUIG     Agric  105163  2017-11-11 07:09:46        21       John\n",
       "9          UL       Vet  299278  2017-05-16 04:35:35        31        Tom\n",
       "10         UL       Lab   72883  2017-04-13 21:44:47        44       John\n",
       "11       NUIG  Specific  787286  2017-02-19 17:12:45        23        Ann\n",
       "12        DCU   Library  111107  2017-05-24 00:46:45        55       Mark\n",
       "13        TCD   Library  874792  2017-01-04 22:57:25        56        Ann\n",
       "14         UL       Lab  732171  2017-08-22 17:24:00        51        Ann\n",
       "15        TCD  Specific  821213  2017-09-24 23:11:45        24        Tom\n",
       "16        TCD       Lab  437556  2017-09-01 23:27:01        39       John\n",
       "17         UL       Vet  576545  2017-03-05 02:59:53        56        Tom\n",
       "18        TCD       Vet  434514  2017-07-31 16:38:59        41       John\n",
       "19       NUIG  Specific  561660  2017-03-18 10:30:24        38        Ann\n",
       "20        UCD       Vet  422636  2017-11-09 00:35:43        48        Ann\n",
       "21         UL  Specific  922798  2017-02-03 20:08:37        35        Ann\n",
       "22        UCD     Agric  894423  2017-10-14 06:55:26        22       John\n",
       "23         UL  Specific  611367  2017-06-16 14:13:20        57        Ann\n",
       "24        DCU     Agric  235932  2017-10-09 06:57:53        31        Tom\n",
       "25        UCD       Lab  783915  2017-04-10 18:55:46        43        Tom"
      ]
     },
     "execution_count": 18,
     "metadata": {},
     "output_type": "execute_result"
    }
   ],
   "source": [
    "data # to print the random data set"
   ]
  },
  {
   "cell_type": "markdown",
   "metadata": {},
   "source": [
    "The data set comprises of 26 lines and 6 columns"
   ]
  },
  {
   "cell_type": "code",
   "execution_count": 19,
   "metadata": {},
   "outputs": [
    {
     "data": {
      "text/plain": [
       "(26, 6)"
      ]
     },
     "execution_count": 19,
     "metadata": {},
     "output_type": "execute_result"
    }
   ],
   "source": [
    "data.shape"
   ]
  },
  {
   "cell_type": "markdown",
   "metadata": {},
   "source": [
    "### Project Spend & the Project Length\n",
    "\n",
    " - There were 26 projects in 2017.\n",
    " <br>\n",
    " - The **lowest project spend** in 2017 was €45,737.\n",
    " - The **highest project spend** in 2017 was €922,798.\n",
    " - The **average project spend** €498,211.\n",
    " <br>\n",
    " - The **shortest project length** was 21 days.\n",
    " - The **longest project length** was 57 days.\n",
    " - The **average project length** was 41 days to completion."
   ]
  },
  {
   "cell_type": "code",
   "execution_count": 20,
   "metadata": {},
   "outputs": [
    {
     "data": {
      "text/html": [
       "<div>\n",
       "<style scoped>\n",
       "    .dataframe tbody tr th:only-of-type {\n",
       "        vertical-align: middle;\n",
       "    }\n",
       "\n",
       "    .dataframe tbody tr th {\n",
       "        vertical-align: top;\n",
       "    }\n",
       "\n",
       "    .dataframe thead th {\n",
       "        text-align: right;\n",
       "    }\n",
       "</style>\n",
       "<table border=\"1\" class=\"dataframe\">\n",
       "  <thead>\n",
       "    <tr style=\"text-align: right;\">\n",
       "      <th></th>\n",
       "      <th>Spend</th>\n",
       "      <th>Duration</th>\n",
       "    </tr>\n",
       "  </thead>\n",
       "  <tbody>\n",
       "    <tr>\n",
       "      <th>count</th>\n",
       "      <td>26.000000</td>\n",
       "      <td>26.000000</td>\n",
       "    </tr>\n",
       "    <tr>\n",
       "      <th>mean</th>\n",
       "      <td>498211.192308</td>\n",
       "      <td>40.846154</td>\n",
       "    </tr>\n",
       "    <tr>\n",
       "      <th>std</th>\n",
       "      <td>286122.310686</td>\n",
       "      <td>12.450517</td>\n",
       "    </tr>\n",
       "    <tr>\n",
       "      <th>min</th>\n",
       "      <td>45737.000000</td>\n",
       "      <td>21.000000</td>\n",
       "    </tr>\n",
       "    <tr>\n",
       "      <th>25%</th>\n",
       "      <td>251768.500000</td>\n",
       "      <td>31.000000</td>\n",
       "    </tr>\n",
       "    <tr>\n",
       "      <th>50%</th>\n",
       "      <td>554098.500000</td>\n",
       "      <td>41.500000</td>\n",
       "    </tr>\n",
       "    <tr>\n",
       "      <th>75%</th>\n",
       "      <td>739327.500000</td>\n",
       "      <td>54.000000</td>\n",
       "    </tr>\n",
       "    <tr>\n",
       "      <th>max</th>\n",
       "      <td>922798.000000</td>\n",
       "      <td>57.000000</td>\n",
       "    </tr>\n",
       "  </tbody>\n",
       "</table>\n",
       "</div>"
      ],
      "text/plain": [
       "               Spend   Duration\n",
       "count      26.000000  26.000000\n",
       "mean   498211.192308  40.846154\n",
       "std    286122.310686  12.450517\n",
       "min     45737.000000  21.000000\n",
       "25%    251768.500000  31.000000\n",
       "50%    554098.500000  41.500000\n",
       "75%    739327.500000  54.000000\n",
       "max    922798.000000  57.000000"
      ]
     },
     "execution_count": 20,
     "metadata": {},
     "output_type": "execute_result"
    }
   ],
   "source": [
    "data.describe()"
   ]
  },
  {
   "cell_type": "markdown",
   "metadata": {},
   "source": [
    "### University Project Breakdown"
   ]
  },
  {
   "cell_type": "code",
   "execution_count": 21,
   "metadata": {},
   "outputs": [],
   "source": [
    "customers = data[['University','Spend','Start']] # Define 'customers'\n"
   ]
  },
  {
   "cell_type": "markdown",
   "metadata": {},
   "source": [
    "### Projects per University\n",
    "The 26 projects were divided as below, with UCD and UL having the majority of projects with 7 each.  The lowest amount of projects were submitted by DCU with 3 projects in total."
   ]
  },
  {
   "cell_type": "code",
   "execution_count": 22,
   "metadata": {},
   "outputs": [
    {
     "data": {
      "text/plain": [
       "University\n",
       "DCU     3\n",
       "NUIG    4\n",
       "TCD     5\n",
       "UCD     7\n",
       "UL      7\n",
       "dtype: int64"
      ]
     },
     "execution_count": 22,
     "metadata": {},
     "output_type": "execute_result"
    }
   ],
   "source": [
    "customer_group = customers.groupby('University')\n",
    "customer_group.size()"
   ]
  },
  {
   "cell_type": "markdown",
   "metadata": {},
   "source": [
    "### Total Capital Spend 2017\n",
    "The total capital spend for the 26 projects was €12,953,491."
   ]
  },
  {
   "cell_type": "code",
   "execution_count": 23,
   "metadata": {},
   "outputs": [
    {
     "data": {
      "text/html": [
       "<div>\n",
       "<style scoped>\n",
       "    .dataframe tbody tr th:only-of-type {\n",
       "        vertical-align: middle;\n",
       "    }\n",
       "\n",
       "    .dataframe tbody tr th {\n",
       "        vertical-align: top;\n",
       "    }\n",
       "\n",
       "    .dataframe thead th {\n",
       "        text-align: right;\n",
       "    }\n",
       "</style>\n",
       "<table border=\"1\" class=\"dataframe\">\n",
       "  <thead>\n",
       "    <tr style=\"text-align: right;\">\n",
       "      <th></th>\n",
       "      <th>University</th>\n",
       "      <th>Category</th>\n",
       "      <th>Spend</th>\n",
       "      <th>Start</th>\n",
       "      <th>Duration</th>\n",
       "      <th>Specialist</th>\n",
       "    </tr>\n",
       "  </thead>\n",
       "  <tbody>\n",
       "    <tr>\n",
       "      <th>0</th>\n",
       "      <td>NUIG</td>\n",
       "      <td>Vet</td>\n",
       "      <td>595810.0</td>\n",
       "      <td>2017-06-04 16:50:20</td>\n",
       "      <td>57.0</td>\n",
       "      <td>John</td>\n",
       "    </tr>\n",
       "    <tr>\n",
       "      <th>1</th>\n",
       "      <td>UL</td>\n",
       "      <td>Agric</td>\n",
       "      <td>138183.0</td>\n",
       "      <td>2017-08-21 04:30:28</td>\n",
       "      <td>55.0</td>\n",
       "      <td>Ann</td>\n",
       "    </tr>\n",
       "    <tr>\n",
       "      <th>2</th>\n",
       "      <td>UCD</td>\n",
       "      <td>Library</td>\n",
       "      <td>111904.0</td>\n",
       "      <td>2017-07-05 04:29:40</td>\n",
       "      <td>50.0</td>\n",
       "      <td>John</td>\n",
       "    </tr>\n",
       "    <tr>\n",
       "      <th>3</th>\n",
       "      <td>UCD</td>\n",
       "      <td>Library</td>\n",
       "      <td>45737.0</td>\n",
       "      <td>2017-06-13 15:02:00</td>\n",
       "      <td>24.0</td>\n",
       "      <td>Tom</td>\n",
       "    </tr>\n",
       "    <tr>\n",
       "      <th>4</th>\n",
       "      <td>UCD</td>\n",
       "      <td>Library</td>\n",
       "      <td>546537.0</td>\n",
       "      <td>2017-01-16 05:10:38</td>\n",
       "      <td>55.0</td>\n",
       "      <td>John</td>\n",
       "    </tr>\n",
       "    <tr>\n",
       "      <th>5</th>\n",
       "      <td>TCD</td>\n",
       "      <td>Vet</td>\n",
       "      <td>709007.0</td>\n",
       "      <td>2017-09-25 02:33:51</td>\n",
       "      <td>34.0</td>\n",
       "      <td>Ann</td>\n",
       "    </tr>\n",
       "    <tr>\n",
       "      <th>6</th>\n",
       "      <td>UCD</td>\n",
       "      <td>Agric</td>\n",
       "      <td>741713.0</td>\n",
       "      <td>2017-10-23 15:39:00</td>\n",
       "      <td>42.0</td>\n",
       "      <td>Ann</td>\n",
       "    </tr>\n",
       "    <tr>\n",
       "      <th>7</th>\n",
       "      <td>DCU</td>\n",
       "      <td>Agric</td>\n",
       "      <td>379361.0</td>\n",
       "      <td>2017-04-22 06:08:35</td>\n",
       "      <td>30.0</td>\n",
       "      <td>Ann</td>\n",
       "    </tr>\n",
       "    <tr>\n",
       "      <th>8</th>\n",
       "      <td>NUIG</td>\n",
       "      <td>Agric</td>\n",
       "      <td>105163.0</td>\n",
       "      <td>2017-11-11 07:09:46</td>\n",
       "      <td>21.0</td>\n",
       "      <td>John</td>\n",
       "    </tr>\n",
       "    <tr>\n",
       "      <th>9</th>\n",
       "      <td>UL</td>\n",
       "      <td>Vet</td>\n",
       "      <td>299278.0</td>\n",
       "      <td>2017-05-16 04:35:35</td>\n",
       "      <td>31.0</td>\n",
       "      <td>Tom</td>\n",
       "    </tr>\n",
       "    <tr>\n",
       "      <th>10</th>\n",
       "      <td>UL</td>\n",
       "      <td>Lab</td>\n",
       "      <td>72883.0</td>\n",
       "      <td>2017-04-13 21:44:47</td>\n",
       "      <td>44.0</td>\n",
       "      <td>John</td>\n",
       "    </tr>\n",
       "    <tr>\n",
       "      <th>11</th>\n",
       "      <td>NUIG</td>\n",
       "      <td>Specific</td>\n",
       "      <td>787286.0</td>\n",
       "      <td>2017-02-19 17:12:45</td>\n",
       "      <td>23.0</td>\n",
       "      <td>Ann</td>\n",
       "    </tr>\n",
       "    <tr>\n",
       "      <th>12</th>\n",
       "      <td>DCU</td>\n",
       "      <td>Library</td>\n",
       "      <td>111107.0</td>\n",
       "      <td>2017-05-24 00:46:45</td>\n",
       "      <td>55.0</td>\n",
       "      <td>Mark</td>\n",
       "    </tr>\n",
       "    <tr>\n",
       "      <th>13</th>\n",
       "      <td>TCD</td>\n",
       "      <td>Library</td>\n",
       "      <td>874792.0</td>\n",
       "      <td>2017-01-04 22:57:25</td>\n",
       "      <td>56.0</td>\n",
       "      <td>Ann</td>\n",
       "    </tr>\n",
       "    <tr>\n",
       "      <th>14</th>\n",
       "      <td>UL</td>\n",
       "      <td>Lab</td>\n",
       "      <td>732171.0</td>\n",
       "      <td>2017-08-22 17:24:00</td>\n",
       "      <td>51.0</td>\n",
       "      <td>Ann</td>\n",
       "    </tr>\n",
       "    <tr>\n",
       "      <th>15</th>\n",
       "      <td>TCD</td>\n",
       "      <td>Specific</td>\n",
       "      <td>821213.0</td>\n",
       "      <td>2017-09-24 23:11:45</td>\n",
       "      <td>24.0</td>\n",
       "      <td>Tom</td>\n",
       "    </tr>\n",
       "    <tr>\n",
       "      <th>16</th>\n",
       "      <td>TCD</td>\n",
       "      <td>Lab</td>\n",
       "      <td>437556.0</td>\n",
       "      <td>2017-09-01 23:27:01</td>\n",
       "      <td>39.0</td>\n",
       "      <td>John</td>\n",
       "    </tr>\n",
       "    <tr>\n",
       "      <th>17</th>\n",
       "      <td>UL</td>\n",
       "      <td>Vet</td>\n",
       "      <td>576545.0</td>\n",
       "      <td>2017-03-05 02:59:53</td>\n",
       "      <td>56.0</td>\n",
       "      <td>Tom</td>\n",
       "    </tr>\n",
       "    <tr>\n",
       "      <th>18</th>\n",
       "      <td>TCD</td>\n",
       "      <td>Vet</td>\n",
       "      <td>434514.0</td>\n",
       "      <td>2017-07-31 16:38:59</td>\n",
       "      <td>41.0</td>\n",
       "      <td>John</td>\n",
       "    </tr>\n",
       "    <tr>\n",
       "      <th>19</th>\n",
       "      <td>NUIG</td>\n",
       "      <td>Specific</td>\n",
       "      <td>561660.0</td>\n",
       "      <td>2017-03-18 10:30:24</td>\n",
       "      <td>38.0</td>\n",
       "      <td>Ann</td>\n",
       "    </tr>\n",
       "    <tr>\n",
       "      <th>20</th>\n",
       "      <td>UCD</td>\n",
       "      <td>Vet</td>\n",
       "      <td>422636.0</td>\n",
       "      <td>2017-11-09 00:35:43</td>\n",
       "      <td>48.0</td>\n",
       "      <td>Ann</td>\n",
       "    </tr>\n",
       "    <tr>\n",
       "      <th>21</th>\n",
       "      <td>UL</td>\n",
       "      <td>Specific</td>\n",
       "      <td>922798.0</td>\n",
       "      <td>2017-02-03 20:08:37</td>\n",
       "      <td>35.0</td>\n",
       "      <td>Ann</td>\n",
       "    </tr>\n",
       "    <tr>\n",
       "      <th>22</th>\n",
       "      <td>UCD</td>\n",
       "      <td>Agric</td>\n",
       "      <td>894423.0</td>\n",
       "      <td>2017-10-14 06:55:26</td>\n",
       "      <td>22.0</td>\n",
       "      <td>John</td>\n",
       "    </tr>\n",
       "    <tr>\n",
       "      <th>23</th>\n",
       "      <td>UL</td>\n",
       "      <td>Specific</td>\n",
       "      <td>611367.0</td>\n",
       "      <td>2017-06-16 14:13:20</td>\n",
       "      <td>57.0</td>\n",
       "      <td>Ann</td>\n",
       "    </tr>\n",
       "    <tr>\n",
       "      <th>24</th>\n",
       "      <td>DCU</td>\n",
       "      <td>Agric</td>\n",
       "      <td>235932.0</td>\n",
       "      <td>2017-10-09 06:57:53</td>\n",
       "      <td>31.0</td>\n",
       "      <td>Tom</td>\n",
       "    </tr>\n",
       "    <tr>\n",
       "      <th>25</th>\n",
       "      <td>UCD</td>\n",
       "      <td>Lab</td>\n",
       "      <td>783915.0</td>\n",
       "      <td>2017-04-10 18:55:46</td>\n",
       "      <td>43.0</td>\n",
       "      <td>Tom</td>\n",
       "    </tr>\n",
       "    <tr>\n",
       "      <th>Total</th>\n",
       "      <td>NaN</td>\n",
       "      <td>NaN</td>\n",
       "      <td>12953491.0</td>\n",
       "      <td>NaN</td>\n",
       "      <td>NaN</td>\n",
       "      <td>NaN</td>\n",
       "    </tr>\n",
       "  </tbody>\n",
       "</table>\n",
       "</div>"
      ],
      "text/plain": [
       "      University  Category       Spend                Start  Duration  \\\n",
       "0           NUIG       Vet    595810.0  2017-06-04 16:50:20      57.0   \n",
       "1             UL     Agric    138183.0  2017-08-21 04:30:28      55.0   \n",
       "2            UCD   Library    111904.0  2017-07-05 04:29:40      50.0   \n",
       "3            UCD   Library     45737.0  2017-06-13 15:02:00      24.0   \n",
       "4            UCD   Library    546537.0  2017-01-16 05:10:38      55.0   \n",
       "5            TCD       Vet    709007.0  2017-09-25 02:33:51      34.0   \n",
       "6            UCD     Agric    741713.0  2017-10-23 15:39:00      42.0   \n",
       "7            DCU     Agric    379361.0  2017-04-22 06:08:35      30.0   \n",
       "8           NUIG     Agric    105163.0  2017-11-11 07:09:46      21.0   \n",
       "9             UL       Vet    299278.0  2017-05-16 04:35:35      31.0   \n",
       "10            UL       Lab     72883.0  2017-04-13 21:44:47      44.0   \n",
       "11          NUIG  Specific    787286.0  2017-02-19 17:12:45      23.0   \n",
       "12           DCU   Library    111107.0  2017-05-24 00:46:45      55.0   \n",
       "13           TCD   Library    874792.0  2017-01-04 22:57:25      56.0   \n",
       "14            UL       Lab    732171.0  2017-08-22 17:24:00      51.0   \n",
       "15           TCD  Specific    821213.0  2017-09-24 23:11:45      24.0   \n",
       "16           TCD       Lab    437556.0  2017-09-01 23:27:01      39.0   \n",
       "17            UL       Vet    576545.0  2017-03-05 02:59:53      56.0   \n",
       "18           TCD       Vet    434514.0  2017-07-31 16:38:59      41.0   \n",
       "19          NUIG  Specific    561660.0  2017-03-18 10:30:24      38.0   \n",
       "20           UCD       Vet    422636.0  2017-11-09 00:35:43      48.0   \n",
       "21            UL  Specific    922798.0  2017-02-03 20:08:37      35.0   \n",
       "22           UCD     Agric    894423.0  2017-10-14 06:55:26      22.0   \n",
       "23            UL  Specific    611367.0  2017-06-16 14:13:20      57.0   \n",
       "24           DCU     Agric    235932.0  2017-10-09 06:57:53      31.0   \n",
       "25           UCD       Lab    783915.0  2017-04-10 18:55:46      43.0   \n",
       "Total        NaN       NaN  12953491.0                  NaN       NaN   \n",
       "\n",
       "      Specialist  \n",
       "0           John  \n",
       "1            Ann  \n",
       "2           John  \n",
       "3            Tom  \n",
       "4           John  \n",
       "5            Ann  \n",
       "6            Ann  \n",
       "7            Ann  \n",
       "8           John  \n",
       "9            Tom  \n",
       "10          John  \n",
       "11           Ann  \n",
       "12          Mark  \n",
       "13           Ann  \n",
       "14           Ann  \n",
       "15           Tom  \n",
       "16          John  \n",
       "17           Tom  \n",
       "18          John  \n",
       "19           Ann  \n",
       "20           Ann  \n",
       "21           Ann  \n",
       "22          John  \n",
       "23           Ann  \n",
       "24           Tom  \n",
       "25           Tom  \n",
       "Total        NaN  "
      ]
     },
     "execution_count": 23,
     "metadata": {},
     "output_type": "execute_result"
    }
   ],
   "source": [
    "data.loc['Total'] = pd.Series(df['Spend'].sum(), index = ['Spend'])\n",
    "data"
   ]
  },
  {
   "cell_type": "markdown",
   "metadata": {},
   "source": [
    "#### UCD had the highest total project spend at €3,546,865.\n",
    "#### DCU had the lowest total project spend at €726,400.  \n",
    "#### The histograph below illustrates the total spend in 2017 per university by descending value."
   ]
  },
  {
   "cell_type": "code",
   "execution_count": 24,
   "metadata": {},
   "outputs": [
    {
     "data": {
      "text/html": [
       "<div>\n",
       "<style scoped>\n",
       "    .dataframe tbody tr th:only-of-type {\n",
       "        vertical-align: middle;\n",
       "    }\n",
       "\n",
       "    .dataframe tbody tr th {\n",
       "        vertical-align: top;\n",
       "    }\n",
       "\n",
       "    .dataframe thead th {\n",
       "        text-align: right;\n",
       "    }\n",
       "</style>\n",
       "<table border=\"1\" class=\"dataframe\">\n",
       "  <thead>\n",
       "    <tr style=\"text-align: right;\">\n",
       "      <th></th>\n",
       "      <th>Spend</th>\n",
       "    </tr>\n",
       "    <tr>\n",
       "      <th>University</th>\n",
       "      <th></th>\n",
       "    </tr>\n",
       "  </thead>\n",
       "  <tbody>\n",
       "    <tr>\n",
       "      <th>DCU</th>\n",
       "      <td>726400</td>\n",
       "    </tr>\n",
       "    <tr>\n",
       "      <th>NUIG</th>\n",
       "      <td>2049919</td>\n",
       "    </tr>\n",
       "    <tr>\n",
       "      <th>TCD</th>\n",
       "      <td>3277082</td>\n",
       "    </tr>\n",
       "    <tr>\n",
       "      <th>UL</th>\n",
       "      <td>3353225</td>\n",
       "    </tr>\n",
       "    <tr>\n",
       "      <th>UCD</th>\n",
       "      <td>3546865</td>\n",
       "    </tr>\n",
       "  </tbody>\n",
       "</table>\n",
       "</div>"
      ],
      "text/plain": [
       "              Spend\n",
       "University         \n",
       "DCU          726400\n",
       "NUIG        2049919\n",
       "TCD         3277082\n",
       "UL          3353225\n",
       "UCD         3546865"
      ]
     },
     "execution_count": 24,
     "metadata": {},
     "output_type": "execute_result"
    }
   ],
   "source": [
    "sales_totals = customer_group.sum()\n",
    "sales_totals.sort_values('Spend').head()"
   ]
  },
  {
   "cell_type": "code",
   "execution_count": 25,
   "metadata": {},
   "outputs": [
    {
     "data": {
      "text/plain": [
       "Text(0,0.5,'Project Spend (€)')"
      ]
     },
     "execution_count": 25,
     "metadata": {},
     "output_type": "execute_result"
    },
    {
     "data": {
      "image/png": "[encoded data removed]",
      "text/plain": [
       "<Figure size 432x288 with 1 Axes>"
      ]
     },
     "metadata": {
      "needs_background": "light"
     },
     "output_type": "display_data"
    }
   ],
   "source": [
    "my_plot = sales_totals.sort_values('Spend',ascending=False).plot(kind='bar',legend=None,title=\"Total Project Spend by University 2017\")\n",
    "my_plot.set_xlabel(\"University\")\n",
    "my_plot.set_ylabel(\"Project Spend (€)\")"
   ]
  },
  {
   "cell_type": "code",
   "execution_count": 26,
   "metadata": {},
   "outputs": [],
   "source": [
    "customers = data[['University', 'Category', 'Spend','Start']] # redefine customers adding category\n"
   ]
  },
  {
   "cell_type": "markdown",
   "metadata": {},
   "source": [
    "'Category group' is defined as the total spend of each university by category"
   ]
  },
  {
   "cell_type": "code",
   "execution_count": 27,
   "metadata": {},
   "outputs": [],
   "source": [
    "category_group = customers.groupby(['University','Category']).sum()\n"
   ]
  },
  {
   "cell_type": "markdown",
   "metadata": {},
   "source": [
    "### Category Spend\n",
    "The category spend for each university can be seen in the below table and histogram:\n",
    " - UCD had the highest spend in Agriculture\n",
    " - UL had the highest spend in Laboratory\n",
    " - TCD had the highest spend in Library\n",
    " - UL had the highest spend in Education Specific projects\n",
    " - Trinity had the highest spend in Veterinary."
   ]
  },
  {
   "cell_type": "code",
   "execution_count": 28,
   "metadata": {},
   "outputs": [
    {
     "data": {
      "text/html": [
       "<div>\n",
       "<style scoped>\n",
       "    .dataframe tbody tr th:only-of-type {\n",
       "        vertical-align: middle;\n",
       "    }\n",
       "\n",
       "    .dataframe tbody tr th {\n",
       "        vertical-align: top;\n",
       "    }\n",
       "\n",
       "    .dataframe thead tr th {\n",
       "        text-align: left;\n",
       "    }\n",
       "\n",
       "    .dataframe thead tr:last-of-type th {\n",
       "        text-align: right;\n",
       "    }\n",
       "</style>\n",
       "<table border=\"1\" class=\"dataframe\">\n",
       "  <thead>\n",
       "    <tr>\n",
       "      <th></th>\n",
       "      <th colspan=\"5\" halign=\"left\">Spend</th>\n",
       "    </tr>\n",
       "    <tr>\n",
       "      <th>Category</th>\n",
       "      <th>Agric</th>\n",
       "      <th>Lab</th>\n",
       "      <th>Library</th>\n",
       "      <th>Specific</th>\n",
       "      <th>Vet</th>\n",
       "    </tr>\n",
       "    <tr>\n",
       "      <th>University</th>\n",
       "      <th></th>\n",
       "      <th></th>\n",
       "      <th></th>\n",
       "      <th></th>\n",
       "      <th></th>\n",
       "    </tr>\n",
       "  </thead>\n",
       "  <tbody>\n",
       "    <tr>\n",
       "      <th>DCU</th>\n",
       "      <td>615293.0</td>\n",
       "      <td>NaN</td>\n",
       "      <td>111107.0</td>\n",
       "      <td>NaN</td>\n",
       "      <td>NaN</td>\n",
       "    </tr>\n",
       "    <tr>\n",
       "      <th>NUIG</th>\n",
       "      <td>105163.0</td>\n",
       "      <td>NaN</td>\n",
       "      <td>NaN</td>\n",
       "      <td>1348946.0</td>\n",
       "      <td>595810.0</td>\n",
       "    </tr>\n",
       "    <tr>\n",
       "      <th>TCD</th>\n",
       "      <td>NaN</td>\n",
       "      <td>437556.0</td>\n",
       "      <td>874792.0</td>\n",
       "      <td>821213.0</td>\n",
       "      <td>1143521.0</td>\n",
       "    </tr>\n",
       "    <tr>\n",
       "      <th>UCD</th>\n",
       "      <td>1636136.0</td>\n",
       "      <td>783915.0</td>\n",
       "      <td>704178.0</td>\n",
       "      <td>NaN</td>\n",
       "      <td>422636.0</td>\n",
       "    </tr>\n",
       "    <tr>\n",
       "      <th>UL</th>\n",
       "      <td>138183.0</td>\n",
       "      <td>805054.0</td>\n",
       "      <td>NaN</td>\n",
       "      <td>1534165.0</td>\n",
       "      <td>875823.0</td>\n",
       "    </tr>\n",
       "  </tbody>\n",
       "</table>\n",
       "</div>"
      ],
      "text/plain": [
       "                Spend                                          \n",
       "Category        Agric       Lab   Library   Specific        Vet\n",
       "University                                                     \n",
       "DCU          615293.0       NaN  111107.0        NaN        NaN\n",
       "NUIG         105163.0       NaN       NaN  1348946.0   595810.0\n",
       "TCD               NaN  437556.0  874792.0   821213.0  1143521.0\n",
       "UCD         1636136.0  783915.0  704178.0        NaN   422636.0\n",
       "UL           138183.0  805054.0       NaN  1534165.0   875823.0"
      ]
     },
     "execution_count": 28,
     "metadata": {},
     "output_type": "execute_result"
    }
   ],
   "source": [
    "category_group.unstack().head()"
   ]
  },
  {
   "cell_type": "code",
   "execution_count": 185,
   "metadata": {},
   "outputs": [
    {
     "data": {
      "text/plain": [
       "<matplotlib.legend.Legend at 0x22f44b80668>"
      ]
     },
     "execution_count": 185,
     "metadata": {},
     "output_type": "execute_result"
    },
    {
     "data": {
      "image/png": "[encoded data removed]",
      "text/plain": [
       "<Figure size 648x504 with 1 Axes>"
      ]
     },
     "metadata": {
      "needs_background": "light"
     },
     "output_type": "display_data"
    }
   ],
   "source": [
    "my_plot = category_group.unstack().plot(kind='bar',stacked=True,title=\"Value of Projects by University 2017\",figsize=(9, 7))\n",
    "my_plot.set_xlabel(\"University\")\n",
    "my_plot.set_ylabel(\"Project Spend\")\n",
    "my_plot.legend([\"Agriculture\",\"Laboratory\",\"Library\",\"Education Specific\", \"Veterinary\"], loc=9,ncol=4)"
   ]
  },
  {
   "cell_type": "markdown",
   "metadata": {},
   "source": [
    "### Project Breakdown per Specialist\n",
    "As can be seen in the table below, Ann's projects had the highest total capital spend.  The breakdown of the projects and the total project spend per employee can be seen in the below histogram"
   ]
  },
  {
   "cell_type": "code",
   "execution_count": 186,
   "metadata": {},
   "outputs": [],
   "source": [
    "employees = data[['Specialist', 'University', 'Spend','Start']]\n"
   ]
  },
  {
   "cell_type": "code",
   "execution_count": 187,
   "metadata": {},
   "outputs": [],
   "source": [
    "employees_group = employees.groupby(['Specialist','University']).sum()\n"
   ]
  },
  {
   "cell_type": "code",
   "execution_count": 188,
   "metadata": {},
   "outputs": [
    {
     "data": {
      "text/html": [
       "<div>\n",
       "<style scoped>\n",
       "    .dataframe tbody tr th:only-of-type {\n",
       "        vertical-align: middle;\n",
       "    }\n",
       "\n",
       "    .dataframe tbody tr th {\n",
       "        vertical-align: top;\n",
       "    }\n",
       "\n",
       "    .dataframe thead tr th {\n",
       "        text-align: left;\n",
       "    }\n",
       "\n",
       "    .dataframe thead tr:last-of-type th {\n",
       "        text-align: right;\n",
       "    }\n",
       "</style>\n",
       "<table border=\"1\" class=\"dataframe\">\n",
       "  <thead>\n",
       "    <tr>\n",
       "      <th></th>\n",
       "      <th colspan=\"5\" halign=\"left\">Spend</th>\n",
       "    </tr>\n",
       "    <tr>\n",
       "      <th>University</th>\n",
       "      <th>DCU</th>\n",
       "      <th>NUIG</th>\n",
       "      <th>TCD</th>\n",
       "      <th>UCD</th>\n",
       "      <th>UL</th>\n",
       "    </tr>\n",
       "    <tr>\n",
       "      <th>Specialist</th>\n",
       "      <th></th>\n",
       "      <th></th>\n",
       "      <th></th>\n",
       "      <th></th>\n",
       "      <th></th>\n",
       "    </tr>\n",
       "  </thead>\n",
       "  <tbody>\n",
       "    <tr>\n",
       "      <th>Ann</th>\n",
       "      <td>379361.0</td>\n",
       "      <td>1348946.0</td>\n",
       "      <td>1583799.0</td>\n",
       "      <td>1164349.0</td>\n",
       "      <td>2404519.0</td>\n",
       "    </tr>\n",
       "    <tr>\n",
       "      <th>John</th>\n",
       "      <td>NaN</td>\n",
       "      <td>700973.0</td>\n",
       "      <td>872070.0</td>\n",
       "      <td>1552864.0</td>\n",
       "      <td>72883.0</td>\n",
       "    </tr>\n",
       "    <tr>\n",
       "      <th>Mark</th>\n",
       "      <td>111107.0</td>\n",
       "      <td>NaN</td>\n",
       "      <td>NaN</td>\n",
       "      <td>NaN</td>\n",
       "      <td>NaN</td>\n",
       "    </tr>\n",
       "    <tr>\n",
       "      <th>Tom</th>\n",
       "      <td>235932.0</td>\n",
       "      <td>NaN</td>\n",
       "      <td>821213.0</td>\n",
       "      <td>829652.0</td>\n",
       "      <td>875823.0</td>\n",
       "    </tr>\n",
       "  </tbody>\n",
       "</table>\n",
       "</div>"
      ],
      "text/plain": [
       "               Spend                                            \n",
       "University       DCU       NUIG        TCD        UCD         UL\n",
       "Specialist                                                      \n",
       "Ann         379361.0  1348946.0  1583799.0  1164349.0  2404519.0\n",
       "John             NaN   700973.0   872070.0  1552864.0    72883.0\n",
       "Mark        111107.0        NaN        NaN        NaN        NaN\n",
       "Tom         235932.0        NaN   821213.0   829652.0   875823.0"
      ]
     },
     "execution_count": 188,
     "metadata": {},
     "output_type": "execute_result"
    }
   ],
   "source": [
    "employees_group.unstack()"
   ]
  },
  {
   "cell_type": "code",
   "execution_count": 189,
   "metadata": {},
   "outputs": [
    {
     "data": {
      "text/plain": [
       "<matplotlib.legend.Legend at 0x22f43a069e8>"
      ]
     },
     "execution_count": 189,
     "metadata": {},
     "output_type": "execute_result"
    },
    {
     "data": {
      "image/png": "[encoded data removed]",
      "text/plain": [
       "<Figure size 648x504 with 1 Axes>"
      ]
     },
     "metadata": {
      "needs_background": "light"
     },
     "output_type": "display_data"
    }
   ],
   "source": [
    "my_plot = employees_group.unstack().plot(kind='bar',stacked=True,title=\"Value of Projects by Specialist 2017\",figsize=(9, 7))\n",
    "my_plot.set_xlabel(\"Specialist\")\n",
    "my_plot.set_ylabel(\"Project Spend\")\n",
    "my_plot.legend([\"Agriculture\",\"Laboratory\",\"Library\",\"Education Specific\", \"Veterinary\"], loc=9,ncol=4)"
   ]
  },
  {
   "cell_type": "markdown",
   "metadata": {},
   "source": [
    "### Project Schedules\n",
    "When the start dates and the value of the projects were analysed in the line plot below, it can be seen the projects with the highest value can be found at the start (Jan/Feb/Mar 2017) and the end of the year (Aug/Sept/Oct/Nov/Dec 2017).  This would suggest the between April and July inclusive would be the best time to schedule annual leave for staff."
   ]
  },
  {
   "cell_type": "code",
   "execution_count": 190,
   "metadata": {},
   "outputs": [],
   "source": [
    "data['datetime'] = pd.to_datetime(data['Start'])\n"
   ]
  },
  {
   "cell_type": "code",
   "execution_count": 191,
   "metadata": {},
   "outputs": [],
   "source": [
    "import seaborn as sns"
   ]
  },
  {
   "cell_type": "code",
   "execution_count": 192,
   "metadata": {},
   "outputs": [
    {
     "data": {
      "text/plain": [
       "<matplotlib.axes._subplots.AxesSubplot at 0x22f427f9ef0>"
      ]
     },
     "execution_count": 192,
     "metadata": {},
     "output_type": "execute_result"
    },
    {
     "data": {
      "image/png": "[encoded data removed]",
      "text/plain": [
       "<Figure size 432x288 with 1 Axes>"
      ]
     },
     "metadata": {
      "needs_background": "light"
     },
     "output_type": "display_data"
    }
   ],
   "source": [
    "sns.lineplot(x = \"datetime\", y = \"Spend\", data = data)"
   ]
  },
  {
   "cell_type": "markdown",
   "metadata": {},
   "source": [
    "### In the below graph each University's individual projects spend and the duration of each project are plotted."
   ]
  },
  {
   "cell_type": "code",
   "execution_count": 193,
   "metadata": {},
   "outputs": [
    {
     "name": "stderr",
     "output_type": "stream",
     "text": [
      "C:\\Users\\Windows\\Anaconda3\\lib\\site-packages\\scipy\\stats\\stats.py:1713: FutureWarning: Using a non-tuple sequence for multidimensional indexing is deprecated; use `arr[tuple(seq)]` instead of `arr[seq]`. In the future this will be interpreted as an array index, `arr[np.array(seq)]`, which will result either in an error or a different result.\n",
      "  return np.add.reduce(sorted[indexer] * weights, axis=axis) / sumval\n"
     ]
    },
    {
     "data": {
      "text/plain": [
       "<seaborn.axisgrid.PairGrid at 0x22f438a37f0>"
      ]
     },
     "execution_count": 193,
     "metadata": {},
     "output_type": "execute_result"
    },
    {
     "data": {
      "image/png": "[encoded data removed]",
      "text/plain": [
       "<Figure size 408.512x360 with 6 Axes>"
      ]
     },
     "metadata": {
      "needs_background": "light"
     },
     "output_type": "display_data"
    }
   ],
   "source": [
    "sns.pairplot(data, hue='University')"
   ]
  },
  {
   "cell_type": "markdown",
   "metadata": {},
   "source": [
    "### In the below graph each Categorie's individual projects spend and the duration of each project are plotted."
   ]
  },
  {
   "cell_type": "code",
   "execution_count": 195,
   "metadata": {},
   "outputs": [
    {
     "name": "stderr",
     "output_type": "stream",
     "text": [
      "C:\\Users\\Windows\\Anaconda3\\lib\\site-packages\\scipy\\stats\\stats.py:1713: FutureWarning: Using a non-tuple sequence for multidimensional indexing is deprecated; use `arr[tuple(seq)]` instead of `arr[seq]`. In the future this will be interpreted as an array index, `arr[np.array(seq)]`, which will result either in an error or a different result.\n",
      "  return np.add.reduce(sorted[indexer] * weights, axis=axis) / sumval\n"
     ]
    },
    {
     "data": {
      "text/plain": [
       "<seaborn.axisgrid.PairGrid at 0x22f427325c0>"
      ]
     },
     "execution_count": 195,
     "metadata": {},
     "output_type": "execute_result"
    },
    {
     "data": {
      "image/png": "[encoded data removed]",
      "text/plain": [
       "<Figure size 419.137x360 with 6 Axes>"
      ]
     },
     "metadata": {
      "needs_background": "light"
     },
     "output_type": "display_data"
    }
   ],
   "source": [
    "sns.pairplot(data, hue='Category')"
   ]
  },
  {
   "cell_type": "markdown",
   "metadata": {},
   "source": [
    "### In the below graph each Specialist's individual projects spend and the duration of each project are plotted."
   ]
  },
  {
   "cell_type": "code",
   "execution_count": 194,
   "metadata": {},
   "outputs": [
    {
     "name": "stderr",
     "output_type": "stream",
     "text": [
      "C:\\Users\\Windows\\Anaconda3\\lib\\site-packages\\scipy\\stats\\stats.py:1713: FutureWarning: Using a non-tuple sequence for multidimensional indexing is deprecated; use `arr[tuple(seq)]` instead of `arr[seq]`. In the future this will be interpreted as an array index, `arr[np.array(seq)]`, which will result either in an error or a different result.\n",
      "  return np.add.reduce(sorted[indexer] * weights, axis=axis) / sumval\n",
      "C:\\Users\\Windows\\Anaconda3\\lib\\site-packages\\numpy\\core\\_methods.py:140: RuntimeWarning: Degrees of freedom <= 0 for slice\n",
      "  keepdims=keepdims)\n",
      "C:\\Users\\Windows\\Anaconda3\\lib\\site-packages\\numpy\\core\\_methods.py:132: RuntimeWarning: invalid value encountered in double_scalars\n",
      "  ret = ret.dtype.type(ret / rcount)\n",
      "C:\\Users\\Windows\\Anaconda3\\lib\\site-packages\\statsmodels\\nonparametric\\bandwidths.py:20: RuntimeWarning: invalid value encountered in minimum\n",
      "  return np.minimum(np.std(X, axis=0, ddof=1), IQR)\n",
      "C:\\Users\\Windows\\Anaconda3\\lib\\site-packages\\numpy\\core\\fromnumeric.py:83: RuntimeWarning: invalid value encountered in reduce\n",
      "  return ufunc.reduce(obj, axis, dtype, out, **passkwargs)\n"
     ]
    },
    {
     "data": {
      "text/plain": [
       "<seaborn.axisgrid.PairGrid at 0x22f44dd4dd8>"
      ]
     },
     "execution_count": 194,
     "metadata": {},
     "output_type": "execute_result"
    },
    {
     "data": {
      "image/png": "[encoded data removed]",
      "text/plain": [
       "<Figure size 408.137x360 with 6 Axes>"
      ]
     },
     "metadata": {
      "needs_background": "light"
     },
     "output_type": "display_data"
    }
   ],
   "source": [
    "sns.pairplot(data, hue='Specialist')"
   ]
  },
  {
   "cell_type": "markdown",
   "metadata": {},
   "source": [
    "## Conclusion\n",
    "\n",
    "When the synthesised data set was analysed it was found that \n",
    "- UCD had the highest capital spend on projects in 2017.\n",
    "- The value of the average project was €498,211.\n",
    "- The average project took 41 days to complete.\n",
    "- None of the universities submitted projects for every category.\n",
    "- UCD and UL submitted the most projects in the year at 7 projects each.\n",
    "- DCU submitted the least, at only 3 projects.\n",
    "- Ann's projects were more than twice the value of any other specialist.\n",
    "- Between April and July 2017 the projects completed had the lowest capital spend.  \n",
    "\n",
    "\n",
    "In conclusion, the above synthesied data set simulates a sample of the actual capital projects submitted by Irish universities to the organisation in 2017.  It accurately simulates the categories, values and timeframes taken to complete projects.  "
   ]
  },
  {
   "cell_type": "markdown",
   "metadata": {},
   "source": [
    "## References\n",
    "\n",
    "https://www.daveoncode.com/2013/05/20/generate-random-dates-in-python-using-datetime-and-random-modules/<br>\n",
    "https://www.oreilly.com/library/view/python-data-science/9781491912126/ch04.html<br>\n",
    "https://medium.com/@1522933668924/using-matplotlib-in-jupyter-notebooks-comparing-methods-and-some-tips-python-c38e85b40ba1\n",
    "https://stackoverflow.com/questions/31029560/plotting-categorical-data-with-pandas-and-matplotlib<br>\n",
    "https://realpython.com/python-histograms/<br>\n",
    "https://stackoverflow.com/questions/34347145/pandas-plot-doesnt-show<br>\n",
    "http://queirozf.com/entries/pandas-dataframe-plot-examples-with-matplotlib-pyplot<br>\n",
    "https://stackoverflow.com/questions/47487753/when-is-it-appropriate-to-use-df-value-counts-vs-df-groupby-count<br>\n",
    "https://chrisalbon.com/python/data_wrangling/pandas_saving_dataframe_as_csv/<br>\n",
    "https://towardsdatascience.com/exploratory-data-analysis-with-pandas-and-jupyter-notebooks-36008090d813<br>\n",
    "https://medium.com/python-pandemonium/introduction-to-exploratory-data-analysis-in-python-8b6bcb55c190<br>\n",
    "http://pbpython.com/simple-graphing-pandas.html<br>\n",
    "https://stackoverflow.com/questions/50559078/generating-random-dates-within-a-given-range-in-pandas<br>\n",
    "https://pandas.pydata.org/pandas-docs/stable/visualization.html<br>\n",
    "https://www.youtube.com/watch?v=0xVqLJe9_CY <br>\n",
    "https://www.ritchieng.com/creating-dataframe-from-objects/ <br>\n",
    "https://stackoverflow.com/questions/32752292/how-to-create-a-data-frame-of-random-integers-with-pandas <br>\n",
    "https://stackoverflow.com/questions/47464362/how-to-fill-pandas-dataframe-columns-with-random-dictionary-values<br>\n",
    "https://docs.scipy.org/doc/numpy/reference/generated/numpy.random.choice.html<br>\n",
    "https://www.shanelynn.ie/using-pandas-dataframe-creating-editing-viewing-data-in-python/ <br>\n",
    "https://stackoverflow.com/questions/4394145/picking-a-random-word-in-python <br>\n",
    "https://www.pythoncentral.io/select-random-item-list-tuple-data-structure-python/ <br>\n",
    "https://datascience.stackexchange.com/questions/17540/make-seaborn-heatmap-bigger<br>"
   ]
  }
 ],
 "metadata": {
  "kernelspec": {
   "display_name": "Python 3",
   "language": "python",
   "name": "python3"
  },
  "language_info": {
   "codemirror_mode": {
    "name": "ipython",
    "version": 3
   },
   "file_extension": ".py",
   "mimetype": "text/x-python",
   "name": "python",
   "nbconvert_exporter": "python",
   "pygments_lexer": "ipython3",
   "version": "3.6.6"
  }
 },
 "nbformat": 4,
 "nbformat_minor": 2
}
